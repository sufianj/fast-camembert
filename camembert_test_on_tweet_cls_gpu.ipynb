{
 "cells": [
  {
   "cell_type": "markdown",
   "metadata": {},
   "source": [
    "### The code and data are adapted from:  https://medium.com/@vitalshchutski/french-nlp-entamez-le-camembert-avec-les-librairies-fast-bert-et-transformers-14e65f84c148"
   ]
  },
  {
   "cell_type": "code",
   "execution_count": null,
   "metadata": {},
   "outputs": [],
   "source": [
    "# !conda install torch\n",
    "# !pip install fast-bert==1.9.1\n",
    "# !mkdir model\n",
    "# !mkdir finetuned_model"
   ]
  },
  {
   "cell_type": "code",
   "execution_count": 2,
   "metadata": {},
   "outputs": [],
   "source": [
    "import torch\n",
    "from fast_bert.data_cls import BertDataBunch \n",
    "from fast_bert.learner_cls import BertLearner\n",
    "from fast_bert.data_lm import BertLMDataBunch\n",
    "from fast_bert.learner_lm import BertLMLearner\n",
    "from fast_bert.metrics import fbeta, roc_auc\n",
    "from fast_bert.prediction import BertClassificationPredictor\n",
    "import sys\n",
    "\n",
    "from pathlib import Path\n",
    "import pandas as pd\n",
    "import logging\n",
    "#create logger\n",
    "logfile = str('logfile.txt')\n",
    "\n",
    "logging.basicConfig(\n",
    "    level=logging.INFO,  #CRITICAL ERROR WARNING  INFO    DEBUG    NOTSET\n",
    "    format='%(asctime)s - %(levelname)s - %(name)s -   %(message)s',\n",
    "    datefmt='%m/%d/%Y %H:%M:%S',\n",
    "    handlers=[\n",
    "        logging.FileHandler(logfile, 'w', 'utf-8'),\n",
    "        logging.StreamHandler(sys.stdout)\n",
    "    ])\n",
    "\n",
    "logger = logging.getLogger()\n",
    "\n",
    "\n",
    "device_cuda = torch.device(\"cuda\")"
   ]
  },
  {
   "cell_type": "code",
   "execution_count": 60,
   "metadata": {},
   "outputs": [],
   "source": [
    "DATA_PATH = Path('./data/')\n",
    "LOG_PATH = Path('./logs/')\n",
    "MODEL_PATH = Path('./model/')\n",
    "LABEL_PATH = Path('./labels/')"
   ]
  },
  {
   "cell_type": "code",
   "execution_count": 10,
   "metadata": {},
   "outputs": [],
   "source": [
    "df = pd.read_csv('./data/pyrale+maïs_tweets_2019-2020_labelled.csv')"
   ]
  },
  {
   "cell_type": "code",
   "execution_count": 11,
   "metadata": {},
   "outputs": [
    {
     "name": "stdout",
     "output_type": "stream",
     "text": [
      "Nombre de commentaires dans le val_set: 53\n",
      "Nombre de commentaires dans le train_set: 213\n"
     ]
    }
   ],
   "source": [
    "val_set = df.sample(frac=0.2, replace=False, random_state=42)\n",
    "train_set = df.drop(index = val_set.index)\n",
    "print('Nombre de commentaires dans le val_set:',len(val_set))\n",
    "print('Nombre de commentaires dans le train_set:', len(train_set))\n",
    "val_set.to_csv('./data/twt_val_set.csv')\n",
    "train_set.to_csv('./data/twt_train_set.csv')"
   ]
  },
  {
   "cell_type": "code",
   "execution_count": 61,
   "metadata": {},
   "outputs": [],
   "source": [
    "labels = ['Observation']\n",
    "with open('./labels/twt_labels_1.txt', 'w') as f:\n",
    "    for i in labels:\n",
    "        f.write(i + \"\\n\")"
   ]
  },
  {
   "cell_type": "code",
   "execution_count": 67,
   "metadata": {},
   "outputs": [],
   "source": [
    "#df_texts = pd.read_csv('./data/raw_xml_bsv_0-200.csv')\n",
    "df_texts = pd.read_csv('./data/bsv_chunk256_raw_1001-1200.csv')"
   ]
  },
  {
   "cell_type": "code",
   "execution_count": 68,
   "metadata": {},
   "outputs": [],
   "source": [
    "import nltk\n",
    "import re\n",
    "\n",
    "# make all elements string\n",
    "df_texts['report_text'] = df_texts['report_text'].astype(str)\n",
    "# Remove null fields\n",
    "df_texts['report_text'] = df_texts['report_text'].apply(lambda x: ' '.join([w for w in x.split() if len(w)>3]))\n",
    "# Make all text lowercase\n",
    "df_texts['report_text'] = df_texts['report_text'].apply(lambda x: x.lower())\n",
    "# Delete stop-words => to be tesred later\n",
    "#stopwords = nltk.corpus.stopwords.words('french')\n"
   ]
  },
  {
   "cell_type": "code",
   "execution_count": 70,
   "metadata": {},
   "outputs": [
    {
     "name": "stdout",
     "output_type": "stream",
     "text": [
      "Nombre de bloc de texte: 2801\n"
     ]
    }
   ],
   "source": [
    "all_texts = df_texts['report_text'].to_list()\n",
    "print('Nombre de bloc de texte:', len(all_texts))"
   ]
  },
  {
   "cell_type": "markdown",
   "metadata": {},
   "source": [
    "### Création de LMDataBunch"
   ]
  },
  {
   "cell_type": "code",
   "execution_count": 71,
   "metadata": {},
   "outputs": [
    {
     "name": "stdout",
     "output_type": "stream",
     "text": [
      "08/30/2021 20:16:53 - INFO - root -   Formatting corpus for data\\lm_train.txt\n"
     ]
    },
    {
     "data": {
      "text/html": [
       "\n",
       "    <div>\n",
       "        <style>\n",
       "            /* Turns off some styling */\n",
       "            progress {\n",
       "                /* gets rid of default border in Firefox and Opera. */\n",
       "                border: none;\n",
       "                /* Needs to be in here for Safari polyfill so background images work as expected. */\n",
       "                background-size: auto;\n",
       "            }\n",
       "            .progress-bar-interrupted, .progress-bar-interrupted::-webkit-progress-bar {\n",
       "                background: #F44336;\n",
       "            }\n",
       "        </style>\n",
       "      <progress value='2520' class='' max='2520' style='width:300px; height:20px; vertical-align: middle;'></progress>\n",
       "      100.00% [2520/2520 00:00<00:00]\n",
       "    </div>\n",
       "    "
      ],
      "text/plain": [
       "<IPython.core.display.HTML object>"
      ]
     },
     "metadata": {},
     "output_type": "display_data"
    },
    {
     "name": "stdout",
     "output_type": "stream",
     "text": [
      "08/30/2021 20:16:53 - INFO - root -   Formatting corpus for data\\lm_val.txt\n"
     ]
    },
    {
     "data": {
      "text/html": [
       "\n",
       "    <div>\n",
       "        <style>\n",
       "            /* Turns off some styling */\n",
       "            progress {\n",
       "                /* gets rid of default border in Firefox and Opera. */\n",
       "                border: none;\n",
       "                /* Needs to be in here for Safari polyfill so background images work as expected. */\n",
       "                background-size: auto;\n",
       "            }\n",
       "            .progress-bar-interrupted, .progress-bar-interrupted::-webkit-progress-bar {\n",
       "                background: #F44336;\n",
       "            }\n",
       "        </style>\n",
       "      <progress value='281' class='' max='281' style='width:300px; height:20px; vertical-align: middle;'></progress>\n",
       "      100.00% [281/281 00:00<00:00]\n",
       "    </div>\n",
       "    "
      ],
      "text/plain": [
       "<IPython.core.display.HTML object>"
      ]
     },
     "metadata": {},
     "output_type": "display_data"
    },
    {
     "name": "stdout",
     "output_type": "stream",
     "text": [
      "08/30/2021 20:16:54 - INFO - transformers.tokenization_utils_base -   loading file https://s3.amazonaws.com/models.huggingface.co/bert/camembert-base-sentencepiece.bpe.model from cache at C:\\Users\\Shufan/.cache\\torch\\transformers\\3715e3a4a2de48834619b2a6f48979e13ddff5cabfb1f3409db689f9ce3bb98f.28d30f926f545047fc59da64289371eef0fbdc0764ce9ec56f808a646fcfec59\n",
      "08/30/2021 20:16:54 - INFO - root -   Loading features from cached file data\\lm_cache\\cached_camembert-base_train_256\n",
      "08/30/2021 20:16:54 - INFO - root -   Loading features from cached file data\\lm_cache\\cached_camembert-base_dev_256\n"
     ]
    }
   ],
   "source": [
    "databunch_lm = BertLMDataBunch.from_raw_corpus(\n",
    "                    data_dir=DATA_PATH,\n",
    "                    text_list=all_texts,\n",
    "                    tokenizer='camembert-base',\n",
    "                    batch_size_per_gpu=4, #was 16, even 8 won't do\n",
    "                    max_seq_length=256, #was 512\n",
    "                    multi_gpu=False,\n",
    "                    model_type='camembert-base',\n",
    "                    logger=logger)"
   ]
  },
  {
   "cell_type": "markdown",
   "metadata": {},
   "source": [
    "### Création de LMLearner"
   ]
  },
  {
   "cell_type": "code",
   "execution_count": 72,
   "metadata": {},
   "outputs": [
    {
     "name": "stdout",
     "output_type": "stream",
     "text": [
      "08/30/2021 20:17:36 - INFO - transformers.configuration_utils -   loading configuration file https://s3.amazonaws.com/models.huggingface.co/bert/camembert-base-config.json from cache at C:\\Users\\Shufan/.cache\\torch\\transformers\\5152a7b8b97da26abdad9b3babb600e77c52a002331ea52a9eaf96ea8b31ef8f.5bd7a9a60b9a2d311368226259eaf870cfb2248e0752f28b444ec112977cf8fc\n",
      "08/30/2021 20:17:36 - INFO - transformers.configuration_utils -   Model config CamembertConfig {\n",
      "  \"architectures\": [\n",
      "    \"CamembertForMaskedLM\"\n",
      "  ],\n",
      "  \"attention_probs_dropout_prob\": 0.1,\n",
      "  \"bos_token_id\": 5,\n",
      "  \"eos_token_id\": 6,\n",
      "  \"gradient_checkpointing\": false,\n",
      "  \"hidden_act\": \"gelu\",\n",
      "  \"hidden_dropout_prob\": 0.1,\n",
      "  \"hidden_size\": 768,\n",
      "  \"initializer_range\": 0.02,\n",
      "  \"intermediate_size\": 3072,\n",
      "  \"layer_norm_eps\": 1e-05,\n",
      "  \"max_position_embeddings\": 514,\n",
      "  \"model_type\": \"camembert\",\n",
      "  \"num_attention_heads\": 12,\n",
      "  \"num_hidden_layers\": 12,\n",
      "  \"output_past\": true,\n",
      "  \"pad_token_id\": 1,\n",
      "  \"type_vocab_size\": 1,\n",
      "  \"vocab_size\": 32005\n",
      "}\n",
      "\n",
      "08/30/2021 20:17:36 - INFO - transformers.modeling_utils -   loading weights file https://cdn.huggingface.co/camembert-base-pytorch_model.bin from cache at C:\\Users\\Shufan/.cache\\torch\\transformers\\ee2c065a25e8f42cb2c52eb565b1d3757a20cf9776e93753bab41493298d70f9.b064d06bc988544d63f563021dbacad6eda41bd45190b6186beb8ebbc959013c\n",
      "08/30/2021 20:17:39 - INFO - transformers.modeling_utils -   All model checkpoint weights were used when initializing CamembertForMaskedLM.\n",
      "\n",
      "08/30/2021 20:17:39 - WARNING - transformers.modeling_utils -   Some weights of CamembertForMaskedLM were not initialized from the model checkpoint at camembert-base and are newly initialized: ['lm_head.decoder.bias']\n",
      "You should probably TRAIN this model on a down-stream task to be able to use it for predictions and inference.\n"
     ]
    }
   ],
   "source": [
    "lm_learner = BertLMLearner.from_pretrained_model(\n",
    "                            dataBunch=databunch_lm,\n",
    "                            pretrained_path='camembert-base',\n",
    "                            output_dir=MODEL_PATH,\n",
    "                            metrics=[],\n",
    "                            device=device_cuda,\n",
    "                            logger=logger,\n",
    "                            multi_gpu=False,\n",
    "                            logging_steps=50,\n",
    "                            is_fp16=False) #was true with gpu"
   ]
  },
  {
   "cell_type": "code",
   "execution_count": 73,
   "metadata": {},
   "outputs": [
    {
     "name": "stdout",
     "output_type": "stream",
     "text": [
      "08/30/2021 20:19:19 - INFO - root -   ***** Running training *****\n",
      "08/30/2021 20:19:19 - INFO - root -     Num examples = 281\n",
      "08/30/2021 20:19:19 - INFO - root -     Num Epochs = 2\n",
      "08/30/2021 20:19:19 - INFO - root -     Total train batch size (w. parallel, distributed & accumulation) = 4\n",
      "08/30/2021 20:19:19 - INFO - root -     Gradient Accumulation steps = 1\n",
      "08/30/2021 20:19:19 - INFO - root -     Total optimization steps = 142\n"
     ]
    },
    {
     "data": {
      "text/html": [],
      "text/plain": [
       "<IPython.core.display.HTML object>"
      ]
     },
     "metadata": {},
     "output_type": "display_data"
    },
    {
     "name": "stdout",
     "output_type": "stream",
     "text": [
      "08/30/2021 20:19:29 - INFO - root -   Running evaluation\n",
      "08/30/2021 20:19:29 - INFO - root -   Num examples = 28\n",
      "08/30/2021 20:19:29 - INFO - root -   Validation Batch size = 8\n"
     ]
    },
    {
     "data": {
      "text/html": [
       "\n",
       "    <div>\n",
       "        <style>\n",
       "            /* Turns off some styling */\n",
       "            progress {\n",
       "                /* gets rid of default border in Firefox and Opera. */\n",
       "                border: none;\n",
       "                /* Needs to be in here for Safari polyfill so background images work as expected. */\n",
       "                background-size: auto;\n",
       "            }\n",
       "            .progress-bar-interrupted, .progress-bar-interrupted::-webkit-progress-bar {\n",
       "                background: #F44336;\n",
       "            }\n",
       "        </style>\n",
       "      <progress value='4' class='' max='4' style='width:300px; height:20px; vertical-align: middle;'></progress>\n",
       "      100.00% [4/4 00:00<00:00]\n",
       "    </div>\n",
       "    "
      ],
      "text/plain": [
       "<IPython.core.display.HTML object>"
      ]
     },
     "metadata": {},
     "output_type": "display_data"
    },
    {
     "name": "stdout",
     "output_type": "stream",
     "text": [
      "08/30/2021 20:19:29 - INFO - root -   eval_loss after step 50: 0.14754392579197884: \n",
      "08/30/2021 20:19:29 - INFO - root -   eval_perplexity after step 50: 1.1589841842651367: \n",
      "08/30/2021 20:19:29 - INFO - root -   lr after step 50: 7.240333919937893e-05\n",
      "08/30/2021 20:19:29 - INFO - root -   train_loss after step 50: 3.683648777008057\n"
     ]
    },
    {
     "name": "stderr",
     "output_type": "stream",
     "text": [
      "C:\\Users\\Shufan\\tools\\anaconda3\\lib\\site-packages\\torch\\optim\\lr_scheduler.py:247: UserWarning: To get the last learning rate computed by the scheduler, please use `get_last_lr()`.\n",
      "  warnings.warn(\"To get the last learning rate computed by the scheduler, \"\n"
     ]
    },
    {
     "name": "stdout",
     "output_type": "stream",
     "text": [
      "08/30/2021 20:19:34 - INFO - root -   Running evaluation\n",
      "08/30/2021 20:19:34 - INFO - root -   Num examples = 28\n",
      "08/30/2021 20:19:34 - INFO - root -   Validation Batch size = 8\n"
     ]
    },
    {
     "data": {
      "text/html": [
       "\n",
       "    <div>\n",
       "        <style>\n",
       "            /* Turns off some styling */\n",
       "            progress {\n",
       "                /* gets rid of default border in Firefox and Opera. */\n",
       "                border: none;\n",
       "                /* Needs to be in here for Safari polyfill so background images work as expected. */\n",
       "                background-size: auto;\n",
       "            }\n",
       "            .progress-bar-interrupted, .progress-bar-interrupted::-webkit-progress-bar {\n",
       "                background: #F44336;\n",
       "            }\n",
       "        </style>\n",
       "      <progress value='4' class='' max='4' style='width:300px; height:20px; vertical-align: middle;'></progress>\n",
       "      100.00% [4/4 00:00<00:00]\n",
       "    </div>\n",
       "    "
      ],
      "text/plain": [
       "<IPython.core.display.HTML object>"
      ]
     },
     "metadata": {},
     "output_type": "display_data"
    },
    {
     "name": "stdout",
     "output_type": "stream",
     "text": [
      "08/30/2021 20:19:34 - INFO - root -   eval_loss after epoch 1: 0.16351912170648575: \n",
      "08/30/2021 20:19:34 - INFO - root -   eval_perplexity after epoch 1: 1.1776478290557861: \n",
      "08/30/2021 20:19:34 - INFO - root -   lr after epoch 1: 5e-05\n",
      "08/30/2021 20:19:34 - INFO - root -   train_loss after epoch 1: 3.536128430299356\n",
      "08/30/2021 20:19:34 - INFO - root -   \n",
      "\n",
      "08/30/2021 20:19:40 - INFO - root -   Running evaluation\n",
      "08/30/2021 20:19:40 - INFO - root -   Num examples = 28\n",
      "08/30/2021 20:19:40 - INFO - root -   Validation Batch size = 8\n"
     ]
    },
    {
     "data": {
      "text/html": [
       "\n",
       "    <div>\n",
       "        <style>\n",
       "            /* Turns off some styling */\n",
       "            progress {\n",
       "                /* gets rid of default border in Firefox and Opera. */\n",
       "                border: none;\n",
       "                /* Needs to be in here for Safari polyfill so background images work as expected. */\n",
       "                background-size: auto;\n",
       "            }\n",
       "            .progress-bar-interrupted, .progress-bar-interrupted::-webkit-progress-bar {\n",
       "                background: #F44336;\n",
       "            }\n",
       "        </style>\n",
       "      <progress value='4' class='' max='4' style='width:300px; height:20px; vertical-align: middle;'></progress>\n",
       "      100.00% [4/4 00:00<00:00]\n",
       "    </div>\n",
       "    "
      ],
      "text/plain": [
       "<IPython.core.display.HTML object>"
      ]
     },
     "metadata": {},
     "output_type": "display_data"
    },
    {
     "name": "stdout",
     "output_type": "stream",
     "text": [
      "08/30/2021 20:19:40 - INFO - root -   eval_loss after step 100: 0.15777598693966866: \n",
      "08/30/2021 20:19:40 - INFO - root -   eval_perplexity after step 100: 1.1709039211273193: \n",
      "08/30/2021 20:19:40 - INFO - root -   lr after step 100: 2.0076384291297134e-05\n",
      "08/30/2021 20:19:40 - INFO - root -   train_loss after step 100: 3.1521368074417113\n",
      "08/30/2021 20:19:48 - INFO - root -   Running evaluation\n",
      "08/30/2021 20:19:48 - INFO - root -   Num examples = 28\n",
      "08/30/2021 20:19:48 - INFO - root -   Validation Batch size = 8\n"
     ]
    },
    {
     "data": {
      "text/html": [
       "\n",
       "    <div>\n",
       "        <style>\n",
       "            /* Turns off some styling */\n",
       "            progress {\n",
       "                /* gets rid of default border in Firefox and Opera. */\n",
       "                border: none;\n",
       "                /* Needs to be in here for Safari polyfill so background images work as expected. */\n",
       "                background-size: auto;\n",
       "            }\n",
       "            .progress-bar-interrupted, .progress-bar-interrupted::-webkit-progress-bar {\n",
       "                background: #F44336;\n",
       "            }\n",
       "        </style>\n",
       "      <progress value='4' class='' max='4' style='width:300px; height:20px; vertical-align: middle;'></progress>\n",
       "      100.00% [4/4 00:00<00:00]\n",
       "    </div>\n",
       "    "
      ],
      "text/plain": [
       "<IPython.core.display.HTML object>"
      ]
     },
     "metadata": {},
     "output_type": "display_data"
    },
    {
     "name": "stdout",
     "output_type": "stream",
     "text": [
      "08/30/2021 20:19:49 - INFO - root -   eval_loss after epoch 2: 0.14986704289913177: \n",
      "08/30/2021 20:19:49 - INFO - root -   eval_perplexity after epoch 2: 1.161679744720459: \n",
      "08/30/2021 20:19:49 - INFO - root -   lr after epoch 2: 0.0\n",
      "08/30/2021 20:19:49 - INFO - root -   train_loss after epoch 2: 3.0767343245761496\n",
      "08/30/2021 20:19:49 - INFO - root -   \n",
      "\n"
     ]
    },
    {
     "data": {
      "text/plain": [
       "(142, 3.306431377437753)"
      ]
     },
     "execution_count": 73,
     "metadata": {},
     "output_type": "execute_result"
    }
   ],
   "source": [
    "lm_learner.fit(epochs=2, #was 30\n",
    "            lr=1e-4,\n",
    "            validate=True,\n",
    "            schedule_type=\"warmup_cosine\",\n",
    "            optimizer_type=\"adamw\")"
   ]
  },
  {
   "cell_type": "code",
   "execution_count": 74,
   "metadata": {},
   "outputs": [
    {
     "name": "stdout",
     "output_type": "stream",
     "text": [
      "08/30/2021 20:21:56 - INFO - root -   Running evaluation\n",
      "08/30/2021 20:21:56 - INFO - root -   Num examples = 28\n",
      "08/30/2021 20:21:56 - INFO - root -   Validation Batch size = 8\n"
     ]
    },
    {
     "data": {
      "text/html": [
       "\n",
       "    <div>\n",
       "        <style>\n",
       "            /* Turns off some styling */\n",
       "            progress {\n",
       "                /* gets rid of default border in Firefox and Opera. */\n",
       "                border: none;\n",
       "                /* Needs to be in here for Safari polyfill so background images work as expected. */\n",
       "                background-size: auto;\n",
       "            }\n",
       "            .progress-bar-interrupted, .progress-bar-interrupted::-webkit-progress-bar {\n",
       "                background: #F44336;\n",
       "            }\n",
       "        </style>\n",
       "      <progress value='4' class='' max='4' style='width:300px; height:20px; vertical-align: middle;'></progress>\n",
       "      100.00% [4/4 00:00<00:00]\n",
       "    </div>\n",
       "    "
      ],
      "text/plain": [
       "<IPython.core.display.HTML object>"
      ]
     },
     "metadata": {},
     "output_type": "display_data"
    },
    {
     "data": {
      "text/plain": [
       "{'loss': 0.1531503163278103, 'perplexity': 1.1655001640319824}"
      ]
     },
     "execution_count": 74,
     "metadata": {},
     "output_type": "execute_result"
    }
   ],
   "source": [
    "lm_learner.validate()"
   ]
  },
  {
   "cell_type": "code",
   "execution_count": 75,
   "metadata": {},
   "outputs": [
    {
     "name": "stdout",
     "output_type": "stream",
     "text": [
      "08/30/2021 20:23:00 - INFO - transformers.configuration_utils -   Configuration saved in model\\model_out\\config.json\n",
      "08/30/2021 20:23:00 - INFO - transformers.modeling_utils -   Model weights saved in model\\model_out\\pytorch_model.bin\n"
     ]
    }
   ],
   "source": [
    "lm_learner.save_model()"
   ]
  },
  {
   "cell_type": "code",
   "execution_count": 76,
   "metadata": {},
   "outputs": [],
   "source": [
    "del lm_learner"
   ]
  },
  {
   "cell_type": "markdown",
   "metadata": {},
   "source": [
    "### Création de databunch pour la classification"
   ]
  },
  {
   "cell_type": "code",
   "execution_count": 77,
   "metadata": {},
   "outputs": [
    {
     "name": "stdout",
     "output_type": "stream",
     "text": [
      "08/30/2021 20:23:12 - INFO - transformers.configuration_utils -   loading configuration file https://s3.amazonaws.com/models.huggingface.co/bert/camembert-base-config.json from cache at C:\\Users\\Shufan/.cache\\torch\\transformers\\5152a7b8b97da26abdad9b3babb600e77c52a002331ea52a9eaf96ea8b31ef8f.5bd7a9a60b9a2d311368226259eaf870cfb2248e0752f28b444ec112977cf8fc\n",
      "08/30/2021 20:23:12 - INFO - transformers.configuration_utils -   Model config CamembertConfig {\n",
      "  \"architectures\": [\n",
      "    \"CamembertForMaskedLM\"\n",
      "  ],\n",
      "  \"attention_probs_dropout_prob\": 0.1,\n",
      "  \"bos_token_id\": 5,\n",
      "  \"eos_token_id\": 6,\n",
      "  \"gradient_checkpointing\": false,\n",
      "  \"hidden_act\": \"gelu\",\n",
      "  \"hidden_dropout_prob\": 0.1,\n",
      "  \"hidden_size\": 768,\n",
      "  \"initializer_range\": 0.02,\n",
      "  \"intermediate_size\": 3072,\n",
      "  \"layer_norm_eps\": 1e-05,\n",
      "  \"max_position_embeddings\": 514,\n",
      "  \"model_type\": \"camembert\",\n",
      "  \"num_attention_heads\": 12,\n",
      "  \"num_hidden_layers\": 12,\n",
      "  \"output_past\": true,\n",
      "  \"pad_token_id\": 1,\n",
      "  \"type_vocab_size\": 1,\n",
      "  \"vocab_size\": 32005\n",
      "}\n",
      "\n",
      "08/30/2021 20:23:12 - INFO - transformers.tokenization_utils_base -   loading file https://s3.amazonaws.com/models.huggingface.co/bert/camembert-base-sentencepiece.bpe.model from cache at C:\\Users\\Shufan/.cache\\torch\\transformers\\3715e3a4a2de48834619b2a6f48979e13ddff5cabfb1f3409db689f9ce3bb98f.28d30f926f545047fc59da64289371eef0fbdc0764ce9ec56f808a646fcfec59\n",
      "08/30/2021 20:23:12 - INFO - root -   Loading features from cached file data\\cache\\cached_camembert-base_train_multi_label_256_twt_train_set.csv\n",
      "08/30/2021 20:23:12 - INFO - root -   Loading features from cached file data\\cache\\cached_camembert-base_dev_multi_label_256_twt_val_set.csv\n"
     ]
    }
   ],
   "source": [
    "databunch = BertDataBunch(DATA_PATH, LABEL_PATH,\n",
    "                          tokenizer='camembert-base',\n",
    "                          train_file='twt_train_set.csv',\n",
    "                          val_file='twt_val_set.csv',\n",
    "                          label_file='twt_labels_1.txt',\n",
    "                          text_col='text',\n",
    "                          label_col=['Observation'],\n",
    "                          batch_size_per_gpu=8,\n",
    "                          max_seq_length=256,\n",
    "                          multi_gpu=False,\n",
    "                          multi_label=True,\n",
    "                          model_type='camembert-base')"
   ]
  },
  {
   "cell_type": "markdown",
   "metadata": {},
   "source": [
    "### Création de Learner"
   ]
  },
  {
   "cell_type": "code",
   "execution_count": 78,
   "metadata": {},
   "outputs": [],
   "source": [
    "from fast_bert.metrics import roc_auc, accuracy_thresh, F1, fbeta, confusion_matrix\n",
    "\n",
    "metrics = [{'name': 'fbeta', 'function': fbeta},\n",
    "           {'name': 'roc_auc', 'function': roc_auc}\n",
    "          ]\n",
    "OUTPUT_DIR = Path('./twt_cls_model')\n",
    "WGTS_PATH = Path('model/model_out/pytorch_model.bin')"
   ]
  },
  {
   "cell_type": "code",
   "execution_count": 79,
   "metadata": {},
   "outputs": [
    {
     "name": "stdout",
     "output_type": "stream",
     "text": [
      "08/30/2021 20:24:05 - INFO - transformers.configuration_utils -   loading configuration file model/model_out\\config.json\n",
      "08/30/2021 20:24:05 - INFO - transformers.configuration_utils -   Model config CamembertConfig {\n",
      "  \"architectures\": [\n",
      "    \"CamembertForMaskedLM\"\n",
      "  ],\n",
      "  \"attention_probs_dropout_prob\": 0.1,\n",
      "  \"bos_token_id\": 5,\n",
      "  \"eos_token_id\": 6,\n",
      "  \"gradient_checkpointing\": false,\n",
      "  \"hidden_act\": \"gelu\",\n",
      "  \"hidden_dropout_prob\": 0.1,\n",
      "  \"hidden_size\": 768,\n",
      "  \"id2label\": {\n",
      "    \"0\": \"LABEL_0\"\n",
      "  },\n",
      "  \"initializer_range\": 0.02,\n",
      "  \"intermediate_size\": 3072,\n",
      "  \"label2id\": {\n",
      "    \"LABEL_0\": 0\n",
      "  },\n",
      "  \"layer_norm_eps\": 1e-05,\n",
      "  \"max_position_embeddings\": 514,\n",
      "  \"model_type\": \"camembert\",\n",
      "  \"num_attention_heads\": 12,\n",
      "  \"num_hidden_layers\": 12,\n",
      "  \"output_past\": true,\n",
      "  \"pad_token_id\": 1,\n",
      "  \"type_vocab_size\": 1,\n",
      "  \"vocab_size\": 32005\n",
      "}\n",
      "\n",
      "08/30/2021 20:24:05 - INFO - transformers.modeling_utils -   loading weights file model/model_out\\pytorch_model.bin\n",
      "08/30/2021 20:24:07 - WARNING - transformers.modeling_utils -   Some weights of the model checkpoint at model/model_out were not used when initializing CamembertForMultiLabelSequenceClassification: ['lm_head.bias', 'lm_head.dense.weight', 'lm_head.dense.bias', 'lm_head.layer_norm.weight', 'lm_head.layer_norm.bias', 'lm_head.decoder.weight', 'lm_head.decoder.bias']\n",
      "- This IS expected if you are initializing CamembertForMultiLabelSequenceClassification from the checkpoint of a model trained on another task or with another architecture (e.g. initializing a BertForSequenceClassification model from a BertForPretraining model).\n",
      "- This IS NOT expected if you are initializing CamembertForMultiLabelSequenceClassification from the checkpoint of a model that you expect to be exactly identical (initializing a BertForSequenceClassification model from a BertForSequenceClassification model).\n",
      "08/30/2021 20:24:07 - WARNING - transformers.modeling_utils -   Some weights of CamembertForMultiLabelSequenceClassification were not initialized from the model checkpoint at model/model_out and are newly initialized: ['classifier.dense.weight', 'classifier.dense.bias', 'classifier.out_proj.weight', 'classifier.out_proj.bias']\n",
      "You should probably TRAIN this model on a down-stream task to be able to use it for predictions and inference.\n"
     ]
    }
   ],
   "source": [
    "# issue fast-bert pos_weight <= downgrade to 1.9.1 solve the prob\n",
    "cl_learner = BertLearner.from_pretrained_model(\n",
    "                        databunch,\n",
    "                        pretrained_path='model/model_out',\n",
    "                        metrics=metrics,\n",
    "                        device=device_cuda, #was device_cuda\n",
    "                        logger=logger,\n",
    "                        output_dir=OUTPUT_DIR,\n",
    "                        finetuned_wgts_path=WGTS_PATH,\n",
    "                        warmup_steps=300,\n",
    "                        multi_gpu=False,\n",
    "                        multi_label=True,\n",
    "                        is_fp16=False,#True when is cuda\n",
    "                        logging_steps=50)"
   ]
  },
  {
   "cell_type": "code",
   "execution_count": 80,
   "metadata": {},
   "outputs": [
    {
     "name": "stdout",
     "output_type": "stream",
     "text": [
      "08/30/2021 20:24:19 - INFO - root -   ***** Running training *****\n",
      "08/30/2021 20:24:19 - INFO - root -     Num examples = 213\n",
      "08/30/2021 20:24:19 - INFO - root -     Num Epochs = 10\n",
      "08/30/2021 20:24:19 - INFO - root -     Total train batch size (w. parallel, distributed & accumulation) = 8\n",
      "08/30/2021 20:24:19 - INFO - root -     Gradient Accumulation steps = 1\n",
      "08/30/2021 20:24:19 - INFO - root -     Total optimization steps = 270\n"
     ]
    },
    {
     "data": {
      "text/html": [],
      "text/plain": [
       "<IPython.core.display.HTML object>"
      ]
     },
     "metadata": {},
     "output_type": "display_data"
    },
    {
     "name": "stdout",
     "output_type": "stream",
     "text": [
      "08/30/2021 20:24:21 - INFO - root -   Running evaluation\n",
      "08/30/2021 20:24:21 - INFO - root -     Num examples = 53\n",
      "08/30/2021 20:24:21 - INFO - root -     Batch size = 16\n"
     ]
    },
    {
     "data": {
      "text/html": [
       "\n",
       "    <div>\n",
       "        <style>\n",
       "            /* Turns off some styling */\n",
       "            progress {\n",
       "                /* gets rid of default border in Firefox and Opera. */\n",
       "                border: none;\n",
       "                /* Needs to be in here for Safari polyfill so background images work as expected. */\n",
       "                background-size: auto;\n",
       "            }\n",
       "            .progress-bar-interrupted, .progress-bar-interrupted::-webkit-progress-bar {\n",
       "                background: #F44336;\n",
       "            }\n",
       "        </style>\n",
       "      <progress value='4' class='' max='4' style='width:300px; height:20px; vertical-align: middle;'></progress>\n",
       "      100.00% [4/4 00:00<00:00]\n",
       "    </div>\n",
       "    "
      ],
      "text/plain": [
       "<IPython.core.display.HTML object>"
      ]
     },
     "metadata": {},
     "output_type": "display_data"
    },
    {
     "name": "stdout",
     "output_type": "stream",
     "text": [
      "08/30/2021 20:24:21 - INFO - root -   eval_loss after epoch 1: 0.6761570870876312: \n",
      "08/30/2021 20:24:21 - INFO - root -   eval_fbeta after epoch 1: 0.1320754736661911: \n",
      "08/30/2021 20:24:21 - INFO - root -   eval_roc_auc after epoch 1: 0.7049689440993789: \n",
      "08/30/2021 20:24:21 - INFO - root -   lr after epoch 1: 1.8000000000000001e-06\n",
      "08/30/2021 20:24:21 - INFO - root -   train_loss after epoch 1: 0.6917647542776885\n",
      "08/30/2021 20:24:21 - INFO - root -   \n",
      "\n"
     ]
    },
    {
     "name": "stderr",
     "output_type": "stream",
     "text": [
      "C:\\Users\\Shufan\\tools\\anaconda3\\lib\\site-packages\\torch\\optim\\lr_scheduler.py:247: UserWarning: To get the last learning rate computed by the scheduler, please use `get_last_lr()`.\n",
      "  warnings.warn(\"To get the last learning rate computed by the scheduler, \"\n"
     ]
    },
    {
     "name": "stdout",
     "output_type": "stream",
     "text": [
      "08/30/2021 20:24:23 - INFO - root -   Running evaluation\n",
      "08/30/2021 20:24:23 - INFO - root -     Num examples = 53\n",
      "08/30/2021 20:24:23 - INFO - root -     Batch size = 16\n"
     ]
    },
    {
     "data": {
      "text/html": [
       "\n",
       "    <div>\n",
       "        <style>\n",
       "            /* Turns off some styling */\n",
       "            progress {\n",
       "                /* gets rid of default border in Firefox and Opera. */\n",
       "                border: none;\n",
       "                /* Needs to be in here for Safari polyfill so background images work as expected. */\n",
       "                background-size: auto;\n",
       "            }\n",
       "            .progress-bar-interrupted, .progress-bar-interrupted::-webkit-progress-bar {\n",
       "                background: #F44336;\n",
       "            }\n",
       "        </style>\n",
       "      <progress value='4' class='' max='4' style='width:300px; height:20px; vertical-align: middle;'></progress>\n",
       "      100.00% [4/4 00:00<00:00]\n",
       "    </div>\n",
       "    "
      ],
      "text/plain": [
       "<IPython.core.display.HTML object>"
      ]
     },
     "metadata": {},
     "output_type": "display_data"
    },
    {
     "name": "stdout",
     "output_type": "stream",
     "text": [
      "08/30/2021 20:24:23 - INFO - root -   eval_loss after step 50: 0.6357951015233994: \n",
      "08/30/2021 20:24:23 - INFO - root -   eval_fbeta after step 50: 0.1320754736661911: \n",
      "08/30/2021 20:24:23 - INFO - root -   eval_roc_auc after step 50: 0.670807453416149: \n",
      "08/30/2021 20:24:23 - INFO - root -   lr after step 50: 3.3333333333333333e-06\n",
      "08/30/2021 20:24:23 - INFO - root -   train_loss after step 50: 0.6830101251602173\n"
     ]
    },
    {
     "name": "stderr",
     "output_type": "stream",
     "text": [
      "C:\\Users\\Shufan\\tools\\anaconda3\\lib\\site-packages\\torch\\optim\\lr_scheduler.py:247: UserWarning: To get the last learning rate computed by the scheduler, please use `get_last_lr()`.\n",
      "  warnings.warn(\"To get the last learning rate computed by the scheduler, \"\n"
     ]
    },
    {
     "name": "stdout",
     "output_type": "stream",
     "text": [
      "08/30/2021 20:24:24 - INFO - root -   Running evaluation\n",
      "08/30/2021 20:24:24 - INFO - root -     Num examples = 53\n",
      "08/30/2021 20:24:24 - INFO - root -     Batch size = 16\n"
     ]
    },
    {
     "data": {
      "text/html": [
       "\n",
       "    <div>\n",
       "        <style>\n",
       "            /* Turns off some styling */\n",
       "            progress {\n",
       "                /* gets rid of default border in Firefox and Opera. */\n",
       "                border: none;\n",
       "                /* Needs to be in here for Safari polyfill so background images work as expected. */\n",
       "                background-size: auto;\n",
       "            }\n",
       "            .progress-bar-interrupted, .progress-bar-interrupted::-webkit-progress-bar {\n",
       "                background: #F44336;\n",
       "            }\n",
       "        </style>\n",
       "      <progress value='4' class='' max='4' style='width:300px; height:20px; vertical-align: middle;'></progress>\n",
       "      100.00% [4/4 00:00<00:00]\n",
       "    </div>\n",
       "    "
      ],
      "text/plain": [
       "<IPython.core.display.HTML object>"
      ]
     },
     "metadata": {},
     "output_type": "display_data"
    },
    {
     "name": "stdout",
     "output_type": "stream",
     "text": [
      "08/30/2021 20:24:24 - INFO - root -   eval_loss after epoch 2: 0.6256362497806549: \n",
      "08/30/2021 20:24:24 - INFO - root -   eval_fbeta after epoch 2: 0.1320754736661911: \n",
      "08/30/2021 20:24:24 - INFO - root -   eval_roc_auc after epoch 2: 0.65527950310559: \n",
      "08/30/2021 20:24:24 - INFO - root -   lr after epoch 2: 3.6000000000000003e-06\n",
      "08/30/2021 20:24:24 - INFO - root -   train_loss after epoch 2: 0.6682611328584177\n",
      "08/30/2021 20:24:24 - INFO - root -   \n",
      "\n"
     ]
    },
    {
     "name": "stderr",
     "output_type": "stream",
     "text": [
      "C:\\Users\\Shufan\\tools\\anaconda3\\lib\\site-packages\\torch\\optim\\lr_scheduler.py:247: UserWarning: To get the last learning rate computed by the scheduler, please use `get_last_lr()`.\n",
      "  warnings.warn(\"To get the last learning rate computed by the scheduler, \"\n"
     ]
    },
    {
     "name": "stdout",
     "output_type": "stream",
     "text": [
      "08/30/2021 20:24:26 - INFO - root -   Running evaluation\n",
      "08/30/2021 20:24:26 - INFO - root -     Num examples = 53\n",
      "08/30/2021 20:24:26 - INFO - root -     Batch size = 16\n"
     ]
    },
    {
     "data": {
      "text/html": [
       "\n",
       "    <div>\n",
       "        <style>\n",
       "            /* Turns off some styling */\n",
       "            progress {\n",
       "                /* gets rid of default border in Firefox and Opera. */\n",
       "                border: none;\n",
       "                /* Needs to be in here for Safari polyfill so background images work as expected. */\n",
       "                background-size: auto;\n",
       "            }\n",
       "            .progress-bar-interrupted, .progress-bar-interrupted::-webkit-progress-bar {\n",
       "                background: #F44336;\n",
       "            }\n",
       "        </style>\n",
       "      <progress value='4' class='' max='4' style='width:300px; height:20px; vertical-align: middle;'></progress>\n",
       "      100.00% [4/4 00:00<00:00]\n",
       "    </div>\n",
       "    "
      ],
      "text/plain": [
       "<IPython.core.display.HTML object>"
      ]
     },
     "metadata": {},
     "output_type": "display_data"
    },
    {
     "name": "stdout",
     "output_type": "stream",
     "text": [
      "08/30/2021 20:24:26 - INFO - root -   eval_loss after epoch 3: 0.5546899139881134: \n",
      "08/30/2021 20:24:26 - INFO - root -   eval_fbeta after epoch 3: 0.1320754736661911: \n",
      "08/30/2021 20:24:26 - INFO - root -   eval_roc_auc after epoch 3: 0.577639751552795: \n",
      "08/30/2021 20:24:26 - INFO - root -   lr after epoch 3: 5.400000000000001e-06\n",
      "08/30/2021 20:24:26 - INFO - root -   train_loss after epoch 3: 0.6338703676506325\n",
      "08/30/2021 20:24:26 - INFO - root -   \n",
      "\n"
     ]
    },
    {
     "name": "stderr",
     "output_type": "stream",
     "text": [
      "C:\\Users\\Shufan\\tools\\anaconda3\\lib\\site-packages\\torch\\optim\\lr_scheduler.py:247: UserWarning: To get the last learning rate computed by the scheduler, please use `get_last_lr()`.\n",
      "  warnings.warn(\"To get the last learning rate computed by the scheduler, \"\n"
     ]
    },
    {
     "name": "stdout",
     "output_type": "stream",
     "text": [
      "08/30/2021 20:24:28 - INFO - root -   Running evaluation\n",
      "08/30/2021 20:24:28 - INFO - root -     Num examples = 53\n",
      "08/30/2021 20:24:28 - INFO - root -     Batch size = 16\n"
     ]
    },
    {
     "data": {
      "text/html": [
       "\n",
       "    <div>\n",
       "        <style>\n",
       "            /* Turns off some styling */\n",
       "            progress {\n",
       "                /* gets rid of default border in Firefox and Opera. */\n",
       "                border: none;\n",
       "                /* Needs to be in here for Safari polyfill so background images work as expected. */\n",
       "                background-size: auto;\n",
       "            }\n",
       "            .progress-bar-interrupted, .progress-bar-interrupted::-webkit-progress-bar {\n",
       "                background: #F44336;\n",
       "            }\n",
       "        </style>\n",
       "      <progress value='4' class='' max='4' style='width:300px; height:20px; vertical-align: middle;'></progress>\n",
       "      100.00% [4/4 00:00<00:00]\n",
       "    </div>\n",
       "    "
      ],
      "text/plain": [
       "<IPython.core.display.HTML object>"
      ]
     },
     "metadata": {},
     "output_type": "display_data"
    },
    {
     "name": "stdout",
     "output_type": "stream",
     "text": [
      "08/30/2021 20:24:28 - INFO - root -   eval_loss after step 100: 0.5070816352963448: \n",
      "08/30/2021 20:24:28 - INFO - root -   eval_fbeta after step 100: 0.1320754736661911: \n",
      "08/30/2021 20:24:28 - INFO - root -   eval_roc_auc after step 100: 0.5807453416149069: \n",
      "08/30/2021 20:24:28 - INFO - root -   lr after step 100: 6.666666666666667e-06\n",
      "08/30/2021 20:24:28 - INFO - root -   train_loss after step 100: 0.6222876858711243\n"
     ]
    },
    {
     "name": "stderr",
     "output_type": "stream",
     "text": [
      "C:\\Users\\Shufan\\tools\\anaconda3\\lib\\site-packages\\torch\\optim\\lr_scheduler.py:247: UserWarning: To get the last learning rate computed by the scheduler, please use `get_last_lr()`.\n",
      "  warnings.warn(\"To get the last learning rate computed by the scheduler, \"\n"
     ]
    },
    {
     "name": "stdout",
     "output_type": "stream",
     "text": [
      "08/30/2021 20:24:28 - INFO - root -   Running evaluation\n",
      "08/30/2021 20:24:28 - INFO - root -     Num examples = 53\n",
      "08/30/2021 20:24:28 - INFO - root -     Batch size = 16\n"
     ]
    },
    {
     "data": {
      "text/html": [
       "\n",
       "    <div>\n",
       "        <style>\n",
       "            /* Turns off some styling */\n",
       "            progress {\n",
       "                /* gets rid of default border in Firefox and Opera. */\n",
       "                border: none;\n",
       "                /* Needs to be in here for Safari polyfill so background images work as expected. */\n",
       "                background-size: auto;\n",
       "            }\n",
       "            .progress-bar-interrupted, .progress-bar-interrupted::-webkit-progress-bar {\n",
       "                background: #F44336;\n",
       "            }\n",
       "        </style>\n",
       "      <progress value='4' class='' max='4' style='width:300px; height:20px; vertical-align: middle;'></progress>\n",
       "      100.00% [4/4 00:00<00:00]\n",
       "    </div>\n",
       "    "
      ],
      "text/plain": [
       "<IPython.core.display.HTML object>"
      ]
     },
     "metadata": {},
     "output_type": "display_data"
    },
    {
     "name": "stdout",
     "output_type": "stream",
     "text": [
      "08/30/2021 20:24:29 - INFO - root -   eval_loss after epoch 4: 0.4885435253381729: \n",
      "08/30/2021 20:24:29 - INFO - root -   eval_fbeta after epoch 4: 0.1320754736661911: \n",
      "08/30/2021 20:24:29 - INFO - root -   eval_roc_auc after epoch 4: 0.5714285714285714: \n",
      "08/30/2021 20:24:29 - INFO - root -   lr after epoch 4: 7.2000000000000005e-06\n",
      "08/30/2021 20:24:29 - INFO - root -   train_loss after epoch 4: 0.5952279104126824\n",
      "08/30/2021 20:24:29 - INFO - root -   \n",
      "\n"
     ]
    },
    {
     "name": "stderr",
     "output_type": "stream",
     "text": [
      "C:\\Users\\Shufan\\tools\\anaconda3\\lib\\site-packages\\torch\\optim\\lr_scheduler.py:247: UserWarning: To get the last learning rate computed by the scheduler, please use `get_last_lr()`.\n",
      "  warnings.warn(\"To get the last learning rate computed by the scheduler, \"\n"
     ]
    },
    {
     "name": "stdout",
     "output_type": "stream",
     "text": [
      "08/30/2021 20:24:31 - INFO - root -   Running evaluation\n",
      "08/30/2021 20:24:31 - INFO - root -     Num examples = 53\n",
      "08/30/2021 20:24:31 - INFO - root -     Batch size = 16\n"
     ]
    },
    {
     "data": {
      "text/html": [
       "\n",
       "    <div>\n",
       "        <style>\n",
       "            /* Turns off some styling */\n",
       "            progress {\n",
       "                /* gets rid of default border in Firefox and Opera. */\n",
       "                border: none;\n",
       "                /* Needs to be in here for Safari polyfill so background images work as expected. */\n",
       "                background-size: auto;\n",
       "            }\n",
       "            .progress-bar-interrupted, .progress-bar-interrupted::-webkit-progress-bar {\n",
       "                background: #F44336;\n",
       "            }\n",
       "        </style>\n",
       "      <progress value='4' class='' max='4' style='width:300px; height:20px; vertical-align: middle;'></progress>\n",
       "      100.00% [4/4 00:00<00:00]\n",
       "    </div>\n",
       "    "
      ],
      "text/plain": [
       "<IPython.core.display.HTML object>"
      ]
     },
     "metadata": {},
     "output_type": "display_data"
    },
    {
     "name": "stdout",
     "output_type": "stream",
     "text": [
      "08/30/2021 20:24:31 - INFO - root -   eval_loss after epoch 5: 0.44193675369024277: \n",
      "08/30/2021 20:24:31 - INFO - root -   eval_fbeta after epoch 5: 0.056603774428367615: \n",
      "08/30/2021 20:24:31 - INFO - root -   eval_roc_auc after epoch 5: 0.670807453416149: \n",
      "08/30/2021 20:24:31 - INFO - root -   lr after epoch 5: 9e-06\n",
      "08/30/2021 20:24:31 - INFO - root -   train_loss after epoch 5: 0.5628496927243692\n",
      "08/30/2021 20:24:31 - INFO - root -   \n",
      "\n"
     ]
    },
    {
     "name": "stderr",
     "output_type": "stream",
     "text": [
      "C:\\Users\\Shufan\\tools\\anaconda3\\lib\\site-packages\\torch\\optim\\lr_scheduler.py:247: UserWarning: To get the last learning rate computed by the scheduler, please use `get_last_lr()`.\n",
      "  warnings.warn(\"To get the last learning rate computed by the scheduler, \"\n"
     ]
    },
    {
     "name": "stdout",
     "output_type": "stream",
     "text": [
      "08/30/2021 20:24:32 - INFO - root -   Running evaluation\n",
      "08/30/2021 20:24:32 - INFO - root -     Num examples = 53\n",
      "08/30/2021 20:24:32 - INFO - root -     Batch size = 16\n"
     ]
    },
    {
     "data": {
      "text/html": [
       "\n",
       "    <div>\n",
       "        <style>\n",
       "            /* Turns off some styling */\n",
       "            progress {\n",
       "                /* gets rid of default border in Firefox and Opera. */\n",
       "                border: none;\n",
       "                /* Needs to be in here for Safari polyfill so background images work as expected. */\n",
       "                background-size: auto;\n",
       "            }\n",
       "            .progress-bar-interrupted, .progress-bar-interrupted::-webkit-progress-bar {\n",
       "                background: #F44336;\n",
       "            }\n",
       "        </style>\n",
       "      <progress value='4' class='' max='4' style='width:300px; height:20px; vertical-align: middle;'></progress>\n",
       "      100.00% [4/4 00:00<00:00]\n",
       "    </div>\n",
       "    "
      ],
      "text/plain": [
       "<IPython.core.display.HTML object>"
      ]
     },
     "metadata": {},
     "output_type": "display_data"
    },
    {
     "name": "stdout",
     "output_type": "stream",
     "text": [
      "08/30/2021 20:24:32 - INFO - root -   eval_loss after step 150: 0.4238702207803726: \n",
      "08/30/2021 20:24:32 - INFO - root -   eval_fbeta after step 150: 0.0: \n",
      "08/30/2021 20:24:32 - INFO - root -   eval_roc_auc after step 150: 0.6677018633540373: \n",
      "08/30/2021 20:24:32 - INFO - root -   lr after step 150: 1e-05\n",
      "08/30/2021 20:24:32 - INFO - root -   train_loss after step 150: 0.564663223028183\n"
     ]
    },
    {
     "name": "stderr",
     "output_type": "stream",
     "text": [
      "C:\\Users\\Shufan\\tools\\anaconda3\\lib\\site-packages\\torch\\optim\\lr_scheduler.py:247: UserWarning: To get the last learning rate computed by the scheduler, please use `get_last_lr()`.\n",
      "  warnings.warn(\"To get the last learning rate computed by the scheduler, \"\n"
     ]
    },
    {
     "name": "stdout",
     "output_type": "stream",
     "text": [
      "08/30/2021 20:24:33 - INFO - root -   Running evaluation\n",
      "08/30/2021 20:24:33 - INFO - root -     Num examples = 53\n",
      "08/30/2021 20:24:33 - INFO - root -     Batch size = 16\n"
     ]
    },
    {
     "data": {
      "text/html": [
       "\n",
       "    <div>\n",
       "        <style>\n",
       "            /* Turns off some styling */\n",
       "            progress {\n",
       "                /* gets rid of default border in Firefox and Opera. */\n",
       "                border: none;\n",
       "                /* Needs to be in here for Safari polyfill so background images work as expected. */\n",
       "                background-size: auto;\n",
       "            }\n",
       "            .progress-bar-interrupted, .progress-bar-interrupted::-webkit-progress-bar {\n",
       "                background: #F44336;\n",
       "            }\n",
       "        </style>\n",
       "      <progress value='4' class='' max='4' style='width:300px; height:20px; vertical-align: middle;'></progress>\n",
       "      100.00% [4/4 00:00<00:00]\n",
       "    </div>\n",
       "    "
      ],
      "text/plain": [
       "<IPython.core.display.HTML object>"
      ]
     },
     "metadata": {},
     "output_type": "display_data"
    },
    {
     "name": "stdout",
     "output_type": "stream",
     "text": [
      "08/30/2021 20:24:34 - INFO - root -   eval_loss after epoch 6: 0.40656592696905136: \n",
      "08/30/2021 20:24:34 - INFO - root -   eval_fbeta after epoch 6: 0.0: \n",
      "08/30/2021 20:24:34 - INFO - root -   eval_roc_auc after epoch 6: 0.7546583850931676: \n",
      "08/30/2021 20:24:34 - INFO - root -   lr after epoch 6: 1.0800000000000002e-05\n",
      "08/30/2021 20:24:34 - INFO - root -   train_loss after epoch 6: 0.5399255233782309\n",
      "08/30/2021 20:24:34 - INFO - root -   \n",
      "\n"
     ]
    },
    {
     "name": "stderr",
     "output_type": "stream",
     "text": [
      "C:\\Users\\Shufan\\tools\\anaconda3\\lib\\site-packages\\torch\\optim\\lr_scheduler.py:247: UserWarning: To get the last learning rate computed by the scheduler, please use `get_last_lr()`.\n",
      "  warnings.warn(\"To get the last learning rate computed by the scheduler, \"\n"
     ]
    },
    {
     "name": "stdout",
     "output_type": "stream",
     "text": [
      "08/30/2021 20:24:36 - INFO - root -   Running evaluation\n",
      "08/30/2021 20:24:36 - INFO - root -     Num examples = 53\n",
      "08/30/2021 20:24:36 - INFO - root -     Batch size = 16\n"
     ]
    },
    {
     "data": {
      "text/html": [
       "\n",
       "    <div>\n",
       "        <style>\n",
       "            /* Turns off some styling */\n",
       "            progress {\n",
       "                /* gets rid of default border in Firefox and Opera. */\n",
       "                border: none;\n",
       "                /* Needs to be in here for Safari polyfill so background images work as expected. */\n",
       "                background-size: auto;\n",
       "            }\n",
       "            .progress-bar-interrupted, .progress-bar-interrupted::-webkit-progress-bar {\n",
       "                background: #F44336;\n",
       "            }\n",
       "        </style>\n",
       "      <progress value='4' class='' max='4' style='width:300px; height:20px; vertical-align: middle;'></progress>\n",
       "      100.00% [4/4 00:00<00:00]\n",
       "    </div>\n",
       "    "
      ],
      "text/plain": [
       "<IPython.core.display.HTML object>"
      ]
     },
     "metadata": {},
     "output_type": "display_data"
    },
    {
     "name": "stdout",
     "output_type": "stream",
     "text": [
      "08/30/2021 20:24:36 - INFO - root -   eval_loss after epoch 7: 0.3811151012778282: \n",
      "08/30/2021 20:24:36 - INFO - root -   eval_fbeta after epoch 7: 0.0: \n",
      "08/30/2021 20:24:36 - INFO - root -   eval_roc_auc after epoch 7: 0.7732919254658385: \n",
      "08/30/2021 20:24:36 - INFO - root -   lr after epoch 7: 1.2600000000000001e-05\n",
      "08/30/2021 20:24:36 - INFO - root -   train_loss after epoch 7: 0.5316968703711474\n",
      "08/30/2021 20:24:36 - INFO - root -   \n",
      "\n"
     ]
    },
    {
     "name": "stderr",
     "output_type": "stream",
     "text": [
      "C:\\Users\\Shufan\\tools\\anaconda3\\lib\\site-packages\\torch\\optim\\lr_scheduler.py:247: UserWarning: To get the last learning rate computed by the scheduler, please use `get_last_lr()`.\n",
      "  warnings.warn(\"To get the last learning rate computed by the scheduler, \"\n"
     ]
    },
    {
     "name": "stdout",
     "output_type": "stream",
     "text": [
      "08/30/2021 20:24:37 - INFO - root -   Running evaluation\n",
      "08/30/2021 20:24:37 - INFO - root -     Num examples = 53\n",
      "08/30/2021 20:24:37 - INFO - root -     Batch size = 16\n"
     ]
    },
    {
     "data": {
      "text/html": [
       "\n",
       "    <div>\n",
       "        <style>\n",
       "            /* Turns off some styling */\n",
       "            progress {\n",
       "                /* gets rid of default border in Firefox and Opera. */\n",
       "                border: none;\n",
       "                /* Needs to be in here for Safari polyfill so background images work as expected. */\n",
       "                background-size: auto;\n",
       "            }\n",
       "            .progress-bar-interrupted, .progress-bar-interrupted::-webkit-progress-bar {\n",
       "                background: #F44336;\n",
       "            }\n",
       "        </style>\n",
       "      <progress value='4' class='' max='4' style='width:300px; height:20px; vertical-align: middle;'></progress>\n",
       "      100.00% [4/4 00:00<00:00]\n",
       "    </div>\n",
       "    "
      ],
      "text/plain": [
       "<IPython.core.display.HTML object>"
      ]
     },
     "metadata": {},
     "output_type": "display_data"
    },
    {
     "name": "stdout",
     "output_type": "stream",
     "text": [
      "08/30/2021 20:24:37 - INFO - root -   eval_loss after step 200: 0.3643853887915611: \n",
      "08/30/2021 20:24:37 - INFO - root -   eval_fbeta after step 200: 0.056603774428367615: \n",
      "08/30/2021 20:24:37 - INFO - root -   eval_roc_auc after step 200: 0.8260869565217391: \n",
      "08/30/2021 20:24:37 - INFO - root -   lr after step 200: 1.3333333333333333e-05\n",
      "08/30/2021 20:24:37 - INFO - root -   train_loss after step 200: 0.5062865763902664\n"
     ]
    },
    {
     "name": "stderr",
     "output_type": "stream",
     "text": [
      "C:\\Users\\Shufan\\tools\\anaconda3\\lib\\site-packages\\torch\\optim\\lr_scheduler.py:247: UserWarning: To get the last learning rate computed by the scheduler, please use `get_last_lr()`.\n",
      "  warnings.warn(\"To get the last learning rate computed by the scheduler, \"\n"
     ]
    },
    {
     "name": "stdout",
     "output_type": "stream",
     "text": [
      "08/30/2021 20:24:38 - INFO - root -   Running evaluation\n",
      "08/30/2021 20:24:38 - INFO - root -     Num examples = 53\n",
      "08/30/2021 20:24:38 - INFO - root -     Batch size = 16\n"
     ]
    },
    {
     "data": {
      "text/html": [
       "\n",
       "    <div>\n",
       "        <style>\n",
       "            /* Turns off some styling */\n",
       "            progress {\n",
       "                /* gets rid of default border in Firefox and Opera. */\n",
       "                border: none;\n",
       "                /* Needs to be in here for Safari polyfill so background images work as expected. */\n",
       "                background-size: auto;\n",
       "            }\n",
       "            .progress-bar-interrupted, .progress-bar-interrupted::-webkit-progress-bar {\n",
       "                background: #F44336;\n",
       "            }\n",
       "        </style>\n",
       "      <progress value='4' class='' max='4' style='width:300px; height:20px; vertical-align: middle;'></progress>\n",
       "      100.00% [4/4 00:00<00:00]\n",
       "    </div>\n",
       "    "
      ],
      "text/plain": [
       "<IPython.core.display.HTML object>"
      ]
     },
     "metadata": {},
     "output_type": "display_data"
    },
    {
     "name": "stdout",
     "output_type": "stream",
     "text": [
      "08/30/2021 20:24:38 - INFO - root -   eval_loss after epoch 8: 0.3714302107691765: \n",
      "08/30/2021 20:24:38 - INFO - root -   eval_fbeta after epoch 8: 0.09433962404727936: \n",
      "08/30/2021 20:24:38 - INFO - root -   eval_roc_auc after epoch 8: 0.826086956521739: \n",
      "08/30/2021 20:24:38 - INFO - root -   lr after epoch 8: 1.4400000000000001e-05\n",
      "08/30/2021 20:24:38 - INFO - root -   train_loss after epoch 8: 0.4591172613479473\n",
      "08/30/2021 20:24:38 - INFO - root -   \n",
      "\n"
     ]
    },
    {
     "name": "stderr",
     "output_type": "stream",
     "text": [
      "C:\\Users\\Shufan\\tools\\anaconda3\\lib\\site-packages\\torch\\optim\\lr_scheduler.py:247: UserWarning: To get the last learning rate computed by the scheduler, please use `get_last_lr()`.\n",
      "  warnings.warn(\"To get the last learning rate computed by the scheduler, \"\n"
     ]
    },
    {
     "name": "stdout",
     "output_type": "stream",
     "text": [
      "08/30/2021 20:24:41 - INFO - root -   Running evaluation\n",
      "08/30/2021 20:24:41 - INFO - root -     Num examples = 53\n",
      "08/30/2021 20:24:41 - INFO - root -     Batch size = 16\n"
     ]
    },
    {
     "data": {
      "text/html": [
       "\n",
       "    <div>\n",
       "        <style>\n",
       "            /* Turns off some styling */\n",
       "            progress {\n",
       "                /* gets rid of default border in Firefox and Opera. */\n",
       "                border: none;\n",
       "                /* Needs to be in here for Safari polyfill so background images work as expected. */\n",
       "                background-size: auto;\n",
       "            }\n",
       "            .progress-bar-interrupted, .progress-bar-interrupted::-webkit-progress-bar {\n",
       "                background: #F44336;\n",
       "            }\n",
       "        </style>\n",
       "      <progress value='4' class='' max='4' style='width:300px; height:20px; vertical-align: middle;'></progress>\n",
       "      100.00% [4/4 00:00<00:00]\n",
       "    </div>\n",
       "    "
      ],
      "text/plain": [
       "<IPython.core.display.HTML object>"
      ]
     },
     "metadata": {},
     "output_type": "display_data"
    },
    {
     "name": "stdout",
     "output_type": "stream",
     "text": [
      "08/30/2021 20:24:41 - INFO - root -   eval_loss after epoch 9: 0.4249720349907875: \n",
      "08/30/2021 20:24:41 - INFO - root -   eval_fbeta after epoch 9: 0.09433962404727936: \n",
      "08/30/2021 20:24:41 - INFO - root -   eval_roc_auc after epoch 9: 0.8478260869565217: \n",
      "08/30/2021 20:24:41 - INFO - root -   lr after epoch 9: 1.62e-05\n",
      "08/30/2021 20:24:41 - INFO - root -   train_loss after epoch 9: 0.3319021667595263\n",
      "08/30/2021 20:24:41 - INFO - root -   \n",
      "\n"
     ]
    },
    {
     "name": "stderr",
     "output_type": "stream",
     "text": [
      "C:\\Users\\Shufan\\tools\\anaconda3\\lib\\site-packages\\torch\\optim\\lr_scheduler.py:247: UserWarning: To get the last learning rate computed by the scheduler, please use `get_last_lr()`.\n",
      "  warnings.warn(\"To get the last learning rate computed by the scheduler, \"\n"
     ]
    },
    {
     "name": "stdout",
     "output_type": "stream",
     "text": [
      "08/30/2021 20:24:41 - INFO - root -   Running evaluation\n",
      "08/30/2021 20:24:41 - INFO - root -     Num examples = 53\n",
      "08/30/2021 20:24:41 - INFO - root -     Batch size = 16\n"
     ]
    },
    {
     "data": {
      "text/html": [
       "\n",
       "    <div>\n",
       "        <style>\n",
       "            /* Turns off some styling */\n",
       "            progress {\n",
       "                /* gets rid of default border in Firefox and Opera. */\n",
       "                border: none;\n",
       "                /* Needs to be in here for Safari polyfill so background images work as expected. */\n",
       "                background-size: auto;\n",
       "            }\n",
       "            .progress-bar-interrupted, .progress-bar-interrupted::-webkit-progress-bar {\n",
       "                background: #F44336;\n",
       "            }\n",
       "        </style>\n",
       "      <progress value='4' class='' max='4' style='width:300px; height:20px; vertical-align: middle;'></progress>\n",
       "      100.00% [4/4 00:00<00:00]\n",
       "    </div>\n",
       "    "
      ],
      "text/plain": [
       "<IPython.core.display.HTML object>"
      ]
     },
     "metadata": {},
     "output_type": "display_data"
    },
    {
     "name": "stdout",
     "output_type": "stream",
     "text": [
      "08/30/2021 20:24:42 - INFO - root -   eval_loss after step 250: 0.3984830304980278: \n",
      "08/30/2021 20:24:42 - INFO - root -   eval_fbeta after step 250: 0.09433962404727936: \n",
      "08/30/2021 20:24:42 - INFO - root -   eval_roc_auc after step 250: 0.860248447204969: \n",
      "08/30/2021 20:24:42 - INFO - root -   lr after step 250: 1.6666666666666667e-05\n",
      "08/30/2021 20:24:42 - INFO - root -   train_loss after step 250: 0.372293955385685\n"
     ]
    },
    {
     "name": "stderr",
     "output_type": "stream",
     "text": [
      "C:\\Users\\Shufan\\tools\\anaconda3\\lib\\site-packages\\torch\\optim\\lr_scheduler.py:247: UserWarning: To get the last learning rate computed by the scheduler, please use `get_last_lr()`.\n",
      "  warnings.warn(\"To get the last learning rate computed by the scheduler, \"\n"
     ]
    },
    {
     "name": "stdout",
     "output_type": "stream",
     "text": [
      "08/30/2021 20:24:43 - INFO - root -   Running evaluation\n",
      "08/30/2021 20:24:43 - INFO - root -     Num examples = 53\n",
      "08/30/2021 20:24:43 - INFO - root -     Batch size = 16\n"
     ]
    },
    {
     "data": {
      "text/html": [
       "\n",
       "    <div>\n",
       "        <style>\n",
       "            /* Turns off some styling */\n",
       "            progress {\n",
       "                /* gets rid of default border in Firefox and Opera. */\n",
       "                border: none;\n",
       "                /* Needs to be in here for Safari polyfill so background images work as expected. */\n",
       "                background-size: auto;\n",
       "            }\n",
       "            .progress-bar-interrupted, .progress-bar-interrupted::-webkit-progress-bar {\n",
       "                background: #F44336;\n",
       "            }\n",
       "        </style>\n",
       "      <progress value='4' class='' max='4' style='width:300px; height:20px; vertical-align: middle;'></progress>\n",
       "      100.00% [4/4 00:00<00:00]\n",
       "    </div>\n",
       "    "
      ],
      "text/plain": [
       "<IPython.core.display.HTML object>"
      ]
     },
     "metadata": {},
     "output_type": "display_data"
    },
    {
     "name": "stdout",
     "output_type": "stream",
     "text": [
      "08/30/2021 20:24:43 - INFO - root -   eval_loss after epoch 10: 0.3055841773748398: \n",
      "08/30/2021 20:24:43 - INFO - root -   eval_fbeta after epoch 10: 0.09433962404727936: \n",
      "08/30/2021 20:24:43 - INFO - root -   eval_roc_auc after epoch 10: 0.8478260869565217: \n",
      "08/30/2021 20:24:43 - INFO - root -   lr after epoch 10: 1.8e-05\n",
      "08/30/2021 20:24:43 - INFO - root -   train_loss after epoch 10: 0.20875743473017658\n",
      "08/30/2021 20:24:43 - INFO - root -   \n",
      "\n"
     ]
    },
    {
     "name": "stderr",
     "output_type": "stream",
     "text": [
      "C:\\Users\\Shufan\\tools\\anaconda3\\lib\\site-packages\\torch\\optim\\lr_scheduler.py:247: UserWarning: To get the last learning rate computed by the scheduler, please use `get_last_lr()`.\n",
      "  warnings.warn(\"To get the last learning rate computed by the scheduler, \"\n"
     ]
    },
    {
     "data": {
      "text/plain": [
       "(270, 0.5223373114510819)"
      ]
     },
     "execution_count": 80,
     "metadata": {},
     "output_type": "execute_result"
    }
   ],
   "source": [
    "cl_learner.fit(epochs=10,# was 30\n",
    "            lr=2e-5,\n",
    "            validate=True,\n",
    "            schedule_type=\"warmup_cosine\",\n",
    "            optimizer_type=\"adamw\")"
   ]
  },
  {
   "cell_type": "code",
   "execution_count": 81,
   "metadata": {},
   "outputs": [
    {
     "name": "stdout",
     "output_type": "stream",
     "text": [
      "08/30/2021 20:25:14 - INFO - root -   Running evaluation\n",
      "08/30/2021 20:25:14 - INFO - root -     Num examples = 53\n",
      "08/30/2021 20:25:14 - INFO - root -     Batch size = 16\n"
     ]
    },
    {
     "data": {
      "text/html": [
       "\n",
       "    <div>\n",
       "        <style>\n",
       "            /* Turns off some styling */\n",
       "            progress {\n",
       "                /* gets rid of default border in Firefox and Opera. */\n",
       "                border: none;\n",
       "                /* Needs to be in here for Safari polyfill so background images work as expected. */\n",
       "                background-size: auto;\n",
       "            }\n",
       "            .progress-bar-interrupted, .progress-bar-interrupted::-webkit-progress-bar {\n",
       "                background: #F44336;\n",
       "            }\n",
       "        </style>\n",
       "      <progress value='4' class='' max='4' style='width:300px; height:20px; vertical-align: middle;'></progress>\n",
       "      100.00% [4/4 00:00<00:00]\n",
       "    </div>\n",
       "    "
      ],
      "text/plain": [
       "<IPython.core.display.HTML object>"
      ]
     },
     "metadata": {},
     "output_type": "display_data"
    },
    {
     "data": {
      "text/plain": [
       "{'loss': 0.3055841773748398,\n",
       " 'fbeta': 0.09433962404727936,\n",
       " 'roc_auc': 0.8478260869565217}"
      ]
     },
     "execution_count": 81,
     "metadata": {},
     "output_type": "execute_result"
    }
   ],
   "source": [
    "cl_learner.validate()"
   ]
  },
  {
   "cell_type": "code",
   "execution_count": 82,
   "metadata": {},
   "outputs": [
    {
     "name": "stdout",
     "output_type": "stream",
     "text": [
      "08/30/2021 20:27:27 - INFO - transformers.configuration_utils -   Configuration saved in twt_cls_model\\model_out\\config.json\n",
      "08/30/2021 20:27:28 - INFO - transformers.modeling_utils -   Model weights saved in twt_cls_model\\model_out\\pytorch_model.bin\n"
     ]
    }
   ],
   "source": [
    "cl_learner.save_model()"
   ]
  },
  {
   "cell_type": "code",
   "execution_count": 83,
   "metadata": {},
   "outputs": [],
   "source": [
    "del cl_learner"
   ]
  },
  {
   "cell_type": "code",
   "execution_count": null,
   "metadata": {},
   "outputs": [],
   "source": [
    "cl_learner.model.eval()"
   ]
  },
  {
   "cell_type": "markdown",
   "metadata": {},
   "source": [
    "### Prédictions"
   ]
  },
  {
   "cell_type": "code",
   "execution_count": 84,
   "metadata": {},
   "outputs": [
    {
     "name": "stdout",
     "output_type": "stream",
     "text": [
      "08/30/2021 22:26:28 - INFO - transformers.configuration_utils -   loading configuration file twt_cls_model/model_out\\config.json\n",
      "08/30/2021 22:26:28 - INFO - transformers.configuration_utils -   Model config CamembertConfig {\n",
      "  \"architectures\": [\n",
      "    \"CamembertForMultiLabelSequenceClassification\"\n",
      "  ],\n",
      "  \"attention_probs_dropout_prob\": 0.1,\n",
      "  \"bos_token_id\": 5,\n",
      "  \"eos_token_id\": 6,\n",
      "  \"gradient_checkpointing\": false,\n",
      "  \"hidden_act\": \"gelu\",\n",
      "  \"hidden_dropout_prob\": 0.1,\n",
      "  \"hidden_size\": 768,\n",
      "  \"id2label\": {\n",
      "    \"0\": \"LABEL_0\"\n",
      "  },\n",
      "  \"initializer_range\": 0.02,\n",
      "  \"intermediate_size\": 3072,\n",
      "  \"label2id\": {\n",
      "    \"LABEL_0\": 0\n",
      "  },\n",
      "  \"layer_norm_eps\": 1e-05,\n",
      "  \"max_position_embeddings\": 514,\n",
      "  \"model_type\": \"camembert\",\n",
      "  \"num_attention_heads\": 12,\n",
      "  \"num_hidden_layers\": 12,\n",
      "  \"output_past\": true,\n",
      "  \"pad_token_id\": 1,\n",
      "  \"type_vocab_size\": 1,\n",
      "  \"vocab_size\": 32005\n",
      "}\n",
      "\n",
      "08/30/2021 22:26:28 - INFO - transformers.tokenization_utils_base -   Model name 'twt_cls_model/model_out' not found in model shortcut name list (camembert-base). Assuming 'twt_cls_model/model_out' is a path, a model identifier, or url to a directory containing tokenizer files.\n",
      "08/30/2021 22:26:28 - INFO - transformers.tokenization_utils_base -   Didn't find file twt_cls_model/model_out\\added_tokens.json. We won't load it.\n",
      "08/30/2021 22:26:28 - INFO - transformers.tokenization_utils_base -   Didn't find file twt_cls_model/model_out\\tokenizer.json. We won't load it.\n",
      "08/30/2021 22:26:28 - INFO - transformers.tokenization_utils_base -   loading file twt_cls_model/model_out\\sentencepiece.bpe.model\n",
      "08/30/2021 22:26:28 - INFO - transformers.tokenization_utils_base -   loading file None\n",
      "08/30/2021 22:26:28 - INFO - transformers.tokenization_utils_base -   loading file twt_cls_model/model_out\\special_tokens_map.json\n",
      "08/30/2021 22:26:28 - INFO - transformers.tokenization_utils_base -   loading file twt_cls_model/model_out\\tokenizer_config.json\n",
      "08/30/2021 22:26:28 - INFO - transformers.tokenization_utils_base -   loading file None\n",
      "08/30/2021 22:26:28 - INFO - transformers.configuration_utils -   loading configuration file twt_cls_model/model_out\\config.json\n",
      "08/30/2021 22:26:28 - INFO - transformers.configuration_utils -   Model config CamembertConfig {\n",
      "  \"architectures\": [\n",
      "    \"CamembertForMultiLabelSequenceClassification\"\n",
      "  ],\n",
      "  \"attention_probs_dropout_prob\": 0.1,\n",
      "  \"bos_token_id\": 5,\n",
      "  \"eos_token_id\": 6,\n",
      "  \"gradient_checkpointing\": false,\n",
      "  \"hidden_act\": \"gelu\",\n",
      "  \"hidden_dropout_prob\": 0.1,\n",
      "  \"hidden_size\": 768,\n",
      "  \"id2label\": {\n",
      "    \"0\": \"LABEL_0\"\n",
      "  },\n",
      "  \"initializer_range\": 0.02,\n",
      "  \"intermediate_size\": 3072,\n",
      "  \"label2id\": {\n",
      "    \"LABEL_0\": 0\n",
      "  },\n",
      "  \"layer_norm_eps\": 1e-05,\n",
      "  \"max_position_embeddings\": 514,\n",
      "  \"model_type\": \"camembert\",\n",
      "  \"num_attention_heads\": 12,\n",
      "  \"num_hidden_layers\": 12,\n",
      "  \"output_past\": true,\n",
      "  \"pad_token_id\": 1,\n",
      "  \"type_vocab_size\": 1,\n",
      "  \"vocab_size\": 32005\n",
      "}\n",
      "\n",
      "08/30/2021 22:26:28 - INFO - transformers.modeling_utils -   loading weights file twt_cls_model/model_out\\pytorch_model.bin\n",
      "08/30/2021 22:26:30 - INFO - transformers.modeling_utils -   All model checkpoint weights were used when initializing CamembertForMultiLabelSequenceClassification.\n",
      "\n",
      "08/30/2021 22:26:30 - INFO - transformers.modeling_utils -   All the weights of CamembertForMultiLabelSequenceClassification were initialized from the model checkpoint at twt_cls_model/model_out.\n",
      "If your task is similar to the task the model of the ckeckpoint was trained on, you can already use CamembertForMultiLabelSequenceClassification for predictions without further training.\n"
     ]
    }
   ],
   "source": [
    "predictor = BertClassificationPredictor(\n",
    "                model_path='twt_cls_model/model_out',\n",
    "                label_path='twt_cls_labels',\n",
    "                multi_label=True,\n",
    "                model_type='camembert-base',\n",
    "                do_lower_case=False)"
   ]
  },
  {
   "cell_type": "code",
   "execution_count": 85,
   "metadata": {},
   "outputs": [
    {
     "name": "stdout",
     "output_type": "stream",
     "text": [
      "08/30/2021 22:26:51 - INFO - root -   Writing example 0 of 1\n"
     ]
    },
    {
     "name": "stderr",
     "output_type": "stream",
     "text": [
      "C:\\Users\\Shufan\\tools\\anaconda3\\lib\\site-packages\\pandas\\core\\frame.py:1549: FutureWarning: Using short name for 'orient' is deprecated. Only the options: ('dict', list, 'series', 'split', 'records', 'index') will be used in a future version. Use one of the above to silence this warning.\n",
      "  warnings.warn(\n"
     ]
    },
    {
     "data": {
      "text/plain": [
       "[('Observation', 0.22204630076885223)]"
      ]
     },
     "execution_count": 85,
     "metadata": {},
     "output_type": "execute_result"
    }
   ],
   "source": [
    "#observation 2018\n",
    "predictor.predict(\"[ Broyer les tiges pour lutter contre les pyrales ] &gt;&gt;&gt; https://t.co/sksqutcqEW &gt;&gt;&gt; - Les dégâts causés par la pyrale sont en progression en Bretagne. Les cultures de maïs fourrage, jusqu’ici peu concernées, présentent des ... https://t.co/bZdzvMPVhB\")"
   ]
  },
  {
   "cell_type": "code",
   "execution_count": 86,
   "metadata": {},
   "outputs": [
    {
     "name": "stdout",
     "output_type": "stream",
     "text": [
      "08/30/2021 22:26:54 - INFO - root -   Writing example 0 of 1\n"
     ]
    },
    {
     "data": {
      "text/plain": [
       "[('Observation', 0.10423579066991806)]"
      ]
     },
     "execution_count": 86,
     "metadata": {},
     "output_type": "execute_result"
    }
   ],
   "source": [
    "# Observation 2018 => raté\n",
    "predictor.predict(\"Dégâts de pyrale sur un essai variétés maïs chez #trichogrammes #luttebiologique #surleterrain https://t.co/qz4OKVTeRh\")"
   ]
  },
  {
   "cell_type": "code",
   "execution_count": 87,
   "metadata": {},
   "outputs": [
    {
     "name": "stdout",
     "output_type": "stream",
     "text": [
      "08/30/2021 22:26:56 - INFO - root -   Writing example 0 of 1\n"
     ]
    },
    {
     "data": {
      "text/plain": [
       "[('Observation', 0.8562948703765869)]"
      ]
     },
     "execution_count": 87,
     "metadata": {},
     "output_type": "execute_result"
    }
   ],
   "source": [
    "# Observation 2018\n",
    "predictor.predict(\"Début des vols de #pyrale en Bretagne : lutte biologique avec des #trichogrammes via #maïs https://t.co/9UvTqRI3jd https://t.co/RcumfTOx7O\")"
   ]
  },
  {
   "cell_type": "code",
   "execution_count": 88,
   "metadata": {},
   "outputs": [
    {
     "name": "stdout",
     "output_type": "stream",
     "text": [
      "08/30/2021 22:27:04 - INFO - root -   Writing example 0 of 1\n"
     ]
    },
    {
     "data": {
      "text/plain": [
       "[('Observation', 0.8135897517204285)]"
      ]
     },
     "execution_count": 88,
     "metadata": {},
     "output_type": "execute_result"
    }
   ],
   "source": [
    "# Observation 2018\n",
    "predictor.predict(\"Pyrale du maïs : la pression monte en #Bretagne mais pas seulement !! https://t.co/ERMrVfKEim … via Dès les premiers vols, luttez naturellement avec les #trichogrammes (micro-insectes) plus d'infos https://t.co/yNzPIiusLS https://t.co/hYhikBGsq4\")"
   ]
  },
  {
   "cell_type": "code",
   "execution_count": 89,
   "metadata": {},
   "outputs": [
    {
     "name": "stdout",
     "output_type": "stream",
     "text": [
      "08/30/2021 22:27:05 - INFO - root -   Writing example 0 of 1\n"
     ]
    },
    {
     "data": {
      "text/plain": [
       "[('Observation', 0.09959875792264938)]"
      ]
     },
     "execution_count": 89,
     "metadata": {},
     "output_type": "execute_result"
    }
   ],
   "source": [
    "# Info 2018\n",
    "predictor.predict(\"Démonstration lutte alternative contre la pyrale du maïs : sucre et insecticide biologique, piégeage des pyrales pour cibler le pic de vol https://t.co/8Q8jZ9euFo\")"
   ]
  },
  {
   "cell_type": "code",
   "execution_count": 90,
   "metadata": {},
   "outputs": [
    {
     "name": "stdout",
     "output_type": "stream",
     "text": [
      "08/30/2021 22:27:12 - INFO - root -   Writing example 0 of 1\n"
     ]
    },
    {
     "data": {
      "text/plain": [
       "[('Observation', 0.09977701306343079)]"
      ]
     },
     "execution_count": 90,
     "metadata": {},
     "output_type": "execute_result"
    }
   ],
   "source": [
    "# Info 2018\n",
    "predictor.predict(\"Rencontre ce matin avec un cultivateur de la #Beauce heureux de m’expliquer comment il lutte de manière écologique contre la pyrale, un ravageur du maïs, à l’aide d’un autre insecte le trichogramme qui pond dans son œuf, tuant sa larve. https://t.co/iiEdkhWP68 #écologie #bio https://t.co/Ei2d5d0mb9\")"
   ]
  },
  {
   "cell_type": "code",
   "execution_count": 91,
   "metadata": {},
   "outputs": [
    {
     "name": "stdout",
     "output_type": "stream",
     "text": [
      "08/30/2021 22:27:13 - INFO - root -   Writing example 0 of 1\n"
     ]
    },
    {
     "data": {
      "text/plain": [
       "[('Observation', 0.10100332647562027)]"
      ]
     },
     "execution_count": 91,
     "metadata": {},
     "output_type": "execute_result"
    }
   ],
   "source": [
    "# Info 2016\n",
    "predictor.predict(\"Salon de l'Agriculture 2016 : des drones pour lutter contre la pyrale du maïs - https://t.co/HE5CIAl9Pw #SIA2016 #salondelagriculture\")"
   ]
  },
  {
   "cell_type": "code",
   "execution_count": 92,
   "metadata": {},
   "outputs": [
    {
     "name": "stdout",
     "output_type": "stream",
     "text": [
      "08/30/2021 22:27:14 - INFO - root -   Writing example 0 of 1\n"
     ]
    },
    {
     "data": {
      "text/plain": [
       "[('Observation', 0.09980399161577225)]"
      ]
     },
     "execution_count": 92,
     "metadata": {},
     "output_type": "execute_result"
    }
   ],
   "source": [
    "# conseil \n",
    "predictor.predict(\"Principal ravageur du #maïs la #pyrale est en cette période à son pic d’activité. Deux méthodes de lutte existent : un insecticide qui nécessite le passage d’un tracteur, ou une autre moins connue, le lâcher de #trichogrammes par #drone https://t.co/xusE9oUo4f\")"
   ]
  },
  {
   "cell_type": "code",
   "execution_count": 93,
   "metadata": {},
   "outputs": [
    {
     "name": "stdout",
     "output_type": "stream",
     "text": [
      "08/30/2021 22:27:15 - INFO - root -   Writing example 0 of 1\n"
     ]
    },
    {
     "data": {
      "text/plain": [
       "[('Observation', 0.10009700804948807)]"
      ]
     },
     "execution_count": 93,
     "metadata": {},
     "output_type": "execute_result"
    }
   ],
   "source": [
    "# conseil \n",
    "predictor.predict(\"le #maïs est l'une des grandes cultures pour laquelle il existe une solution de lutte biologique contre la #pyrale #Biocontrole - retrouvez ces infos en page 3 du suppléments de https://t.co/DXG18mLG89 https://t.co/2cPqxJcYoc\")"
   ]
  },
  {
   "cell_type": "code",
   "execution_count": 94,
   "metadata": {},
   "outputs": [
    {
     "name": "stdout",
     "output_type": "stream",
     "text": [
      "08/30/2021 22:27:17 - INFO - root -   Writing example 0 of 1\n"
     ]
    },
    {
     "data": {
      "text/plain": [
       "[('Observation', 0.8559390306472778)]"
      ]
     },
     "execution_count": 94,
     "metadata": {},
     "output_type": "execute_result"
    }
   ],
   "source": [
    "# observation in the training/val set\n",
    "predictor.predict(\"Code rouge pour vos #maïs les foreurs #Pyrale et #Sésamie sont bien présents ‼ Mais comment suivre les vols de ces ravageurs pour bien les connaître et positionner au mieux les moyens de lutte On vous dit tout en 3 épisodes #ComPositive #Agriculture https://t.co/oPlpzWd2AA\")"
   ]
  },
  {
   "cell_type": "code",
   "execution_count": 95,
   "metadata": {},
   "outputs": [
    {
     "name": "stdout",
     "output_type": "stream",
     "text": [
      "08/30/2021 22:27:19 - INFO - root -   Writing example 0 of 1\n"
     ]
    },
    {
     "data": {
      "text/plain": [
       "[('Observation', 0.8557798266410828)]"
      ]
     },
     "execution_count": 95,
     "metadata": {},
     "output_type": "execute_result"
    }
   ],
   "source": [
    "# observation in the training/val set\n",
    "predictor.predict(\"Une parcelle de maïs ensilage defoncée par la #pyrale Je crois que celle-ci détient la palme pour l’instant https://t.co/fqqXujDtgo\")"
   ]
  },
  {
   "cell_type": "code",
   "execution_count": 96,
   "metadata": {},
   "outputs": [
    {
     "name": "stdout",
     "output_type": "stream",
     "text": [
      "08/30/2021 22:27:23 - INFO - root -   Writing example 0 of 1\n"
     ]
    },
    {
     "data": {
      "text/plain": [
       "[('Observation', 0.10003858059644699)]"
      ]
     },
     "execution_count": 96,
     "metadata": {},
     "output_type": "execute_result"
    }
   ],
   "source": [
    "#politique\n",
    "predictor.predict(\"Quand on voit la convergence des luttes contre le bon sens, je crois que toute les bonnes volontés devront s'unir... Après parler de pyrale du Maïs à un dispatcheur du réseau électrique, et un oncologue , ca demande de la pédagogie.\")"
   ]
  },
  {
   "cell_type": "code",
   "execution_count": 97,
   "metadata": {},
   "outputs": [
    {
     "name": "stdout",
     "output_type": "stream",
     "text": [
      "08/30/2021 22:27:24 - INFO - root -   Writing example 0 of 1\n"
     ]
    },
    {
     "data": {
      "text/plain": [
       "[('Observation', 0.09950041770935059)]"
      ]
     },
     "execution_count": 97,
     "metadata": {},
     "output_type": "execute_result"
    }
   ],
   "source": [
    "#politique\n",
    "predictor.predict(\"C'est un peu analogue au cas du maïs Bt qui favorise les cultures conventionnelles et bio avoisinantes en diminuant la population des ravageurs (pyrale et sésamie).\")"
   ]
  },
  {
   "cell_type": "code",
   "execution_count": 98,
   "metadata": {},
   "outputs": [
    {
     "name": "stdout",
     "output_type": "stream",
     "text": [
      "08/30/2021 22:27:27 - INFO - root -   Writing example 0 of 1\n"
     ]
    },
    {
     "data": {
      "text/plain": [
       "[('Observation', 0.1023852750658989)]"
      ]
     },
     "execution_count": 98,
     "metadata": {},
     "output_type": "execute_result"
    }
   ],
   "source": [
    "#pub\n",
    "predictor.predict(\"[Communiqué de presse] #Digital #Biocontrole L’appli mobile #GeoInsecta de permet maintenant de traquer la #pyrale du #maïs pour mieux la contrer cc d’infos https://t.co/pwOxHeYJbD https://t.co/loWUM5LahJ\")"
   ]
  },
  {
   "cell_type": "code",
   "execution_count": 99,
   "metadata": {},
   "outputs": [
    {
     "name": "stdout",
     "output_type": "stream",
     "text": [
      "08/30/2021 22:27:29 - INFO - root -   Writing example 0 of 1\n"
     ]
    },
    {
     "data": {
      "text/plain": [
       "[('Observation', 0.10159479826688766)]"
      ]
     },
     "execution_count": 99,
     "metadata": {},
     "output_type": "execute_result"
    }
   ],
   "source": [
    "#info\n",
    "predictor.predict(\"Les trichogrammes volent dans la #Limagne. Alexandre Bresson, agriculteur à Entraigues dans le Puy-de-Dôme utilise les #trichogrammes dans la lutte contre la pyrale du maïs... https://t.co/l8CHmpMkzg\")"
   ]
  },
  {
   "cell_type": "code",
   "execution_count": 100,
   "metadata": {},
   "outputs": [
    {
     "name": "stdout",
     "output_type": "stream",
     "text": [
      "08/30/2021 22:27:30 - INFO - root -   Writing example 0 of 1\n"
     ]
    },
    {
     "data": {
      "text/plain": [
       "[('Observation', 0.10015053302049637)]"
      ]
     },
     "execution_count": 100,
     "metadata": {},
     "output_type": "execute_result"
    }
   ],
   "source": [
    "# pub\n",
    "predictor.predict(\"J'aime une vidéo : \\\"Utilisation de drones dans la lutte biologique à la pyrale du maïs\\\" à l'adresse\")"
   ]
  },
  {
   "cell_type": "code",
   "execution_count": 101,
   "metadata": {},
   "outputs": [
    {
     "name": "stdout",
     "output_type": "stream",
     "text": [
      "08/30/2021 22:27:31 - INFO - root -   Writing example 0 of 1\n"
     ]
    },
    {
     "data": {
      "text/plain": [
       "[('Observation', 0.10013306140899658)]"
      ]
     },
     "execution_count": 101,
     "metadata": {},
     "output_type": "execute_result"
    }
   ],
   "source": [
    "# pub\n",
    "predictor.predict(\"Bioline Agrosciences est le 1er acteur français de Bioprotection contre la pyrale du maïs avec Trichotop Max solution naturelle de lutte biologique 100% produite en France\")"
   ]
  },
  {
   "cell_type": "code",
   "execution_count": 102,
   "metadata": {},
   "outputs": [
    {
     "name": "stdout",
     "output_type": "stream",
     "text": [
      "08/30/2021 22:27:37 - INFO - root -   Writing example 0 of 1\n"
     ]
    },
    {
     "data": {
      "text/plain": [
       "[('Observation', 0.8535301685333252)]"
      ]
     },
     "execution_count": 102,
     "metadata": {},
     "output_type": "execute_result"
    }
   ],
   "source": [
    "# scolytes Les scolytes forment une sous-famille d'insectes coléoptères de la famille des Curculionidae.\n",
    "predictor.predict(\"Sur notre site du Morvan, grave attaque de scolytes et réflexion de l'ONF pour savoir quoi planter\")"
   ]
  },
  {
   "cell_type": "code",
   "execution_count": 103,
   "metadata": {},
   "outputs": [
    {
     "name": "stdout",
     "output_type": "stream",
     "text": [
      "08/30/2021 22:27:43 - INFO - root -   Writing example 0 of 1\n"
     ]
    },
    {
     "data": {
      "text/plain": [
       "[('Observation', 0.10013306140899658)]"
      ]
     },
     "execution_count": 103,
     "metadata": {},
     "output_type": "execute_result"
    }
   ],
   "source": [
    "# pub\n",
    "predictor.predict(\"Bioline Agrosciences est le 1er acteur français de Bioprotection contre la pyrale du maïs avec Trichotop Max solution naturelle de lutte biologique 100% produite en France\")"
   ]
  },
  {
   "cell_type": "code",
   "execution_count": null,
   "metadata": {},
   "outputs": [],
   "source": []
  },
  {
   "cell_type": "markdown",
   "metadata": {},
   "source": [
    "### Analyse the fine-tuned model"
   ]
  },
  {
   "cell_type": "code",
   "execution_count": 5,
   "metadata": {},
   "outputs": [
    {
     "name": "stdout",
     "output_type": "stream",
     "text": [
      "08/29/2021 02:24:35 - INFO - transformers.configuration_utils -   loading configuration file finetuned_model/model_out/config.json\n",
      "08/29/2021 02:24:35 - INFO - transformers.configuration_utils -   Model config CamembertConfig {\n",
      "  \"architectures\": [\n",
      "    \"CamembertForMultiLabelSequenceClassification\"\n",
      "  ],\n",
      "  \"attention_probs_dropout_prob\": 0.1,\n",
      "  \"bos_token_id\": 5,\n",
      "  \"eos_token_id\": 6,\n",
      "  \"gradient_checkpointing\": false,\n",
      "  \"hidden_act\": \"gelu\",\n",
      "  \"hidden_dropout_prob\": 0.1,\n",
      "  \"hidden_size\": 768,\n",
      "  \"initializer_range\": 0.02,\n",
      "  \"intermediate_size\": 3072,\n",
      "  \"layer_norm_eps\": 1e-05,\n",
      "  \"max_position_embeddings\": 514,\n",
      "  \"model_type\": \"camembert\",\n",
      "  \"num_attention_heads\": 12,\n",
      "  \"num_hidden_layers\": 12,\n",
      "  \"output_past\": true,\n",
      "  \"pad_token_id\": 1,\n",
      "  \"type_vocab_size\": 1,\n",
      "  \"vocab_size\": 32005\n",
      "}\n",
      "\n",
      "08/29/2021 02:24:35 - INFO - transformers.tokenization_utils_base -   Model name 'finetuned_model/model_out' not found in model shortcut name list (camembert-base). Assuming 'finetuned_model/model_out' is a path, a model identifier, or url to a directory containing tokenizer files.\n",
      "08/29/2021 02:24:35 - INFO - transformers.tokenization_utils_base -   Didn't find file finetuned_model/model_out/added_tokens.json. We won't load it.\n",
      "08/29/2021 02:24:35 - INFO - transformers.tokenization_utils_base -   Didn't find file finetuned_model/model_out/tokenizer.json. We won't load it.\n",
      "08/29/2021 02:24:35 - INFO - transformers.tokenization_utils_base -   loading file finetuned_model/model_out/sentencepiece.bpe.model\n",
      "08/29/2021 02:24:35 - INFO - transformers.tokenization_utils_base -   loading file None\n",
      "08/29/2021 02:24:35 - INFO - transformers.tokenization_utils_base -   loading file finetuned_model/model_out/special_tokens_map.json\n",
      "08/29/2021 02:24:35 - INFO - transformers.tokenization_utils_base -   loading file finetuned_model/model_out/tokenizer_config.json\n",
      "08/29/2021 02:24:35 - INFO - transformers.tokenization_utils_base -   loading file None\n",
      "08/29/2021 02:24:36 - INFO - transformers.configuration_utils -   loading configuration file finetuned_model/model_out/config.json\n",
      "08/29/2021 02:24:36 - INFO - transformers.configuration_utils -   Model config CamembertConfig {\n",
      "  \"architectures\": [\n",
      "    \"CamembertForMultiLabelSequenceClassification\"\n",
      "  ],\n",
      "  \"attention_probs_dropout_prob\": 0.1,\n",
      "  \"bos_token_id\": 5,\n",
      "  \"eos_token_id\": 6,\n",
      "  \"gradient_checkpointing\": false,\n",
      "  \"hidden_act\": \"gelu\",\n",
      "  \"hidden_dropout_prob\": 0.1,\n",
      "  \"hidden_size\": 768,\n",
      "  \"initializer_range\": 0.02,\n",
      "  \"intermediate_size\": 3072,\n",
      "  \"layer_norm_eps\": 1e-05,\n",
      "  \"max_position_embeddings\": 514,\n",
      "  \"model_type\": \"camembert\",\n",
      "  \"num_attention_heads\": 12,\n",
      "  \"num_hidden_layers\": 12,\n",
      "  \"output_past\": true,\n",
      "  \"pad_token_id\": 1,\n",
      "  \"type_vocab_size\": 1,\n",
      "  \"vocab_size\": 32005\n",
      "}\n",
      "\n",
      "08/29/2021 02:24:36 - INFO - transformers.modeling_utils -   loading weights file finetuned_model/model_out/pytorch_model.bin\n",
      "08/29/2021 02:24:40 - INFO - transformers.modeling_utils -   All model checkpoint weights were used when initializing CamembertForMultiLabelSequenceClassification.\n",
      "\n",
      "08/29/2021 02:24:40 - INFO - transformers.modeling_utils -   All the weights of CamembertForMultiLabelSequenceClassification were initialized from the model checkpoint at finetuned_model/model_out.\n",
      "If your task is similar to the task the model of the ckeckpoint was trained on, you can already use CamembertForMultiLabelSequenceClassification for predictions without further training.\n"
     ]
    }
   ],
   "source": [
    "predictor = BertClassificationPredictor(\n",
    "                model_path='twt_cls_model/model_out',\n",
    "                label_path='twt_cls_labels',\n",
    "                multi_label=True,\n",
    "                model_type='camembert-base',\n",
    "                do_lower_case=False)"
   ]
  },
  {
   "cell_type": "code",
   "execution_count": 104,
   "metadata": {},
   "outputs": [],
   "source": [
    "#evaluation on validation set\n",
    "df_val = pd.read_csv('./data/twt_val_set.csv')\n",
    "\n",
    "#predictor.get_learner()"
   ]
  },
  {
   "cell_type": "code",
   "execution_count": 105,
   "metadata": {},
   "outputs": [
    {
     "data": {
      "text/html": [
       "<div>\n",
       "<style scoped>\n",
       "    .dataframe tbody tr th:only-of-type {\n",
       "        vertical-align: middle;\n",
       "    }\n",
       "\n",
       "    .dataframe tbody tr th {\n",
       "        vertical-align: top;\n",
       "    }\n",
       "\n",
       "    .dataframe thead th {\n",
       "        text-align: right;\n",
       "    }\n",
       "</style>\n",
       "<table border=\"1\" class=\"dataframe\">\n",
       "  <thead>\n",
       "    <tr style=\"text-align: right;\">\n",
       "      <th></th>\n",
       "      <th>Unnamed: 0</th>\n",
       "      <th>index</th>\n",
       "      <th>_id</th>\n",
       "      <th>author_id</th>\n",
       "      <th>display_username</th>\n",
       "      <th>username</th>\n",
       "      <th>user_description</th>\n",
       "      <th>time</th>\n",
       "      <th>twt_id</th>\n",
       "      <th>text</th>\n",
       "      <th>...</th>\n",
       "      <th>crop_tags</th>\n",
       "      <th>place_name</th>\n",
       "      <th>place_id</th>\n",
       "      <th>country</th>\n",
       "      <th>place_type</th>\n",
       "      <th>Observation</th>\n",
       "      <th>Pertinence? (/10)</th>\n",
       "      <th>Info temporalite</th>\n",
       "      <th>Info localisation</th>\n",
       "      <th>Classification</th>\n",
       "    </tr>\n",
       "  </thead>\n",
       "  <tbody>\n",
       "    <tr>\n",
       "      <th>48</th>\n",
       "      <td>16</td>\n",
       "      <td>16</td>\n",
       "      <td>60f0083fbd62ed8c4e41565c</td>\n",
       "      <td>1199420514818830336</td>\n",
       "      <td>Mandrin Jean-pierre</td>\n",
       "      <td>jpman70</td>\n",
       "      <td>Agriculteur en voie de conservation des sols e...</td>\n",
       "      <td>2020-09-25T18:18:11.000Z</td>\n",
       "      <td>1309557826977660930</td>\n",
       "      <td>Chrysomèle, pyrale et celle-ci...superbe aveni...</td>\n",
       "      <td>...</td>\n",
       "      <td>['maïs']</td>\n",
       "      <td>NaN</td>\n",
       "      <td>NaN</td>\n",
       "      <td>NaN</td>\n",
       "      <td>NaN</td>\n",
       "      <td>0</td>\n",
       "      <td>0</td>\n",
       "      <td>0</td>\n",
       "      <td>0</td>\n",
       "      <td>conseil</td>\n",
       "    </tr>\n",
       "    <tr>\n",
       "      <th>49</th>\n",
       "      <td>10</td>\n",
       "      <td>10</td>\n",
       "      <td>60f0083fbd62ed8c4e415635</td>\n",
       "      <td>1018885295318749184</td>\n",
       "      <td>Serge FOURQUET</td>\n",
       "      <td>sergefourquet</td>\n",
       "      <td>NaN</td>\n",
       "      <td>2020-10-12T18:45:05.000Z</td>\n",
       "      <td>1315725193508278272</td>\n",
       "      <td>Et en France on dit non à un maïs OGM résistan...</td>\n",
       "      <td>...</td>\n",
       "      <td>['maïs']</td>\n",
       "      <td>NaN</td>\n",
       "      <td>NaN</td>\n",
       "      <td>NaN</td>\n",
       "      <td>NaN</td>\n",
       "      <td>0</td>\n",
       "      <td>0</td>\n",
       "      <td>0</td>\n",
       "      <td>0</td>\n",
       "      <td>politique</td>\n",
       "    </tr>\n",
       "    <tr>\n",
       "      <th>50</th>\n",
       "      <td>125</td>\n",
       "      <td>126</td>\n",
       "      <td>60f00848bd62ed8c4e416235</td>\n",
       "      <td>3031925218</td>\n",
       "      <td>Tanguy Lozac'h</td>\n",
       "      <td>tgylzh</td>\n",
       "      <td>Agronome 🌽🌱| Chef de marché semence (maïs/soya...</td>\n",
       "      <td>2020-02-09T15:43:02.000Z</td>\n",
       "      <td>1226531962707419136</td>\n",
       "      <td>En attendant grâce au Bt je n’ai jamais vu de ...</td>\n",
       "      <td>...</td>\n",
       "      <td>['attier', 'maïs', 'maïs grain']</td>\n",
       "      <td>McMasterville</td>\n",
       "      <td>06c4516af7f31c69</td>\n",
       "      <td>Canada</td>\n",
       "      <td>city</td>\n",
       "      <td>0</td>\n",
       "      <td>0</td>\n",
       "      <td>0</td>\n",
       "      <td>0</td>\n",
       "      <td>conseil</td>\n",
       "    </tr>\n",
       "    <tr>\n",
       "      <th>51</th>\n",
       "      <td>258</td>\n",
       "      <td>259</td>\n",
       "      <td>60f00858bd62ed8c4e417952</td>\n",
       "      <td>1017769924658417670</td>\n",
       "      <td>TalkAG</td>\n",
       "      <td>talk_ag</td>\n",
       "      <td>TalkAG est un réseau social pour les agriculte...</td>\n",
       "      <td>2019-02-04T16:19:52.000Z</td>\n",
       "      <td>1092457723478900737</td>\n",
       "      <td>Pyrale du maïs, comment la combattre ? https:/...</td>\n",
       "      <td>...</td>\n",
       "      <td>['maïs']</td>\n",
       "      <td>NaN</td>\n",
       "      <td>NaN</td>\n",
       "      <td>NaN</td>\n",
       "      <td>NaN</td>\n",
       "      <td>0</td>\n",
       "      <td>0</td>\n",
       "      <td>0</td>\n",
       "      <td>0</td>\n",
       "      <td>conseil</td>\n",
       "    </tr>\n",
       "    <tr>\n",
       "      <th>52</th>\n",
       "      <td>104</td>\n",
       "      <td>105</td>\n",
       "      <td>60f00845bd62ed8c4e415e02</td>\n",
       "      <td>492112419</td>\n",
       "      <td>AGRI72</td>\n",
       "      <td>AGRI_72</td>\n",
       "      <td>Toute l'information agricole sarthoise au serv...</td>\n",
       "      <td>2020-05-20T16:55:27.000Z</td>\n",
       "      <td>1263151360276680706</td>\n",
       "      <td>A la Une de votre prochain numéro, un dossier ...</td>\n",
       "      <td>...</td>\n",
       "      <td>['maïs']</td>\n",
       "      <td>NaN</td>\n",
       "      <td>NaN</td>\n",
       "      <td>NaN</td>\n",
       "      <td>NaN</td>\n",
       "      <td>0</td>\n",
       "      <td>0</td>\n",
       "      <td>0</td>\n",
       "      <td>0</td>\n",
       "      <td>politique</td>\n",
       "    </tr>\n",
       "  </tbody>\n",
       "</table>\n",
       "<p>5 rows × 21 columns</p>\n",
       "</div>"
      ],
      "text/plain": [
       "    Unnamed: 0  index                       _id            author_id  \\\n",
       "48          16     16  60f0083fbd62ed8c4e41565c  1199420514818830336   \n",
       "49          10     10  60f0083fbd62ed8c4e415635  1018885295318749184   \n",
       "50         125    126  60f00848bd62ed8c4e416235           3031925218   \n",
       "51         258    259  60f00858bd62ed8c4e417952  1017769924658417670   \n",
       "52         104    105  60f00845bd62ed8c4e415e02            492112419   \n",
       "\n",
       "       display_username       username  \\\n",
       "48  Mandrin Jean-pierre        jpman70   \n",
       "49       Serge FOURQUET  sergefourquet   \n",
       "50       Tanguy Lozac'h         tgylzh   \n",
       "51               TalkAG        talk_ag   \n",
       "52               AGRI72        AGRI_72   \n",
       "\n",
       "                                     user_description  \\\n",
       "48  Agriculteur en voie de conservation des sols e...   \n",
       "49                                                NaN   \n",
       "50  Agronome 🌽🌱| Chef de marché semence (maïs/soya...   \n",
       "51  TalkAG est un réseau social pour les agriculte...   \n",
       "52  Toute l'information agricole sarthoise au serv...   \n",
       "\n",
       "                        time               twt_id  \\\n",
       "48  2020-09-25T18:18:11.000Z  1309557826977660930   \n",
       "49  2020-10-12T18:45:05.000Z  1315725193508278272   \n",
       "50  2020-02-09T15:43:02.000Z  1226531962707419136   \n",
       "51  2019-02-04T16:19:52.000Z  1092457723478900737   \n",
       "52  2020-05-20T16:55:27.000Z  1263151360276680706   \n",
       "\n",
       "                                                 text  ...  \\\n",
       "48  Chrysomèle, pyrale et celle-ci...superbe aveni...  ...   \n",
       "49  Et en France on dit non à un maïs OGM résistan...  ...   \n",
       "50  En attendant grâce au Bt je n’ai jamais vu de ...  ...   \n",
       "51  Pyrale du maïs, comment la combattre ? https:/...  ...   \n",
       "52  A la Une de votre prochain numéro, un dossier ...  ...   \n",
       "\n",
       "                           crop_tags     place_name          place_id country  \\\n",
       "48                          ['maïs']            NaN               NaN     NaN   \n",
       "49                          ['maïs']            NaN               NaN     NaN   \n",
       "50  ['attier', 'maïs', 'maïs grain']  McMasterville  06c4516af7f31c69  Canada   \n",
       "51                          ['maïs']            NaN               NaN     NaN   \n",
       "52                          ['maïs']            NaN               NaN     NaN   \n",
       "\n",
       "   place_type Observation  Pertinence? (/10)  Info temporalite  \\\n",
       "48        NaN           0                  0                 0   \n",
       "49        NaN           0                  0                 0   \n",
       "50       city           0                  0                 0   \n",
       "51        NaN           0                  0                 0   \n",
       "52        NaN           0                  0                 0   \n",
       "\n",
       "    Info localisation  Classification  \n",
       "48                  0         conseil  \n",
       "49                  0       politique  \n",
       "50                  0         conseil  \n",
       "51                  0         conseil  \n",
       "52                  0       politique  \n",
       "\n",
       "[5 rows x 21 columns]"
      ]
     },
     "execution_count": 105,
     "metadata": {},
     "output_type": "execute_result"
    }
   ],
   "source": [
    "#df_val.Disease = df_val.Disease.astype(int)\n",
    "df_val.tail()"
   ]
  },
  {
   "cell_type": "code",
   "execution_count": 106,
   "metadata": {},
   "outputs": [
    {
     "name": "stdout",
     "output_type": "stream",
     "text": [
      "08/30/2021 22:27:57 - INFO - root -   Writing example 0 of 53\n"
     ]
    },
    {
     "name": "stderr",
     "output_type": "stream",
     "text": [
      "C:\\Users\\Shufan\\tools\\anaconda3\\lib\\site-packages\\pandas\\core\\frame.py:1549: FutureWarning: Using short name for 'orient' is deprecated. Only the options: ('dict', list, 'series', 'split', 'records', 'index') will be used in a future version. Use one of the above to silence this warning.\n",
      "  warnings.warn(\n"
     ]
    }
   ],
   "source": [
    "batch_predictions = predictor.predict_batch(df_val.text.to_list())"
   ]
  },
  {
   "cell_type": "code",
   "execution_count": 107,
   "metadata": {},
   "outputs": [
    {
     "data": {
      "text/plain": [
       "[[('Observation', 0.09971734136343002)],\n",
       " [('Observation', 0.09997959434986115)],\n",
       " [('Observation', 0.0997748151421547)],\n",
       " [('Observation', 0.11049496382474899)],\n",
       " [('Observation', 0.09952470660209656)],\n",
       " [('Observation', 0.09886086732149124)],\n",
       " [('Observation', 0.09941551834344864)],\n",
       " [('Observation', 0.12124031782150269)],\n",
       " [('Observation', 0.09907016158103943)],\n",
       " [('Observation', 0.855156421661377)]]"
      ]
     },
     "execution_count": 107,
     "metadata": {},
     "output_type": "execute_result"
    }
   ],
   "source": [
    "batch_predictions[:10]"
   ]
  },
  {
   "cell_type": "code",
   "execution_count": 108,
   "metadata": {},
   "outputs": [],
   "source": [
    "#dict(batch_predictions[1]).values()\n",
    "list_y_pred = [ dict(pred) for pred in batch_predictions]\n",
    "#list_y_pred[-5:]"
   ]
  },
  {
   "cell_type": "code",
   "execution_count": 109,
   "metadata": {},
   "outputs": [
    {
     "data": {
      "text/html": [
       "<div>\n",
       "<style scoped>\n",
       "    .dataframe tbody tr th:only-of-type {\n",
       "        vertical-align: middle;\n",
       "    }\n",
       "\n",
       "    .dataframe tbody tr th {\n",
       "        vertical-align: top;\n",
       "    }\n",
       "\n",
       "    .dataframe thead th {\n",
       "        text-align: right;\n",
       "    }\n",
       "</style>\n",
       "<table border=\"1\" class=\"dataframe\">\n",
       "  <thead>\n",
       "    <tr style=\"text-align: right;\">\n",
       "      <th></th>\n",
       "      <th>pred_O</th>\n",
       "    </tr>\n",
       "  </thead>\n",
       "  <tbody>\n",
       "    <tr>\n",
       "      <th>48</th>\n",
       "      <td>0.100543</td>\n",
       "    </tr>\n",
       "    <tr>\n",
       "      <th>49</th>\n",
       "      <td>0.099385</td>\n",
       "    </tr>\n",
       "    <tr>\n",
       "      <th>50</th>\n",
       "      <td>0.103938</td>\n",
       "    </tr>\n",
       "    <tr>\n",
       "      <th>51</th>\n",
       "      <td>0.099505</td>\n",
       "    </tr>\n",
       "    <tr>\n",
       "      <th>52</th>\n",
       "      <td>0.133095</td>\n",
       "    </tr>\n",
       "  </tbody>\n",
       "</table>\n",
       "</div>"
      ],
      "text/plain": [
       "      pred_O\n",
       "48  0.100543\n",
       "49  0.099385\n",
       "50  0.103938\n",
       "51  0.099505\n",
       "52  0.133095"
      ]
     },
     "execution_count": 109,
     "metadata": {},
     "output_type": "execute_result"
    }
   ],
   "source": [
    "df_y_pred = pd.DataFrame(list_y_pred, columns =['Observation']) \n",
    "df_y_pred = df_y_pred.rename(columns={\"Observation\": \"pred_O\"})\n",
    "df_y_pred.tail()"
   ]
  },
  {
   "cell_type": "code",
   "execution_count": 110,
   "metadata": {},
   "outputs": [
    {
     "data": {
      "text/html": [
       "<div>\n",
       "<style scoped>\n",
       "    .dataframe tbody tr th:only-of-type {\n",
       "        vertical-align: middle;\n",
       "    }\n",
       "\n",
       "    .dataframe tbody tr th {\n",
       "        vertical-align: top;\n",
       "    }\n",
       "\n",
       "    .dataframe thead th {\n",
       "        text-align: right;\n",
       "    }\n",
       "</style>\n",
       "<table border=\"1\" class=\"dataframe\">\n",
       "  <thead>\n",
       "    <tr style=\"text-align: right;\">\n",
       "      <th></th>\n",
       "      <th>pred_O</th>\n",
       "    </tr>\n",
       "  </thead>\n",
       "  <tbody>\n",
       "    <tr>\n",
       "      <th>count</th>\n",
       "      <td>53.000000</td>\n",
       "    </tr>\n",
       "    <tr>\n",
       "      <th>mean</th>\n",
       "      <td>0.229545</td>\n",
       "    </tr>\n",
       "    <tr>\n",
       "      <th>std</th>\n",
       "      <td>0.265801</td>\n",
       "    </tr>\n",
       "    <tr>\n",
       "      <th>min</th>\n",
       "      <td>0.098542</td>\n",
       "    </tr>\n",
       "    <tr>\n",
       "      <th>25%</th>\n",
       "      <td>0.099775</td>\n",
       "    </tr>\n",
       "    <tr>\n",
       "      <th>50%</th>\n",
       "      <td>0.100372</td>\n",
       "    </tr>\n",
       "    <tr>\n",
       "      <th>75%</th>\n",
       "      <td>0.114495</td>\n",
       "    </tr>\n",
       "    <tr>\n",
       "      <th>max</th>\n",
       "      <td>0.856407</td>\n",
       "    </tr>\n",
       "  </tbody>\n",
       "</table>\n",
       "</div>"
      ],
      "text/plain": [
       "          pred_O\n",
       "count  53.000000\n",
       "mean    0.229545\n",
       "std     0.265801\n",
       "min     0.098542\n",
       "25%     0.099775\n",
       "50%     0.100372\n",
       "75%     0.114495\n",
       "max     0.856407"
      ]
     },
     "execution_count": 110,
     "metadata": {},
     "output_type": "execute_result"
    }
   ],
   "source": [
    "df_y_pred.describe()"
   ]
  },
  {
   "cell_type": "code",
   "execution_count": 111,
   "metadata": {},
   "outputs": [
    {
     "data": {
      "text/html": [
       "<div>\n",
       "<style scoped>\n",
       "    .dataframe tbody tr th:only-of-type {\n",
       "        vertical-align: middle;\n",
       "    }\n",
       "\n",
       "    .dataframe tbody tr th {\n",
       "        vertical-align: top;\n",
       "    }\n",
       "\n",
       "    .dataframe thead th {\n",
       "        text-align: right;\n",
       "    }\n",
       "</style>\n",
       "<table border=\"1\" class=\"dataframe\">\n",
       "  <thead>\n",
       "    <tr style=\"text-align: right;\">\n",
       "      <th></th>\n",
       "      <th>Observation</th>\n",
       "    </tr>\n",
       "  </thead>\n",
       "  <tbody>\n",
       "    <tr>\n",
       "      <th>48</th>\n",
       "      <td>0</td>\n",
       "    </tr>\n",
       "    <tr>\n",
       "      <th>49</th>\n",
       "      <td>0</td>\n",
       "    </tr>\n",
       "    <tr>\n",
       "      <th>50</th>\n",
       "      <td>0</td>\n",
       "    </tr>\n",
       "    <tr>\n",
       "      <th>51</th>\n",
       "      <td>0</td>\n",
       "    </tr>\n",
       "    <tr>\n",
       "      <th>52</th>\n",
       "      <td>0</td>\n",
       "    </tr>\n",
       "  </tbody>\n",
       "</table>\n",
       "</div>"
      ],
      "text/plain": [
       "    Observation\n",
       "48            0\n",
       "49            0\n",
       "50            0\n",
       "51            0\n",
       "52            0"
      ]
     },
     "execution_count": 111,
     "metadata": {},
     "output_type": "execute_result"
    }
   ],
   "source": [
    "df_y_real = pd.DataFrame(df_val, columns=['Observation'])\n",
    "df_y_real.tail()"
   ]
  },
  {
   "cell_type": "code",
   "execution_count": 112,
   "metadata": {},
   "outputs": [
    {
     "data": {
      "text/html": [
       "<div>\n",
       "<style scoped>\n",
       "    .dataframe tbody tr th:only-of-type {\n",
       "        vertical-align: middle;\n",
       "    }\n",
       "\n",
       "    .dataframe tbody tr th {\n",
       "        vertical-align: top;\n",
       "    }\n",
       "\n",
       "    .dataframe thead th {\n",
       "        text-align: right;\n",
       "    }\n",
       "</style>\n",
       "<table border=\"1\" class=\"dataframe\">\n",
       "  <thead>\n",
       "    <tr style=\"text-align: right;\">\n",
       "      <th></th>\n",
       "      <th>Observation</th>\n",
       "    </tr>\n",
       "  </thead>\n",
       "  <tbody>\n",
       "    <tr>\n",
       "      <th>count</th>\n",
       "      <td>53.000000</td>\n",
       "    </tr>\n",
       "    <tr>\n",
       "      <th>mean</th>\n",
       "      <td>0.132075</td>\n",
       "    </tr>\n",
       "    <tr>\n",
       "      <th>std</th>\n",
       "      <td>0.341813</td>\n",
       "    </tr>\n",
       "    <tr>\n",
       "      <th>min</th>\n",
       "      <td>0.000000</td>\n",
       "    </tr>\n",
       "    <tr>\n",
       "      <th>25%</th>\n",
       "      <td>0.000000</td>\n",
       "    </tr>\n",
       "    <tr>\n",
       "      <th>50%</th>\n",
       "      <td>0.000000</td>\n",
       "    </tr>\n",
       "    <tr>\n",
       "      <th>75%</th>\n",
       "      <td>0.000000</td>\n",
       "    </tr>\n",
       "    <tr>\n",
       "      <th>max</th>\n",
       "      <td>1.000000</td>\n",
       "    </tr>\n",
       "  </tbody>\n",
       "</table>\n",
       "</div>"
      ],
      "text/plain": [
       "       Observation\n",
       "count    53.000000\n",
       "mean      0.132075\n",
       "std       0.341813\n",
       "min       0.000000\n",
       "25%       0.000000\n",
       "50%       0.000000\n",
       "75%       0.000000\n",
       "max       1.000000"
      ]
     },
     "execution_count": 112,
     "metadata": {},
     "output_type": "execute_result"
    }
   ],
   "source": [
    "df_y_real.describe()"
   ]
  },
  {
   "cell_type": "code",
   "execution_count": 113,
   "metadata": {},
   "outputs": [],
   "source": [
    "import numpy as np\n",
    "from sklearn.metrics import f1_score, recall_score, precision_score, accuracy_score\n",
    "from sklearn.metrics import precision_recall_curve"
   ]
  },
  {
   "cell_type": "code",
   "execution_count": 114,
   "metadata": {},
   "outputs": [],
   "source": [
    "precision, recall, threshold = precision_recall_curve(df_y_real.values, df_y_pred.values)"
   ]
  },
  {
   "cell_type": "code",
   "execution_count": 115,
   "metadata": {},
   "outputs": [
    {
     "data": {
      "text/plain": [
       "array([0.18421053, 0.16216216, 0.16666667, 0.17142857, 0.17647059,\n",
       "       0.18181818, 0.1875    , 0.19354839, 0.2       , 0.20689655,\n",
       "       0.21428571, 0.22222222, 0.23076923, 0.24      , 0.25      ,\n",
       "       0.26086957, 0.27272727, 0.28571429, 0.3       , 0.31578947,\n",
       "       0.33333333, 0.35294118, 0.3125    , 0.33333333, 0.35714286,\n",
       "       0.38461538, 0.41666667, 0.45454545, 0.4       , 0.44444444,\n",
       "       0.5       , 0.57142857, 0.66666667, 0.8       , 0.75      ,\n",
       "       1.        , 1.        , 1.        , 1.        ])"
      ]
     },
     "execution_count": 115,
     "metadata": {},
     "output_type": "execute_result"
    }
   ],
   "source": [
    "precision"
   ]
  },
  {
   "cell_type": "code",
   "execution_count": 116,
   "metadata": {},
   "outputs": [
    {
     "data": {
      "text/plain": [
       "array([1.        , 0.85714286, 0.85714286, 0.85714286, 0.85714286,\n",
       "       0.85714286, 0.85714286, 0.85714286, 0.85714286, 0.85714286,\n",
       "       0.85714286, 0.85714286, 0.85714286, 0.85714286, 0.85714286,\n",
       "       0.85714286, 0.85714286, 0.85714286, 0.85714286, 0.85714286,\n",
       "       0.85714286, 0.85714286, 0.71428571, 0.71428571, 0.71428571,\n",
       "       0.71428571, 0.71428571, 0.71428571, 0.57142857, 0.57142857,\n",
       "       0.57142857, 0.57142857, 0.57142857, 0.57142857, 0.42857143,\n",
       "       0.42857143, 0.28571429, 0.14285714, 0.        ])"
      ]
     },
     "execution_count": 116,
     "metadata": {},
     "output_type": "execute_result"
    }
   ],
   "source": [
    "recall"
   ]
  },
  {
   "cell_type": "code",
   "execution_count": 117,
   "metadata": {},
   "outputs": [
    {
     "data": {
      "text/plain": [
       "array([0.09989703, 0.09995586, 0.09997497, 0.09997959, 0.10003053,\n",
       "       0.10004236, 0.10007516, 0.10012134, 0.10017262, 0.10020913,\n",
       "       0.10021029, 0.10037222, 0.10054343, 0.10059154, 0.10093002,\n",
       "       0.1014892 , 0.10169376, 0.10178363, 0.1019374 , 0.10239314,\n",
       "       0.10371134, 0.10376374, 0.10393775, 0.11049496, 0.11449456,\n",
       "       0.12124032, 0.13309534, 0.3285988 , 0.36732274, 0.63343799,\n",
       "       0.6881339 , 0.75898892, 0.81807935, 0.85515642, 0.85576648,\n",
       "       0.85599571, 0.85637265, 0.85640705])"
      ]
     },
     "execution_count": 117,
     "metadata": {},
     "output_type": "execute_result"
    }
   ],
   "source": [
    "threshold"
   ]
  },
  {
   "cell_type": "code",
   "execution_count": 121,
   "metadata": {},
   "outputs": [
    {
     "data": {
      "text/plain": [
       "0.8"
      ]
     },
     "execution_count": 121,
     "metadata": {},
     "output_type": "execute_result"
    }
   ],
   "source": [
    "precision_score(y_true=df_y_real.values, y_pred=df_y_pred.values > 0.85, average='binary')"
   ]
  },
  {
   "cell_type": "code",
   "execution_count": 122,
   "metadata": {},
   "outputs": [
    {
     "data": {
      "text/plain": [
       "0.5714285714285714"
      ]
     },
     "execution_count": 122,
     "metadata": {},
     "output_type": "execute_result"
    }
   ],
   "source": [
    "recall_score(y_true=df_y_real.values, y_pred=df_y_pred.values > 0.85,average='binary')"
   ]
  },
  {
   "cell_type": "code",
   "execution_count": 123,
   "metadata": {},
   "outputs": [
    {
     "data": {
      "text/plain": [
       "0.6666666666666666"
      ]
     },
     "execution_count": 123,
     "metadata": {},
     "output_type": "execute_result"
    }
   ],
   "source": [
    "f1_score(y_true=df_y_real.values, y_pred=df_y_pred.values > 0.85,average='binary')"
   ]
  },
  {
   "cell_type": "code",
   "execution_count": 126,
   "metadata": {},
   "outputs": [
    {
     "data": {
      "text/plain": [
       "0.9245283018867925"
      ]
     },
     "execution_count": 126,
     "metadata": {},
     "output_type": "execute_result"
    }
   ],
   "source": [
    "accuracy_score(y_true=df_y_real.values, y_pred=df_y_pred.values > 0.85)"
   ]
  },
  {
   "cell_type": "code",
   "execution_count": 128,
   "metadata": {},
   "outputs": [],
   "source": [
    "df_results = pd.concat([df_val, df_y_pred > 0.85], axis=1, ignore_index=True)"
   ]
  },
  {
   "cell_type": "code",
   "execution_count": 129,
   "metadata": {},
   "outputs": [],
   "source": [
    "df_results.to_csv('twt_predictions.csv')"
   ]
  },
  {
   "cell_type": "code",
   "execution_count": null,
   "metadata": {},
   "outputs": [],
   "source": []
  }
 ],
 "metadata": {
  "kernelspec": {
   "display_name": "Python 3",
   "language": "python",
   "name": "python3"
  },
  "language_info": {
   "codemirror_mode": {
    "name": "ipython",
    "version": 3
   },
   "file_extension": ".py",
   "mimetype": "text/x-python",
   "name": "python",
   "nbconvert_exporter": "python",
   "pygments_lexer": "ipython3",
   "version": "3.8.8"
  }
 },
 "nbformat": 4,
 "nbformat_minor": 4
}
