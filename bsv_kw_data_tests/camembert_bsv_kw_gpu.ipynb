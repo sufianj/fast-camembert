{
 "cells": [
  {
   "cell_type": "markdown",
   "metadata": {},
   "source": [
    "## BSV Multilabel classification with camembert\n",
    "### The code and data are adapted from:  https://medium.com/@vitalshchutski/french-nlp-entamez-le-camembert-avec-les-librairies-fast-bert-et-transformers-14e65f84c148"
   ]
  },
  {
   "cell_type": "code",
   "execution_count": 1,
   "metadata": {},
   "outputs": [],
   "source": [
    "# !conda install torch\n",
    "# !pip install fast-bert==1.9.1\n",
    "# !mkdir model\n",
    "# !mkdir finetuned_model"
   ]
  },
  {
   "cell_type": "code",
   "execution_count": 9,
   "metadata": {},
   "outputs": [],
   "source": [
    "import torch\n",
    "from fast_bert.data_cls import BertDataBunch \n",
    "from fast_bert.learner_cls import BertLearner\n",
    "from fast_bert.data_lm import BertLMDataBunch\n",
    "from fast_bert.learner_lm import BertLMLearner\n",
    "from fast_bert.metrics import fbeta, roc_auc\n",
    "from fast_bert.prediction import BertClassificationPredictor\n",
    "from pathlib import Path\n",
    "import pandas as pd\n",
    "import logging\n",
    "import datetime\n",
    "import sys\n",
    "\n",
    "\n",
    "device_cuda = torch.device(\"cuda\")"
   ]
  },
  {
   "cell_type": "code",
   "execution_count": 10,
   "metadata": {},
   "outputs": [],
   "source": [
    "DATA_PATH = Path('./data/')\n",
    "LOG_PATH = Path('./logs/')\n",
    "MODEL_PATH = Path('./model/')\n",
    "LABEL_PATH = Path('./labels/')"
   ]
  },
  {
   "cell_type": "code",
   "execution_count": 12,
   "metadata": {},
   "outputs": [],
   "source": [
    "import logging\n",
    "\n",
    "run_start_time = datetime.datetime.today().strftime('%Y-%m-%d_%H-%M-%S')\n",
    "logfile = str(LOG_PATH/'log-{}-{}.txt'.format(run_start_time, \"BSV Multilabel classification with camembert\"))\n",
    "\n",
    "logging.basicConfig(\n",
    "    level=logging.INFO,\n",
    "    format='%(asctime)s - %(levelname)s - %(name)s -   %(message)s',\n",
    "    datefmt='%m/%d/%Y %H:%M:%S',\n",
    "    handlers=[\n",
    "        logging.FileHandler(logfile),\n",
    "        logging.StreamHandler(sys.stdout)\n",
    "    ])\n",
    "logger = logging.getLogger()"
   ]
  },
  {
   "cell_type": "code",
   "execution_count": 13,
   "metadata": {},
   "outputs": [],
   "source": [
    "df = pd.read_csv('./data/bsv_chunk256_ba_mld_1201-1500.csv')"
   ]
  },
  {
   "cell_type": "code",
   "execution_count": 14,
   "metadata": {},
   "outputs": [
    {
     "name": "stdout",
     "output_type": "stream",
     "text": [
      "Nombre de commentaires dans le val_set: 860\n",
      "Nombre de commentaires dans le train_set: 3441\n"
     ]
    }
   ],
   "source": [
    "val_set = df.sample(frac=0.2, replace=False, random_state=42)\n",
    "train_set = df.drop(index = val_set.index)\n",
    "print('Nombre de commentaires dans le val_set:',len(val_set))\n",
    "print('Nombre de commentaires dans le train_set:', len(train_set))\n",
    "val_set.to_csv('./data/val_set.csv')\n",
    "train_set.to_csv('./data/train_set.csv')"
   ]
  },
  {
   "cell_type": "code",
   "execution_count": 15,
   "metadata": {},
   "outputs": [],
   "source": [
    "labels = df.columns[1:3].to_list() \n",
    "with open('./labels/labels.txt', 'w') as f:\n",
    "    for i in labels:\n",
    "        f.write(i + \"\\n\")"
   ]
  },
  {
   "cell_type": "code",
   "execution_count": 16,
   "metadata": {},
   "outputs": [
    {
     "name": "stdout",
     "output_type": "stream",
     "text": [
      "Nombre de bloc de texte: 2801\n"
     ]
    }
   ],
   "source": [
    "df_texts = pd.read_csv('./data/bsv_chunk256_raw_1001-1200.csv')\n",
    "all_texts = df_texts['report_text'].to_list()\n",
    "print('Nombre de bloc de texte:', len(all_texts))"
   ]
  },
  {
   "cell_type": "markdown",
   "metadata": {},
   "source": [
    "### Création de LMDataBunch"
   ]
  },
  {
   "cell_type": "code",
   "execution_count": 17,
   "metadata": {},
   "outputs": [
    {
     "name": "stdout",
     "output_type": "stream",
     "text": [
      "03/01/2021 23:00:59 - INFO - root -   Formatting corpus for data\\lm_train.txt\n"
     ]
    },
    {
     "data": {
      "text/html": [
       "\n",
       "    <div>\n",
       "        <style>\n",
       "            /* Turns off some styling */\n",
       "            progress {\n",
       "                /* gets rid of default border in Firefox and Opera. */\n",
       "                border: none;\n",
       "                /* Needs to be in here for Safari polyfill so background images work as expected. */\n",
       "                background-size: auto;\n",
       "            }\n",
       "            .progress-bar-interrupted, .progress-bar-interrupted::-webkit-progress-bar {\n",
       "                background: #F44336;\n",
       "            }\n",
       "        </style>\n",
       "      <progress value='2520' class='' max='2520' style='width:300px; height:20px; vertical-align: middle;'></progress>\n",
       "      100.00% [2520/2520 00:00<00:00]\n",
       "    </div>\n",
       "    "
      ],
      "text/plain": [
       "<IPython.core.display.HTML object>"
      ]
     },
     "metadata": {},
     "output_type": "display_data"
    },
    {
     "name": "stdout",
     "output_type": "stream",
     "text": [
      "03/01/2021 23:00:59 - INFO - root -   Formatting corpus for data\\lm_val.txt\n"
     ]
    },
    {
     "data": {
      "text/html": [
       "\n",
       "    <div>\n",
       "        <style>\n",
       "            /* Turns off some styling */\n",
       "            progress {\n",
       "                /* gets rid of default border in Firefox and Opera. */\n",
       "                border: none;\n",
       "                /* Needs to be in here for Safari polyfill so background images work as expected. */\n",
       "                background-size: auto;\n",
       "            }\n",
       "            .progress-bar-interrupted, .progress-bar-interrupted::-webkit-progress-bar {\n",
       "                background: #F44336;\n",
       "            }\n",
       "        </style>\n",
       "      <progress value='281' class='' max='281' style='width:300px; height:20px; vertical-align: middle;'></progress>\n",
       "      100.00% [281/281 00:00<00:00]\n",
       "    </div>\n",
       "    "
      ],
      "text/plain": [
       "<IPython.core.display.HTML object>"
      ]
     },
     "metadata": {},
     "output_type": "display_data"
    },
    {
     "name": "stdout",
     "output_type": "stream",
     "text": [
      "03/01/2021 23:00:59 - INFO - transformers.tokenization_utils_base -   loading file https://s3.amazonaws.com/models.huggingface.co/bert/camembert-base-sentencepiece.bpe.model from cache at C:\\Users\\Raja/.cache\\torch\\transformers\\3715e3a4a2de48834619b2a6f48979e13ddff5cabfb1f3409db689f9ce3bb98f.28d30f926f545047fc59da64289371eef0fbdc0764ce9ec56f808a646fcfec59\n",
      "03/01/2021 23:00:59 - INFO - root -   Loading features from cached file data\\lm_cache\\cached_camembert-base_train_256\n",
      "03/01/2021 23:00:59 - INFO - root -   Loading features from cached file data\\lm_cache\\cached_camembert-base_dev_256\n"
     ]
    }
   ],
   "source": [
    "databunch_lm = BertLMDataBunch.from_raw_corpus(\n",
    "                    data_dir=DATA_PATH,\n",
    "                    text_list=all_texts,\n",
    "                    tokenizer='camembert-base',\n",
    "                    batch_size_per_gpu=4, #was 16, even 8 won't do\n",
    "                    max_seq_length=256, #was 512\n",
    "                    multi_gpu=False,\n",
    "                    model_type='camembert-base',\n",
    "                    logger=logger)"
   ]
  },
  {
   "cell_type": "markdown",
   "metadata": {},
   "source": [
    "### Création de LMLearner"
   ]
  },
  {
   "cell_type": "code",
   "execution_count": 18,
   "metadata": {},
   "outputs": [
    {
     "name": "stdout",
     "output_type": "stream",
     "text": [
      "03/01/2021 23:01:13 - INFO - transformers.configuration_utils -   loading configuration file https://s3.amazonaws.com/models.huggingface.co/bert/camembert-base-config.json from cache at C:\\Users\\Raja/.cache\\torch\\transformers\\5152a7b8b97da26abdad9b3babb600e77c52a002331ea52a9eaf96ea8b31ef8f.5bd7a9a60b9a2d311368226259eaf870cfb2248e0752f28b444ec112977cf8fc\n",
      "03/01/2021 23:01:13 - INFO - transformers.configuration_utils -   Model config CamembertConfig {\n",
      "  \"architectures\": [\n",
      "    \"CamembertForMaskedLM\"\n",
      "  ],\n",
      "  \"attention_probs_dropout_prob\": 0.1,\n",
      "  \"bos_token_id\": 5,\n",
      "  \"eos_token_id\": 6,\n",
      "  \"gradient_checkpointing\": false,\n",
      "  \"hidden_act\": \"gelu\",\n",
      "  \"hidden_dropout_prob\": 0.1,\n",
      "  \"hidden_size\": 768,\n",
      "  \"initializer_range\": 0.02,\n",
      "  \"intermediate_size\": 3072,\n",
      "  \"layer_norm_eps\": 1e-05,\n",
      "  \"max_position_embeddings\": 514,\n",
      "  \"model_type\": \"camembert\",\n",
      "  \"num_attention_heads\": 12,\n",
      "  \"num_hidden_layers\": 12,\n",
      "  \"output_past\": true,\n",
      "  \"pad_token_id\": 1,\n",
      "  \"type_vocab_size\": 1,\n",
      "  \"vocab_size\": 32005\n",
      "}\n",
      "\n",
      "03/01/2021 23:01:13 - INFO - transformers.modeling_utils -   loading weights file https://cdn.huggingface.co/camembert-base-pytorch_model.bin from cache at C:\\Users\\Raja/.cache\\torch\\transformers\\ee2c065a25e8f42cb2c52eb565b1d3757a20cf9776e93753bab41493298d70f9.b064d06bc988544d63f563021dbacad6eda41bd45190b6186beb8ebbc959013c\n",
      "03/01/2021 23:01:16 - INFO - transformers.modeling_utils -   All model checkpoint weights were used when initializing CamembertForMaskedLM.\n",
      "\n",
      "03/01/2021 23:01:16 - WARNING - transformers.modeling_utils -   Some weights of CamembertForMaskedLM were not initialized from the model checkpoint at camembert-base and are newly initialized: ['lm_head.decoder.bias']\n",
      "You should probably TRAIN this model on a down-stream task to be able to use it for predictions and inference.\n"
     ]
    }
   ],
   "source": [
    "lm_learner = BertLMLearner.from_pretrained_model(\n",
    "                            dataBunch=databunch_lm,\n",
    "                            pretrained_path='camembert-base',\n",
    "                            output_dir=MODEL_PATH,\n",
    "                            metrics=[],\n",
    "                            device=device_cuda,\n",
    "                            logger=logger,\n",
    "                            multi_gpu=False,\n",
    "                            logging_steps=500,\n",
    "                            is_fp16=True) #was true with gpu"
   ]
  },
  {
   "cell_type": "code",
   "execution_count": null,
   "metadata": {},
   "outputs": [],
   "source": [
    "lm_learner.fit(epochs=2, #was 30\n",
    "            lr=1e-4,\n",
    "            validate=True,\n",
    "            schedule_type=\"warmup_cosine\",\n",
    "            optimizer_type=\"adamw\")"
   ]
  },
  {
   "cell_type": "code",
   "execution_count": 21,
   "metadata": {},
   "outputs": [
    {
     "name": "stdout",
     "output_type": "stream",
     "text": [
      "03/01/2021 23:07:48 - INFO - root -   Running evaluation\n",
      "03/01/2021 23:07:48 - INFO - root -   Num examples = 28\n",
      "03/01/2021 23:07:48 - INFO - root -   Validation Batch size = 8\n"
     ]
    },
    {
     "data": {
      "text/html": [
       "\n",
       "    <div>\n",
       "        <style>\n",
       "            /* Turns off some styling */\n",
       "            progress {\n",
       "                /* gets rid of default border in Firefox and Opera. */\n",
       "                border: none;\n",
       "                /* Needs to be in here for Safari polyfill so background images work as expected. */\n",
       "                background-size: auto;\n",
       "            }\n",
       "            .progress-bar-interrupted, .progress-bar-interrupted::-webkit-progress-bar {\n",
       "                background: #F44336;\n",
       "            }\n",
       "        </style>\n",
       "      <progress value='4' class='' max='4' style='width:300px; height:20px; vertical-align: middle;'></progress>\n",
       "      100.00% [4/4 00:00<00:00]\n",
       "    </div>\n",
       "    "
      ],
      "text/plain": [
       "<IPython.core.display.HTML object>"
      ]
     },
     "metadata": {},
     "output_type": "display_data"
    },
    {
     "data": {
      "text/plain": [
       "{'loss': 0.11013594828546047, 'perplexity': 1.1164298057556152}"
      ]
     },
     "execution_count": 21,
     "metadata": {},
     "output_type": "execute_result"
    }
   ],
   "source": [
    "lm_learner.validate()"
   ]
  },
  {
   "cell_type": "code",
   "execution_count": 22,
   "metadata": {},
   "outputs": [
    {
     "name": "stdout",
     "output_type": "stream",
     "text": [
      "03/01/2021 23:07:52 - INFO - transformers.configuration_utils -   Configuration saved in model\\model_out\\config.json\n",
      "03/01/2021 23:07:53 - INFO - transformers.modeling_utils -   Model weights saved in model\\model_out\\pytorch_model.bin\n"
     ]
    }
   ],
   "source": [
    "lm_learner.save_model()"
   ]
  },
  {
   "cell_type": "code",
   "execution_count": 23,
   "metadata": {},
   "outputs": [],
   "source": [
    "del lm_learner"
   ]
  },
  {
   "cell_type": "markdown",
   "metadata": {},
   "source": [
    "### Création de databunch pour la classification"
   ]
  },
  {
   "cell_type": "code",
   "execution_count": 24,
   "metadata": {},
   "outputs": [
    {
     "name": "stdout",
     "output_type": "stream",
     "text": [
      "03/01/2021 23:08:35 - INFO - transformers.configuration_utils -   loading configuration file https://s3.amazonaws.com/models.huggingface.co/bert/camembert-base-config.json from cache at C:\\Users\\Raja/.cache\\torch\\transformers\\5152a7b8b97da26abdad9b3babb600e77c52a002331ea52a9eaf96ea8b31ef8f.5bd7a9a60b9a2d311368226259eaf870cfb2248e0752f28b444ec112977cf8fc\n",
      "03/01/2021 23:08:35 - INFO - transformers.configuration_utils -   Model config CamembertConfig {\n",
      "  \"architectures\": [\n",
      "    \"CamembertForMaskedLM\"\n",
      "  ],\n",
      "  \"attention_probs_dropout_prob\": 0.1,\n",
      "  \"bos_token_id\": 5,\n",
      "  \"eos_token_id\": 6,\n",
      "  \"gradient_checkpointing\": false,\n",
      "  \"hidden_act\": \"gelu\",\n",
      "  \"hidden_dropout_prob\": 0.1,\n",
      "  \"hidden_size\": 768,\n",
      "  \"initializer_range\": 0.02,\n",
      "  \"intermediate_size\": 3072,\n",
      "  \"layer_norm_eps\": 1e-05,\n",
      "  \"max_position_embeddings\": 514,\n",
      "  \"model_type\": \"camembert\",\n",
      "  \"num_attention_heads\": 12,\n",
      "  \"num_hidden_layers\": 12,\n",
      "  \"output_past\": true,\n",
      "  \"pad_token_id\": 1,\n",
      "  \"type_vocab_size\": 1,\n",
      "  \"vocab_size\": 32005\n",
      "}\n",
      "\n",
      "03/01/2021 23:08:36 - INFO - transformers.tokenization_utils_base -   loading file https://s3.amazonaws.com/models.huggingface.co/bert/camembert-base-sentencepiece.bpe.model from cache at C:\\Users\\Raja/.cache\\torch\\transformers\\3715e3a4a2de48834619b2a6f48979e13ddff5cabfb1f3409db689f9ce3bb98f.28d30f926f545047fc59da64289371eef0fbdc0764ce9ec56f808a646fcfec59\n",
      "03/01/2021 23:08:36 - INFO - root -   Loading features from cached file data\\cache\\cached_camembert-base_train_multi_label_256_train_set.csv\n",
      "03/01/2021 23:08:36 - INFO - root -   Loading features from cached file data\\cache\\cached_camembert-base_dev_multi_label_256_val_set.csv\n"
     ]
    }
   ],
   "source": [
    "databunch = BertDataBunch(DATA_PATH, LABEL_PATH,\n",
    "                          tokenizer='camembert-base',\n",
    "                          train_file='train_set.csv',\n",
    "                          val_file='val_set.csv',\n",
    "                          label_file='labels.txt',\n",
    "                          text_col='report_text',\n",
    "                          label_col=['Bioagressor','Disease'],\n",
    "                          batch_size_per_gpu=8,\n",
    "                          max_seq_length=256,\n",
    "                          multi_gpu=False,\n",
    "                          multi_label=True,\n",
    "                          model_type='camembert-base')"
   ]
  },
  {
   "cell_type": "markdown",
   "metadata": {},
   "source": [
    "### Création de Learner pour la classification"
   ]
  },
  {
   "cell_type": "code",
   "execution_count": 71,
   "metadata": {},
   "outputs": [],
   "source": [
    "from fast_bert.metrics import roc_auc, accuracy_thresh, fbeta # accuracy_multilabel,\n",
    "from sklearn.metrics import hamming_loss, accuracy_score, roc_curve, auc, roc_auc_score, f1_score, multilabel_confusion_matrix\n",
    "from torch import Tensor"
   ]
  },
  {
   "cell_type": "markdown",
   "metadata": {},
   "source": [
    "#### Metrics functions:"
   ]
  },
  {
   "cell_type": "code",
   "execution_count": 112,
   "metadata": {},
   "outputs": [],
   "source": [
    "#metrics for multi-label\n",
    "threshold = 0.5\n",
    "def Hamming_loss(y_pred:Tensor, y_true:Tensor, sigmoid:bool = True, thresh:float = threshold, sample_weight = None):\n",
    "    y_true = y_true.detach().cpu()\n",
    "    y_pred = y_pred.detach().cpu()\n",
    "    if sigmoid: y_pred = y_pred.sigmoid()\n",
    "    y_pred = (y_pred > thresh).float()\n",
    "    return hamming_loss(y_true, y_pred, sample_weight = sample_weight)\n",
    "\n",
    "def Exact_Match_Ratio(y_pred:Tensor, y_true:Tensor, sigmoid:bool = True, thresh:float = threshold, normalize:bool = True, sample_weight = None):\n",
    "    y_true = y_true.detach().cpu()\n",
    "    y_pred = y_pred.detach().cpu()\n",
    "    if sigmoid: y_pred = y_pred.sigmoid()\n",
    "    y_pred = (y_pred > thresh).float()\n",
    "    return accuracy_score(y_true, y_pred, normalize = normalize, sample_weight = sample_weight)\n",
    "\n",
    "def roc_auc_score_macro(y_pred:Tensor, y_true:Tensor, sigmoid:bool = True, average = 'macro', sample_weight = None):\n",
    "    y_true = y_true.detach().cpu()\n",
    "    y_pred = y_pred.detach().cpu()\n",
    "    if sigmoid: y_pred = y_pred.sigmoid()\n",
    "    return roc_auc_score(y_true, y_pred, average = average, sample_weight = sample_weight)\n",
    "\n",
    "def roc_auc_score_micro(y_pred:Tensor, y_true:Tensor, sigmoid:bool = True):\n",
    "    y_true = y_true.detach().cpu()\n",
    "    y_pred = y_pred.detach().cpu()\n",
    "    return roc_auc_score_macro(y_pred, y_true, sigmoid = sigmoid, average = 'micro')\n",
    "\n",
    "def roc_auc_score_by_label(y_pred:Tensor, y_true:Tensor, sigmoid:bool = True):\n",
    "    y_true = y_true.detach().cpu()\n",
    "    y_pred = y_pred.detach().cpu()\n",
    "    return roc_auc_score_macro(y_pred, y_true, sigmoid = sigmoid, average = None)\n",
    "\n",
    "def ROC_AUC_by_label(y_pred: Tensor, y_true: Tensor, sigmoid:bool = True, labels:list = labels):\n",
    "    y_true = y_true.detach().cpu()\n",
    "    y_pred = y_pred.detach().cpu()\n",
    "    # Compute ROC curve and ROC area for each label\n",
    "    if sigmoid: y_pred = y_pred.sigmoid()\n",
    "    fpr = dict()\n",
    "    tpr = dict()\n",
    "    roc_auc = dict()\n",
    "    for i in range(len(labels)):\n",
    "        fpr[i], tpr[i], _ = roc_curve(y_true[:, i], y_pred[:, i])\n",
    "        roc_auc[labels[i]] = auc(fpr[i], tpr[i])\n",
    "    return roc_auc\n",
    "\n",
    "def F1(y_pred:Tensor, y_true:Tensor, sigmoid:bool = True, threshold:float = threshold):\n",
    "    y_true = y_true.detach().cpu()\n",
    "    y_pred = y_pred.detach().cpu()\n",
    "    return fbeta(y_pred, y_true, sigmoid = sigmoid, thresh = threshold, beta = 1)\n",
    "\n",
    "def F1_macro(y_pred:Tensor, y_true:Tensor, sigmoid:bool = True, thresh:float = threshold, average = 'macro', sample_weight = None):\n",
    "    y_true = y_true.detach().cpu()\n",
    "    y_pred = y_pred.detach().cpu()\n",
    "    if sigmoid: y_pred = y_pred.sigmoid()\n",
    "    y_pred = (y_pred > thresh).float()\n",
    "    return f1_score(y_true, y_pred, average = average, sample_weight = sample_weight)\n",
    "\n",
    "def F1_micro(y_pred:Tensor, y_true:Tensor, sigmoid:bool = True):\n",
    "    y_true = y_true.detach().cpu()\n",
    "    y_pred = y_pred.detach().cpu()\n",
    "    return F1_macro(y_pred, y_true, sigmoid = sigmoid, average = 'micro')\n",
    "\n",
    "def F1_by_label(y_pred:Tensor, y_true:Tensor, sigmoid:bool = True, thresh:float = threshold, sample_weight = None, labels:list = labels):\n",
    "    y_true = y_true.detach().cpu()\n",
    "    y_pred = y_pred.detach().cpu()\n",
    "    if sigmoid: y_pred = y_pred.sigmoid()\n",
    "    y_pred = (y_pred > thresh).float()\n",
    "    return f1_score(y_true, y_pred, average = None)\n",
    "\n",
    "def accuracy_by_label(y_pred: Tensor, y_true: Tensor, sigmoid:bool = True, thresh:float = threshold, normalize:bool = True, sample_weight = None, labels:list = labels):\n",
    "    y_true = y_true.detach().cpu()\n",
    "    y_pred = y_pred.detach().cpu()\n",
    "    if sigmoid: y_pred = y_pred.sigmoid()\n",
    "    y_pred = (y_pred > thresh).float()\n",
    "    accuracies = {}\n",
    "    for i in range(len(labels)):\n",
    "        accuracies[labels[i]] = accuracy_score(y_true[:, i], y_pred[:, i], normalize = normalize, sample_weight = sample_weight)\n",
    "    return accuracies\n",
    "\n",
    "def confusion_matrix_by_label(y_pred:Tensor, y_true:Tensor, sigmoid:bool = True, thresh:float = threshold, sample_weight = None, samplewise = False, labels:list = labels):\n",
    "    y_true = y_true.detach().cpu()\n",
    "    y_pred = y_pred.detach().cpu()\n",
    "    if sigmoid: y_pred = y_pred.sigmoid()\n",
    "    y_pred = (y_pred > thresh).float()\n",
    "    return multilabel_confusion_matrix(y_true, y_pred, labels = [i for i in range(len(labels))], sample_weight = sample_weight, samplewise = samplewise)"
   ]
  },
  {
   "cell_type": "code",
   "execution_count": 113,
   "metadata": {},
   "outputs": [],
   "source": [
    "metrics = [{'name': 'Hamming_loss', 'function': Hamming_loss}, \n",
    "           {'name': 'accuracy_by_label', 'function': accuracy_by_label},\n",
    "           {'name': 'roc_auc_score_by_label', 'function': roc_auc_score_by_label},\n",
    "           {'name': 'F1_by_label', 'function': F1_by_label},\n",
    "           {'name': 'F1', 'function': F1}, ]\n",
    "OUTPUT_DIR = Path('./finetuned_model')\n",
    "WGTS_PATH = Path('model/model_out/pytorch_model.bin')"
   ]
  },
  {
   "cell_type": "code",
   "execution_count": 114,
   "metadata": {},
   "outputs": [
    {
     "name": "stdout",
     "output_type": "stream",
     "text": [
      "03/02/2021 01:49:20 - INFO - transformers.configuration_utils -   loading configuration file model/model_out\\config.json\n",
      "03/02/2021 01:49:20 - INFO - transformers.configuration_utils -   Model config CamembertConfig {\n",
      "  \"architectures\": [\n",
      "    \"CamembertForMaskedLM\"\n",
      "  ],\n",
      "  \"attention_probs_dropout_prob\": 0.1,\n",
      "  \"bos_token_id\": 5,\n",
      "  \"eos_token_id\": 6,\n",
      "  \"gradient_checkpointing\": false,\n",
      "  \"hidden_act\": \"gelu\",\n",
      "  \"hidden_dropout_prob\": 0.1,\n",
      "  \"hidden_size\": 768,\n",
      "  \"initializer_range\": 0.02,\n",
      "  \"intermediate_size\": 3072,\n",
      "  \"layer_norm_eps\": 1e-05,\n",
      "  \"max_position_embeddings\": 514,\n",
      "  \"model_type\": \"camembert\",\n",
      "  \"num_attention_heads\": 12,\n",
      "  \"num_hidden_layers\": 12,\n",
      "  \"output_past\": true,\n",
      "  \"pad_token_id\": 1,\n",
      "  \"type_vocab_size\": 1,\n",
      "  \"vocab_size\": 32005\n",
      "}\n",
      "\n",
      "03/02/2021 01:49:20 - INFO - transformers.modeling_utils -   loading weights file model/model_out\\pytorch_model.bin\n",
      "03/02/2021 01:49:22 - WARNING - transformers.modeling_utils -   Some weights of the model checkpoint at model/model_out were not used when initializing CamembertForMultiLabelSequenceClassification: ['lm_head.bias', 'lm_head.dense.weight', 'lm_head.dense.bias', 'lm_head.layer_norm.weight', 'lm_head.layer_norm.bias', 'lm_head.decoder.weight', 'lm_head.decoder.bias']\n",
      "- This IS expected if you are initializing CamembertForMultiLabelSequenceClassification from the checkpoint of a model trained on another task or with another architecture (e.g. initializing a BertForSequenceClassification model from a BertForPretraining model).\n",
      "- This IS NOT expected if you are initializing CamembertForMultiLabelSequenceClassification from the checkpoint of a model that you expect to be exactly identical (initializing a BertForSequenceClassification model from a BertForSequenceClassification model).\n",
      "03/02/2021 01:49:22 - WARNING - transformers.modeling_utils -   Some weights of CamembertForMultiLabelSequenceClassification were not initialized from the model checkpoint at model/model_out and are newly initialized: ['classifier.dense.weight', 'classifier.dense.bias', 'classifier.out_proj.weight', 'classifier.out_proj.bias']\n",
      "You should probably TRAIN this model on a down-stream task to be able to use it for predictions and inference.\n"
     ]
    }
   ],
   "source": [
    "# issue fast-bert pos_weight <= downgrade to 1.9.1 solve the prob\n",
    "cl_learner = BertLearner.from_pretrained_model(\n",
    "                        databunch,\n",
    "                        pretrained_path='model/model_out',\n",
    "                        metrics=metrics,\n",
    "                        device=device_cuda, #was device_cuda\n",
    "                        logger=logger,\n",
    "                        output_dir=OUTPUT_DIR,\n",
    "                        finetuned_wgts_path=WGTS_PATH,\n",
    "                        warmup_steps=300,\n",
    "                        multi_gpu=False,\n",
    "                        multi_label=True,\n",
    "                        is_fp16=True,#True when is cuda\n",
    "                        logging_steps=8000)#was 50, aïe, #todo: fix tf board"
   ]
  },
  {
   "cell_type": "code",
   "execution_count": 115,
   "metadata": {},
   "outputs": [
    {
     "name": "stdout",
     "output_type": "stream",
     "text": [
      "Selected optimization level O1:  Insert automatic casts around Pytorch functions and Tensor methods.\n",
      "\n",
      "Defaults for this optimization level are:\n",
      "enabled                : True\n",
      "opt_level              : O1\n",
      "cast_model_type        : None\n",
      "patch_torch_functions  : True\n",
      "keep_batchnorm_fp32    : None\n",
      "master_weights         : None\n",
      "loss_scale             : dynamic\n",
      "Processing user overrides (additional kwargs that are not None)...\n",
      "After processing overrides, optimization options are:\n",
      "enabled                : True\n",
      "opt_level              : O1\n",
      "cast_model_type        : None\n",
      "patch_torch_functions  : True\n",
      "keep_batchnorm_fp32    : None\n",
      "master_weights         : None\n",
      "loss_scale             : dynamic\n",
      "03/02/2021 01:49:27 - INFO - root -   ***** Running training *****\n",
      "03/02/2021 01:49:27 - INFO - root -     Num examples = 3441\n",
      "03/02/2021 01:49:27 - INFO - root -     Num Epochs = 5\n",
      "03/02/2021 01:49:27 - INFO - root -     Total train batch size (w. parallel, distributed & accumulation) = 8\n",
      "03/02/2021 01:49:27 - INFO - root -     Gradient Accumulation steps = 1\n",
      "03/02/2021 01:49:27 - INFO - root -     Total optimization steps = 2155\n"
     ]
    },
    {
     "data": {
      "text/html": [],
      "text/plain": [
       "<IPython.core.display.HTML object>"
      ]
     },
     "metadata": {},
     "output_type": "display_data"
    },
    {
     "name": "stdout",
     "output_type": "stream",
     "text": [
      "Gradient overflow.  Skipping step, loss scaler 0 reducing loss scale to 32768.0\n",
      "03/02/2021 01:51:13 - INFO - root -   Running evaluation\n",
      "03/02/2021 01:51:13 - INFO - root -     Num examples = 860\n",
      "03/02/2021 01:51:13 - INFO - root -     Batch size = 16\n"
     ]
    },
    {
     "data": {
      "text/html": [
       "\n",
       "    <div>\n",
       "        <style>\n",
       "            /* Turns off some styling */\n",
       "            progress {\n",
       "                /* gets rid of default border in Firefox and Opera. */\n",
       "                border: none;\n",
       "                /* Needs to be in here for Safari polyfill so background images work as expected. */\n",
       "                background-size: auto;\n",
       "            }\n",
       "            .progress-bar-interrupted, .progress-bar-interrupted::-webkit-progress-bar {\n",
       "                background: #F44336;\n",
       "            }\n",
       "        </style>\n",
       "      <progress value='54' class='' max='54' style='width:300px; height:20px; vertical-align: middle;'></progress>\n",
       "      100.00% [54/54 00:02<00:00]\n",
       "    </div>\n",
       "    "
      ],
      "text/plain": [
       "<IPython.core.display.HTML object>"
      ]
     },
     "metadata": {},
     "output_type": "display_data"
    },
    {
     "name": "stdout",
     "output_type": "stream",
     "text": [
      "03/02/2021 01:51:16 - INFO - root -   eval_loss after epoch 1: 0.44288925771360044: \n",
      "03/02/2021 01:51:16 - INFO - root -   eval_Hamming_loss after epoch 1: 0.17616279069767443: \n",
      "03/02/2021 01:51:16 - INFO - root -   eval_accuracy_by_label after epoch 1: {'Bioagressor': 0.8058139534883721, 'Disease': 0.8418604651162791}: \n",
      "03/02/2021 01:51:16 - INFO - root -   eval_roc_auc_score_by_label after epoch 1: [0.86541721 0.85737604]: \n",
      "03/02/2021 01:51:16 - INFO - root -   eval_F1_by_label after epoch 1: [0.70546737 0.47286822]: \n",
      "03/02/2021 01:51:16 - INFO - root -   eval_F1 after epoch 1: 0.26356589794158936: \n",
      "03/02/2021 01:51:16 - INFO - root -   lr after epoch 1: 9.877450257768792e-06\n",
      "03/02/2021 01:51:16 - INFO - root -   train_loss after epoch 1: 0.5960515837796603\n",
      "03/02/2021 01:51:16 - INFO - root -   \n",
      "\n"
     ]
    },
    {
     "name": "stderr",
     "output_type": "stream",
     "text": [
      "C:\\Users\\Raja\\anaconda3\\envs\\fast-cmb-sji\\lib\\site-packages\\torch\\optim\\lr_scheduler.py:247: UserWarning: To get the last learning rate computed by the scheduler, please use `get_last_lr()`.\n",
      "  warnings.warn(\"To get the last learning rate computed by the scheduler, \"\n"
     ]
    },
    {
     "name": "stdout",
     "output_type": "stream",
     "text": [
      "Gradient overflow.  Skipping step, loss scaler 0 reducing loss scale to 16384.0\n",
      "03/02/2021 01:53:07 - INFO - root -   Running evaluation\n",
      "03/02/2021 01:53:07 - INFO - root -     Num examples = 860\n",
      "03/02/2021 01:53:07 - INFO - root -     Batch size = 16\n"
     ]
    },
    {
     "data": {
      "text/html": [
       "\n",
       "    <div>\n",
       "        <style>\n",
       "            /* Turns off some styling */\n",
       "            progress {\n",
       "                /* gets rid of default border in Firefox and Opera. */\n",
       "                border: none;\n",
       "                /* Needs to be in here for Safari polyfill so background images work as expected. */\n",
       "                background-size: auto;\n",
       "            }\n",
       "            .progress-bar-interrupted, .progress-bar-interrupted::-webkit-progress-bar {\n",
       "                background: #F44336;\n",
       "            }\n",
       "        </style>\n",
       "      <progress value='54' class='' max='54' style='width:300px; height:20px; vertical-align: middle;'></progress>\n",
       "      100.00% [54/54 00:02<00:00]\n",
       "    </div>\n",
       "    "
      ],
      "text/plain": [
       "<IPython.core.display.HTML object>"
      ]
     },
     "metadata": {},
     "output_type": "display_data"
    },
    {
     "name": "stdout",
     "output_type": "stream",
     "text": [
      "03/02/2021 01:53:10 - INFO - root -   eval_loss after epoch 2: 0.3520360691127954: \n",
      "03/02/2021 01:53:10 - INFO - root -   eval_Hamming_loss after epoch 2: 0.13837209302325582: \n",
      "03/02/2021 01:53:10 - INFO - root -   eval_accuracy_by_label after epoch 2: {'Bioagressor': 0.8511627906976744, 'Disease': 0.872093023255814}: \n",
      "03/02/2021 01:53:10 - INFO - root -   eval_roc_auc_score_by_label after epoch 2: [0.89867773 0.90955061]: \n",
      "03/02/2021 01:53:10 - INFO - root -   eval_F1_by_label after epoch 2: [0.80487805 0.67647059]: \n",
      "03/02/2021 01:53:10 - INFO - root -   eval_F1 after epoch 2: 0.3709302246570587: \n",
      "03/02/2021 01:53:10 - INFO - root -   lr after epoch 2: 7.901120577837316e-06\n",
      "03/02/2021 01:53:10 - INFO - root -   train_loss after epoch 2: 0.38296379138588077\n",
      "03/02/2021 01:53:10 - INFO - root -   \n",
      "\n"
     ]
    },
    {
     "name": "stderr",
     "output_type": "stream",
     "text": [
      "C:\\Users\\Raja\\anaconda3\\envs\\fast-cmb-sji\\lib\\site-packages\\torch\\optim\\lr_scheduler.py:247: UserWarning: To get the last learning rate computed by the scheduler, please use `get_last_lr()`.\n",
      "  warnings.warn(\"To get the last learning rate computed by the scheduler, \"\n"
     ]
    },
    {
     "name": "stdout",
     "output_type": "stream",
     "text": [
      "Gradient overflow.  Skipping step, loss scaler 0 reducing loss scale to 8192.0\n",
      "03/02/2021 01:55:00 - INFO - root -   Running evaluation\n",
      "03/02/2021 01:55:00 - INFO - root -     Num examples = 860\n",
      "03/02/2021 01:55:00 - INFO - root -     Batch size = 16\n"
     ]
    },
    {
     "data": {
      "text/html": [
       "\n",
       "    <div>\n",
       "        <style>\n",
       "            /* Turns off some styling */\n",
       "            progress {\n",
       "                /* gets rid of default border in Firefox and Opera. */\n",
       "                border: none;\n",
       "                /* Needs to be in here for Safari polyfill so background images work as expected. */\n",
       "                background-size: auto;\n",
       "            }\n",
       "            .progress-bar-interrupted, .progress-bar-interrupted::-webkit-progress-bar {\n",
       "                background: #F44336;\n",
       "            }\n",
       "        </style>\n",
       "      <progress value='54' class='' max='54' style='width:300px; height:20px; vertical-align: middle;'></progress>\n",
       "      100.00% [54/54 00:02<00:00]\n",
       "    </div>\n",
       "    "
      ],
      "text/plain": [
       "<IPython.core.display.HTML object>"
      ]
     },
     "metadata": {},
     "output_type": "display_data"
    },
    {
     "name": "stdout",
     "output_type": "stream",
     "text": [
      "03/02/2021 01:55:02 - INFO - root -   eval_loss after epoch 3: 0.34444435382330857: \n",
      "03/02/2021 01:55:02 - INFO - root -   eval_Hamming_loss after epoch 3: 0.1313953488372093: \n",
      "03/02/2021 01:55:02 - INFO - root -   eval_accuracy_by_label after epoch 3: {'Bioagressor': 0.8511627906976744, 'Disease': 0.8860465116279069}: \n",
      "03/02/2021 01:55:02 - INFO - root -   eval_roc_auc_score_by_label after epoch 3: [0.90002912 0.91812437]: \n",
      "03/02/2021 01:55:02 - INFO - root -   eval_F1_by_label after epoch 3: [0.80368098 0.73655914]: \n",
      "03/02/2021 01:55:02 - INFO - root -   eval_F1 after epoch 3: 0.37984499335289: \n",
      "03/02/2021 01:55:02 - INFO - root -   lr after epoch 3: 4.446489064626526e-06\n",
      "03/02/2021 01:55:02 - INFO - root -   train_loss after epoch 3: 0.29475090804827464\n",
      "03/02/2021 01:55:02 - INFO - root -   \n",
      "\n"
     ]
    },
    {
     "name": "stderr",
     "output_type": "stream",
     "text": [
      "C:\\Users\\Raja\\anaconda3\\envs\\fast-cmb-sji\\lib\\site-packages\\torch\\optim\\lr_scheduler.py:247: UserWarning: To get the last learning rate computed by the scheduler, please use `get_last_lr()`.\n",
      "  warnings.warn(\"To get the last learning rate computed by the scheduler, \"\n"
     ]
    },
    {
     "name": "stdout",
     "output_type": "stream",
     "text": [
      "03/02/2021 01:56:53 - INFO - root -   Running evaluation\n",
      "03/02/2021 01:56:53 - INFO - root -     Num examples = 860\n",
      "03/02/2021 01:56:53 - INFO - root -     Batch size = 16\n"
     ]
    },
    {
     "data": {
      "text/html": [
       "\n",
       "    <div>\n",
       "        <style>\n",
       "            /* Turns off some styling */\n",
       "            progress {\n",
       "                /* gets rid of default border in Firefox and Opera. */\n",
       "                border: none;\n",
       "                /* Needs to be in here for Safari polyfill so background images work as expected. */\n",
       "                background-size: auto;\n",
       "            }\n",
       "            .progress-bar-interrupted, .progress-bar-interrupted::-webkit-progress-bar {\n",
       "                background: #F44336;\n",
       "            }\n",
       "        </style>\n",
       "      <progress value='54' class='' max='54' style='width:300px; height:20px; vertical-align: middle;'></progress>\n",
       "      100.00% [54/54 00:02<00:00]\n",
       "    </div>\n",
       "    "
      ],
      "text/plain": [
       "<IPython.core.display.HTML object>"
      ]
     },
     "metadata": {},
     "output_type": "display_data"
    },
    {
     "name": "stdout",
     "output_type": "stream",
     "text": [
      "03/02/2021 01:56:56 - INFO - root -   eval_loss after epoch 4: 0.3392933562949852: \n",
      "03/02/2021 01:56:56 - INFO - root -   eval_Hamming_loss after epoch 4: 0.13430232558139535: \n",
      "03/02/2021 01:56:56 - INFO - root -   eval_accuracy_by_label after epoch 4: {'Bioagressor': 0.8465116279069768, 'Disease': 0.8848837209302326}: \n",
      "03/02/2021 01:56:56 - INFO - root -   eval_roc_auc_score_by_label after epoch 4: [0.89966798 0.92392155]: \n",
      "03/02/2021 01:56:56 - INFO - root -   eval_F1_by_label after epoch 4: [0.79310345 0.73458445]: \n",
      "03/02/2021 01:56:56 - INFO - root -   eval_F1 after epoch 4: 0.3705427050590515: \n",
      "03/02/2021 01:56:56 - INFO - root -   lr after epoch 4: 1.2739058870670368e-06\n",
      "03/02/2021 01:56:56 - INFO - root -   train_loss after epoch 4: 0.2622312100954233\n",
      "03/02/2021 01:56:56 - INFO - root -   \n",
      "\n"
     ]
    },
    {
     "name": "stderr",
     "output_type": "stream",
     "text": [
      "C:\\Users\\Raja\\anaconda3\\envs\\fast-cmb-sji\\lib\\site-packages\\torch\\optim\\lr_scheduler.py:247: UserWarning: To get the last learning rate computed by the scheduler, please use `get_last_lr()`.\n",
      "  warnings.warn(\"To get the last learning rate computed by the scheduler, \"\n"
     ]
    },
    {
     "name": "stdout",
     "output_type": "stream",
     "text": [
      "03/02/2021 01:58:46 - INFO - root -   Running evaluation\n",
      "03/02/2021 01:58:46 - INFO - root -     Num examples = 860\n",
      "03/02/2021 01:58:46 - INFO - root -     Batch size = 16\n"
     ]
    },
    {
     "data": {
      "text/html": [
       "\n",
       "    <div>\n",
       "        <style>\n",
       "            /* Turns off some styling */\n",
       "            progress {\n",
       "                /* gets rid of default border in Firefox and Opera. */\n",
       "                border: none;\n",
       "                /* Needs to be in here for Safari polyfill so background images work as expected. */\n",
       "                background-size: auto;\n",
       "            }\n",
       "            .progress-bar-interrupted, .progress-bar-interrupted::-webkit-progress-bar {\n",
       "                background: #F44336;\n",
       "            }\n",
       "        </style>\n",
       "      <progress value='54' class='' max='54' style='width:300px; height:20px; vertical-align: middle;'></progress>\n",
       "      100.00% [54/54 00:02<00:00]\n",
       "    </div>\n",
       "    "
      ],
      "text/plain": [
       "<IPython.core.display.HTML object>"
      ]
     },
     "metadata": {},
     "output_type": "display_data"
    },
    {
     "name": "stdout",
     "output_type": "stream",
     "text": [
      "03/02/2021 01:58:48 - INFO - root -   eval_loss after epoch 5: 0.34560933916105163: \n",
      "03/02/2021 01:58:48 - INFO - root -   eval_Hamming_loss after epoch 5: 0.13546511627906976: \n",
      "03/02/2021 01:58:48 - INFO - root -   eval_accuracy_by_label after epoch 5: {'Bioagressor': 0.8453488372093023, 'Disease': 0.8837209302325582}: \n",
      "03/02/2021 01:58:48 - INFO - root -   eval_roc_auc_score_by_label after epoch 5: [0.90017475 0.92288664]: \n",
      "03/02/2021 01:58:48 - INFO - root -   eval_F1_by_label after epoch 5: [0.79379845 0.7382199 ]: \n",
      "03/02/2021 01:58:48 - INFO - root -   eval_F1 after epoch 5: 0.37558144330978394: \n",
      "03/02/2021 01:58:48 - INFO - root -   lr after epoch 5: 0.0\n",
      "03/02/2021 01:58:48 - INFO - root -   train_loss after epoch 5: 0.23524393644313524\n",
      "03/02/2021 01:58:48 - INFO - root -   \n",
      "\n"
     ]
    },
    {
     "name": "stderr",
     "output_type": "stream",
     "text": [
      "C:\\Users\\Raja\\anaconda3\\envs\\fast-cmb-sji\\lib\\site-packages\\torch\\optim\\lr_scheduler.py:247: UserWarning: To get the last learning rate computed by the scheduler, please use `get_last_lr()`.\n",
      "  warnings.warn(\"To get the last learning rate computed by the scheduler, \"\n"
     ]
    },
    {
     "data": {
      "text/plain": [
       "(2155, 0.35424828595047486)"
      ]
     },
     "execution_count": 115,
     "metadata": {},
     "output_type": "execute_result"
    }
   ],
   "source": [
    "cl_learner.fit(epochs=5,# was 30\n",
    "            lr=1e-5,\n",
    "            validate=True,\n",
    "            schedule_type=\"warmup_cosine\",\n",
    "            optimizer_type=\"adamw\")\n"
   ]
  },
  {
   "cell_type": "code",
   "execution_count": 116,
   "metadata": {},
   "outputs": [
    {
     "name": "stdout",
     "output_type": "stream",
     "text": [
      "03/02/2021 01:58:49 - INFO - root -   Running evaluation\n",
      "03/02/2021 01:58:49 - INFO - root -     Num examples = 860\n",
      "03/02/2021 01:58:49 - INFO - root -     Batch size = 16\n"
     ]
    },
    {
     "data": {
      "text/html": [
       "\n",
       "    <div>\n",
       "        <style>\n",
       "            /* Turns off some styling */\n",
       "            progress {\n",
       "                /* gets rid of default border in Firefox and Opera. */\n",
       "                border: none;\n",
       "                /* Needs to be in here for Safari polyfill so background images work as expected. */\n",
       "                background-size: auto;\n",
       "            }\n",
       "            .progress-bar-interrupted, .progress-bar-interrupted::-webkit-progress-bar {\n",
       "                background: #F44336;\n",
       "            }\n",
       "        </style>\n",
       "      <progress value='54' class='' max='54' style='width:300px; height:20px; vertical-align: middle;'></progress>\n",
       "      100.00% [54/54 00:02<00:00]\n",
       "    </div>\n",
       "    "
      ],
      "text/plain": [
       "<IPython.core.display.HTML object>"
      ]
     },
     "metadata": {},
     "output_type": "display_data"
    },
    {
     "data": {
      "text/plain": [
       "{'loss': 0.34560933916105163,\n",
       " 'Hamming_loss': 0.13546511627906976,\n",
       " 'accuracy_by_label': {'Bioagressor': 0.8453488372093023,\n",
       "  'Disease': 0.8837209302325582},\n",
       " 'roc_auc_score_by_label': array([0.90017475, 0.92288664]),\n",
       " 'F1_by_label': array([0.79379845, 0.7382199 ]),\n",
       " 'F1': 0.37558144330978394}"
      ]
     },
     "execution_count": 116,
     "metadata": {},
     "output_type": "execute_result"
    }
   ],
   "source": [
    "cl_learner.validate()"
   ]
  },
  {
   "cell_type": "code",
   "execution_count": 117,
   "metadata": {},
   "outputs": [
    {
     "name": "stdout",
     "output_type": "stream",
     "text": [
      "03/02/2021 01:58:51 - INFO - transformers.configuration_utils -   Configuration saved in finetuned_model\\model_out\\config.json\n",
      "03/02/2021 01:58:52 - INFO - transformers.modeling_utils -   Model weights saved in finetuned_model\\model_out\\pytorch_model.bin\n"
     ]
    }
   ],
   "source": [
    "cl_learner.save_model()"
   ]
  },
  {
   "cell_type": "markdown",
   "metadata": {},
   "source": [
    "### Prédictions"
   ]
  },
  {
   "cell_type": "code",
   "execution_count": 118,
   "metadata": {},
   "outputs": [
    {
     "name": "stdout",
     "output_type": "stream",
     "text": [
      "03/02/2021 01:58:52 - INFO - transformers.configuration_utils -   loading configuration file finetuned_model/model_out\\config.json\n",
      "03/02/2021 01:58:52 - INFO - transformers.configuration_utils -   Model config CamembertConfig {\n",
      "  \"architectures\": [\n",
      "    \"CamembertForMultiLabelSequenceClassification\"\n",
      "  ],\n",
      "  \"attention_probs_dropout_prob\": 0.1,\n",
      "  \"bos_token_id\": 5,\n",
      "  \"eos_token_id\": 6,\n",
      "  \"gradient_checkpointing\": false,\n",
      "  \"hidden_act\": \"gelu\",\n",
      "  \"hidden_dropout_prob\": 0.1,\n",
      "  \"hidden_size\": 768,\n",
      "  \"initializer_range\": 0.02,\n",
      "  \"intermediate_size\": 3072,\n",
      "  \"layer_norm_eps\": 1e-05,\n",
      "  \"max_position_embeddings\": 514,\n",
      "  \"model_type\": \"camembert\",\n",
      "  \"num_attention_heads\": 12,\n",
      "  \"num_hidden_layers\": 12,\n",
      "  \"output_past\": true,\n",
      "  \"pad_token_id\": 1,\n",
      "  \"type_vocab_size\": 1,\n",
      "  \"vocab_size\": 32005\n",
      "}\n",
      "\n",
      "03/02/2021 01:58:52 - INFO - transformers.tokenization_utils_base -   Model name 'finetuned_model/model_out' not found in model shortcut name list (camembert-base). Assuming 'finetuned_model/model_out' is a path, a model identifier, or url to a directory containing tokenizer files.\n",
      "03/02/2021 01:58:52 - INFO - transformers.tokenization_utils_base -   Didn't find file finetuned_model/model_out\\added_tokens.json. We won't load it.\n",
      "03/02/2021 01:58:52 - INFO - transformers.tokenization_utils_base -   Didn't find file finetuned_model/model_out\\tokenizer.json. We won't load it.\n",
      "03/02/2021 01:58:52 - INFO - transformers.tokenization_utils_base -   loading file finetuned_model/model_out\\sentencepiece.bpe.model\n",
      "03/02/2021 01:58:52 - INFO - transformers.tokenization_utils_base -   loading file None\n",
      "03/02/2021 01:58:52 - INFO - transformers.tokenization_utils_base -   loading file finetuned_model/model_out\\special_tokens_map.json\n",
      "03/02/2021 01:58:52 - INFO - transformers.tokenization_utils_base -   loading file finetuned_model/model_out\\tokenizer_config.json\n",
      "03/02/2021 01:58:52 - INFO - transformers.tokenization_utils_base -   loading file None\n",
      "03/02/2021 01:58:52 - INFO - transformers.configuration_utils -   loading configuration file finetuned_model/model_out\\config.json\n",
      "03/02/2021 01:58:52 - INFO - transformers.configuration_utils -   Model config CamembertConfig {\n",
      "  \"architectures\": [\n",
      "    \"CamembertForMultiLabelSequenceClassification\"\n",
      "  ],\n",
      "  \"attention_probs_dropout_prob\": 0.1,\n",
      "  \"bos_token_id\": 5,\n",
      "  \"eos_token_id\": 6,\n",
      "  \"gradient_checkpointing\": false,\n",
      "  \"hidden_act\": \"gelu\",\n",
      "  \"hidden_dropout_prob\": 0.1,\n",
      "  \"hidden_size\": 768,\n",
      "  \"initializer_range\": 0.02,\n",
      "  \"intermediate_size\": 3072,\n",
      "  \"layer_norm_eps\": 1e-05,\n",
      "  \"max_position_embeddings\": 514,\n",
      "  \"model_type\": \"camembert\",\n",
      "  \"num_attention_heads\": 12,\n",
      "  \"num_hidden_layers\": 12,\n",
      "  \"output_past\": true,\n",
      "  \"pad_token_id\": 1,\n",
      "  \"type_vocab_size\": 1,\n",
      "  \"vocab_size\": 32005\n",
      "}\n",
      "\n",
      "03/02/2021 01:58:52 - INFO - transformers.modeling_utils -   loading weights file finetuned_model/model_out\\pytorch_model.bin\n",
      "03/02/2021 01:58:55 - INFO - transformers.modeling_utils -   All model checkpoint weights were used when initializing CamembertForMultiLabelSequenceClassification.\n",
      "\n",
      "03/02/2021 01:58:55 - INFO - transformers.modeling_utils -   All the weights of CamembertForMultiLabelSequenceClassification were initialized from the model checkpoint at finetuned_model/model_out.\n",
      "If your task is similar to the task the model of the ckeckpoint was trained on, you can already use CamembertForMultiLabelSequenceClassification for predictions without further training.\n"
     ]
    }
   ],
   "source": [
    "predictor = BertClassificationPredictor(\n",
    "                model_path='finetuned_model/model_out',\n",
    "                label_path='labels/',\n",
    "                multi_label=True,\n",
    "                model_type='camembert-base',\n",
    "                do_lower_case=False)"
   ]
  },
  {
   "cell_type": "code",
   "execution_count": 119,
   "metadata": {},
   "outputs": [
    {
     "name": "stdout",
     "output_type": "stream",
     "text": [
      "03/02/2021 01:58:55 - INFO - root -   Writing example 0 of 1\n"
     ]
    },
    {
     "name": "stderr",
     "output_type": "stream",
     "text": [
      "C:\\Users\\Raja\\anaconda3\\envs\\fast-cmb-sji\\lib\\site-packages\\pandas\\core\\frame.py:1549: FutureWarning: Using short name for 'orient' is deprecated. Only the options: ('dict', list, 'series', 'split', 'records', 'index') will be used in a future version. Use one of the above to silence this warning.\n",
      "  warnings.warn(\n"
     ]
    },
    {
     "data": {
      "text/plain": [
       "[('bioagressor', 0.8876953125), ('disease', 0.0850830078125)]"
      ]
     },
     "execution_count": 119,
     "metadata": {},
     "output_type": "execute_result"
    }
   ],
   "source": [
    "#cas disease: 0, bioagressor: 1 - cicadelle\n",
    "predictor.predict(\"Cicadelles La cicadelle Edwardsiana est toujours observée sur les parcelles en été\")"
   ]
  },
  {
   "cell_type": "code",
   "execution_count": 120,
   "metadata": {},
   "outputs": [
    {
     "name": "stdout",
     "output_type": "stream",
     "text": [
      "03/02/2021 01:58:55 - INFO - root -   Writing example 0 of 1\n"
     ]
    },
    {
     "data": {
      "text/plain": [
       "[('bioagressor', 0.05450439453125), ('disease', 0.047882080078125)]"
      ]
     },
     "execution_count": 120,
     "metadata": {},
     "output_type": "execute_result"
    }
   ],
   "source": [
    "predictor.predict(\"election américane\")"
   ]
  },
  {
   "cell_type": "code",
   "execution_count": 121,
   "metadata": {},
   "outputs": [
    {
     "name": "stdout",
     "output_type": "stream",
     "text": [
      "03/02/2021 01:58:55 - INFO - root -   Writing example 0 of 1\n"
     ]
    },
    {
     "data": {
      "text/plain": [
       "[('bioagressor', 0.73046875), ('disease', 0.056549072265625)]"
      ]
     },
     "execution_count": 121,
     "metadata": {},
     "output_type": "execute_result"
    }
   ],
   "source": [
    "#cas disease: 0, bioagressor: 0 - texte sur mouche de carotte mais pas de rique\n",
    "predictor.predict(\"mouche de la carotte :ajouter trichloronate\")"
   ]
  },
  {
   "cell_type": "code",
   "execution_count": 122,
   "metadata": {},
   "outputs": [
    {
     "name": "stdout",
     "output_type": "stream",
     "text": [
      "03/02/2021 01:58:55 - INFO - root -   Writing example 0 of 1\n"
     ]
    },
    {
     "data": {
      "text/plain": [
       "[('disease', 0.7099609375), ('bioagressor', 0.060211181640625)]"
      ]
     },
     "execution_count": 122,
     "metadata": {},
     "output_type": "execute_result"
    }
   ],
   "source": [
    "#cas disease: 0, bioagressor: 0 - oïdium : pas d'intervention \n",
    "predictor.predict(\"oïdium : pas d'intervention dans l'immediat les conditions très chaudes et l'absence de rosées nocturnes sont défavorables à cette maladie. aucun symptôme n'a encore été observé.\")"
   ]
  },
  {
   "cell_type": "code",
   "execution_count": 123,
   "metadata": {},
   "outputs": [
    {
     "name": "stdout",
     "output_type": "stream",
     "text": [
      "03/02/2021 01:58:55 - INFO - root -   Writing example 0 of 1\n"
     ]
    },
    {
     "data": {
      "text/plain": [
       "[('disease', 0.77734375), ('bioagressor', 0.07452392578125)]"
      ]
     },
     "execution_count": 123,
     "metadata": {},
     "output_type": "execute_result"
    }
   ],
   "source": [
    "#cas disease: 1, bioagressor: 0 - oidium  => good\n",
    "predictor.predict(\"oïdium du pommierce champignon est à l'heure actuelle en pleine fructification. il est nécessaire d'ajouter un antioïdium aux bouillies pour assurer'la protection du jeune feuillage.\")"
   ]
  },
  {
   "cell_type": "code",
   "execution_count": 124,
   "metadata": {},
   "outputs": [
    {
     "name": "stdout",
     "output_type": "stream",
     "text": [
      "03/02/2021 01:58:55 - INFO - root -   Writing example 0 of 1\n"
     ]
    },
    {
     "data": {
      "text/plain": [
       "[('disease', 0.92529296875), ('bioagressor', 0.219970703125)]"
      ]
     },
     "execution_count": 124,
     "metadata": {},
     "output_type": "execute_result"
    }
   ],
   "source": [
    "#cas disease: 1, bioagressor: 0 - mildiou\n",
    "predictor.predict(\"vigilant : en particulier vis-à-vis du mildiou, de l’oïdium et de la bactériose / cladosporiose. Les prévisions pour les prochains jours restent peu favorables à l’expression de la bactériose et la cladosporiose, si elles se confirment. Mildiou (Pseudoperonospora cubensis) : Le modèle annonce un risque élevé pour toutes les dates de plantation avec les données de la station de Thurageau. Avec les données de la station de Maulay, les plantations en S25 et S26 montrent un risque modéré. Le risque est un peu plus élevé dans le sud de la Charente- Maritime que dans le Poitou. Niveau de risque Faible Moyen Élevé Très élevé Indice : Log (Nb de taches/unité de surface) -14 à -9 -9 à -4 -4 +4 Équivalent en unité de surface 1 tâche par hectare par 100 m2 1 tâche par 100 m2 par m2 1 tâche par m2à 1 % de surface atteinte 1 % à 100 % de surface atteinte Évaluation du risque : les conditions restent favorables à ce microorganisme (qui n’est pas un champignon, mais proche d’une algue). Les BSV sont disponibles en accès direct sur le site  (rubrique : Nos publications - Bulletin de santé du végétal) ou par abonnement en ligne gratuit sur le site  BSV CULTURES LÉGUMIÈRES DE PLEIN\")"
   ]
  },
  {
   "cell_type": "code",
   "execution_count": 125,
   "metadata": {},
   "outputs": [
    {
     "name": "stdout",
     "output_type": "stream",
     "text": [
      "03/02/2021 01:58:55 - INFO - root -   Writing example 0 of 1\n"
     ]
    },
    {
     "data": {
      "text/plain": [
       "[('bioagressor', 0.05450439453125), ('disease', 0.047515869140625)]"
      ]
     },
     "execution_count": 125,
     "metadata": {},
     "output_type": "execute_result"
    }
   ],
   "source": [
    "#cas disease: 0, bioagressor: 0 - texte sur trump trump\n",
    "predictor.predict(\"L'avance de Donald Trump dans cet Etat où 4,9 millions d'électeurs ont voté, a fondu vendredi 6 novembre. Le candidat républicain compte\")"
   ]
  },
  {
   "cell_type": "code",
   "execution_count": 126,
   "metadata": {},
   "outputs": [
    {
     "name": "stdout",
     "output_type": "stream",
     "text": [
      "03/02/2021 01:58:55 - INFO - root -   Writing example 0 of 1\n"
     ]
    },
    {
     "data": {
      "text/plain": [
       "[('disease', 0.0567626953125), ('bioagressor', 0.046478271484375)]"
      ]
     },
     "execution_count": 126,
     "metadata": {},
     "output_type": "execute_result"
    }
   ],
   "source": [
    "#cas disease: 1, bioagressor: 1 - #mildiou (removed) mais pas de risque\n",
    "predictor.predict(\"Pomme de te r re du 17 mai 2013 BS omme Ce - N° 9 N° 9 En résumé : Risque  au 17 mai : entrée en phase de risque pour les variétés sensibles pour 5 secteurs. Pour autant, le seuil de nuisibilité n’est pas atteint. Utilisation du modèle Mileos® (www.mileos.fr) Le BSV pomme de terre de la région Centre mobilise le modèle Mileos® qui se base sur le cycle épidémique de Phytophtora infestans. • Quand démarre le risque  ? Le suivi du nombre des générations de  est un bon indicateur pour connaître le début de la période à risque de cette maladie. En fonction de la sensibilité variétale, le risque démarre : - à la sortie de\")"
   ]
  },
  {
   "cell_type": "code",
   "execution_count": 127,
   "metadata": {},
   "outputs": [
    {
     "name": "stdout",
     "output_type": "stream",
     "text": [
      "03/02/2021 01:58:55 - INFO - root -   Writing example 0 of 1\n"
     ]
    },
    {
     "data": {
      "text/plain": [
       "[('bioagressor', 0.06280517578125), ('disease', 0.040985107421875)]"
      ]
     },
     "execution_count": 127,
     "metadata": {},
     "output_type": "execute_result"
    }
   ],
   "source": [
    "#cas disease: 0, bioagressor: 0 - zero mot clé\n",
    "predictor.predict(\"par jour. Sur les autres secteurs, en production de carotte, les captures sont nulles. Évaluation du risque\")"
   ]
  },
  {
   "cell_type": "code",
   "execution_count": 128,
   "metadata": {},
   "outputs": [
    {
     "name": "stdout",
     "output_type": "stream",
     "text": [
      "03/02/2021 01:58:56 - INFO - root -   Writing example 0 of 1\n"
     ]
    },
    {
     "data": {
      "text/plain": [
       "[('disease', 0.371826171875), ('bioagressor', 0.036285400390625)]"
      ]
     },
     "execution_count": 128,
     "metadata": {},
     "output_type": "execute_result"
    }
   ],
   "source": [
    "#cas disease: 0, bioagressor: 0 + mildiou\n",
    "predictor.predict(\"7 Action pilotée par le ministère chargé de l’agriculture mildiou, avec l’appui financier de l’Office National de l’Eau et des Milieux Aquatiques (ONEMA), par les crédits issus de la redevance pour pollutions diffuses attribués au\")"
   ]
  },
  {
   "cell_type": "code",
   "execution_count": 129,
   "metadata": {},
   "outputs": [
    {
     "name": "stdout",
     "output_type": "stream",
     "text": [
      "03/02/2021 01:58:56 - INFO - root -   Writing example 0 of 1\n"
     ]
    },
    {
     "data": {
      "text/plain": [
       "[('bioagressor', 0.05560302734375), ('disease', 0.044586181640625)]"
      ]
     },
     "execution_count": 129,
     "metadata": {},
     "output_type": "execute_result"
    }
   ],
   "source": [
    "#cas disease: 0, bioagressor: 0\n",
    "predictor.predict(\"financement du plan Ecophyto. Ce bulletin est rédigé par l'ACPEL avec la collaboration de référents par culture (techniciens des Chambres d'Agriculture de la Charente, de la Charente-Maritime et d'Indre et Loire et de la Vienne) sur la base d'observations réalisées par des producteurs et techniciens : Charentes- Alliance, les entreprises de production de melon, la coopérative AGROLEG, la coopérative UNIRE, des producteurs d'Agrobio Poitou-Charentes. Ce bulletin est réalisé à partir d'observations ponctuelles. Il a pour vocation de donner une tendance de la situation sanitaire régionale. Celle-ci ne peut être transposée telle quelle dans les parcelles de production légumières (conditions très variables). La Chambre Régionale d'Agriculture de Poitou-Charentes et le rédacteur dégagent toute responsabilité quant aux décisions prises par les producteurs pour la protection de leurs cultures. Elle les invite à prendre ces décisions sur la base des observation s qu'ils auront réalisées dans leurs parcelles. Les\")"
   ]
  },
  {
   "cell_type": "code",
   "execution_count": 130,
   "metadata": {},
   "outputs": [
    {
     "name": "stdout",
     "output_type": "stream",
     "text": [
      "03/02/2021 01:58:56 - INFO - root -   Writing example 0 of 1\n"
     ]
    },
    {
     "data": {
      "text/plain": [
       "[('bioagressor', 0.055938720703125), ('disease', 0.044769287109375)]"
      ]
     },
     "execution_count": 130,
     "metadata": {},
     "output_type": "execute_result"
    }
   ],
   "source": [
    "#cas disease: 0, bioagressor: 0 - french crop usasge\n",
    "predictor.predict(\"Ensemble de plantes cultivées pour leurs fruits ou leurs graines riches en matières grasses (lipides). De ces fruits et graines sont extrait une huile à usage alimentaire humaine, alimentaire animal ou industriel. Les résidus de l'extraction constituent les tourteaux utilisés pour l'alimentation animale.\")"
   ]
  },
  {
   "cell_type": "code",
   "execution_count": 131,
   "metadata": {},
   "outputs": [
    {
     "name": "stdout",
     "output_type": "stream",
     "text": [
      "03/02/2021 01:58:56 - INFO - root -   Writing example 0 of 1\n"
     ]
    },
    {
     "data": {
      "text/plain": [
       "[('bioagressor', 0.05389404296875), ('disease', 0.046722412109375)]"
      ]
     },
     "execution_count": 131,
     "metadata": {},
     "output_type": "execute_result"
    }
   ],
   "source": [
    "#cas disease: 0, bioagressor: 0 - french crop usasge\n",
    "predictor.predict(\"Orge semé après le 1er février, principalement de mars à mai. Orge de printemps est toujours à deux rangs\")"
   ]
  },
  {
   "cell_type": "code",
   "execution_count": 132,
   "metadata": {},
   "outputs": [
    {
     "name": "stdout",
     "output_type": "stream",
     "text": [
      "03/02/2021 01:58:56 - INFO - root -   Writing example 0 of 1\n"
     ]
    },
    {
     "data": {
      "text/plain": [
       "[('disease', 0.64501953125), ('bioagressor', 0.055938720703125)]"
      ]
     },
     "execution_count": 132,
     "metadata": {},
     "output_type": "execute_result"
    }
   ],
   "source": [
    "#cas disease: 1, bioagressor: 0 - tweet - jaunisse\n",
    "predictor.predict(\"des parcelles qui ont eu une croissance presque nulle depuis cet été en majeur partie dû à la jaunisse.\")"
   ]
  },
  {
   "cell_type": "code",
   "execution_count": 133,
   "metadata": {},
   "outputs": [
    {
     "name": "stdout",
     "output_type": "stream",
     "text": [
      "03/02/2021 01:58:56 - INFO - root -   Writing example 0 of 1\n"
     ]
    },
    {
     "data": {
      "text/plain": [
       "[('bioagressor', 0.0552978515625), ('disease', 0.046905517578125)]"
      ]
     },
     "execution_count": 133,
     "metadata": {},
     "output_type": "execute_result"
    }
   ],
   "source": [
    "#cas disease: 1, bioagressor: 0 - tweet - sécheresse\n",
    "predictor.predict(\"Parfois,on nous demande. Que faites-vous,par cette sécheresse?\")"
   ]
  },
  {
   "cell_type": "code",
   "execution_count": 134,
   "metadata": {},
   "outputs": [
    {
     "name": "stdout",
     "output_type": "stream",
     "text": [
      "03/02/2021 01:58:56 - INFO - root -   Writing example 0 of 1\n"
     ]
    },
    {
     "data": {
      "text/plain": [
       "[('bioagressor', 0.90673828125), ('disease', 0.10894775390625)]"
      ]
     },
     "execution_count": 134,
     "metadata": {},
     "output_type": "execute_result"
    }
   ],
   "source": [
    "#cas disease: 0, bioagressor: 1 - tweet - pucerons\n",
    "\n",
    "predictor.predict(\"Attention pucerons dans les blés\")"
   ]
  },
  {
   "cell_type": "code",
   "execution_count": null,
   "metadata": {},
   "outputs": [],
   "source": []
  },
  {
   "cell_type": "markdown",
   "metadata": {},
   "source": [
    "### Analyse the fine-tuned model"
   ]
  },
  {
   "cell_type": "code",
   "execution_count": 135,
   "metadata": {},
   "outputs": [
    {
     "name": "stdout",
     "output_type": "stream",
     "text": [
      "03/02/2021 01:58:56 - INFO - transformers.configuration_utils -   loading configuration file finetuned_model/model_out\\config.json\n",
      "03/02/2021 01:58:56 - INFO - transformers.configuration_utils -   Model config CamembertConfig {\n",
      "  \"architectures\": [\n",
      "    \"CamembertForMultiLabelSequenceClassification\"\n",
      "  ],\n",
      "  \"attention_probs_dropout_prob\": 0.1,\n",
      "  \"bos_token_id\": 5,\n",
      "  \"eos_token_id\": 6,\n",
      "  \"gradient_checkpointing\": false,\n",
      "  \"hidden_act\": \"gelu\",\n",
      "  \"hidden_dropout_prob\": 0.1,\n",
      "  \"hidden_size\": 768,\n",
      "  \"initializer_range\": 0.02,\n",
      "  \"intermediate_size\": 3072,\n",
      "  \"layer_norm_eps\": 1e-05,\n",
      "  \"max_position_embeddings\": 514,\n",
      "  \"model_type\": \"camembert\",\n",
      "  \"num_attention_heads\": 12,\n",
      "  \"num_hidden_layers\": 12,\n",
      "  \"output_past\": true,\n",
      "  \"pad_token_id\": 1,\n",
      "  \"type_vocab_size\": 1,\n",
      "  \"vocab_size\": 32005\n",
      "}\n",
      "\n",
      "03/02/2021 01:58:56 - INFO - transformers.tokenization_utils_base -   Model name 'finetuned_model/model_out' not found in model shortcut name list (camembert-base). Assuming 'finetuned_model/model_out' is a path, a model identifier, or url to a directory containing tokenizer files.\n",
      "03/02/2021 01:58:56 - INFO - transformers.tokenization_utils_base -   Didn't find file finetuned_model/model_out\\added_tokens.json. We won't load it.\n",
      "03/02/2021 01:58:56 - INFO - transformers.tokenization_utils_base -   Didn't find file finetuned_model/model_out\\tokenizer.json. We won't load it.\n",
      "03/02/2021 01:58:56 - INFO - transformers.tokenization_utils_base -   loading file finetuned_model/model_out\\sentencepiece.bpe.model\n",
      "03/02/2021 01:58:56 - INFO - transformers.tokenization_utils_base -   loading file None\n",
      "03/02/2021 01:58:56 - INFO - transformers.tokenization_utils_base -   loading file finetuned_model/model_out\\special_tokens_map.json\n",
      "03/02/2021 01:58:56 - INFO - transformers.tokenization_utils_base -   loading file finetuned_model/model_out\\tokenizer_config.json\n",
      "03/02/2021 01:58:56 - INFO - transformers.tokenization_utils_base -   loading file None\n",
      "03/02/2021 01:58:56 - INFO - transformers.configuration_utils -   loading configuration file finetuned_model/model_out\\config.json\n",
      "03/02/2021 01:58:56 - INFO - transformers.configuration_utils -   Model config CamembertConfig {\n",
      "  \"architectures\": [\n",
      "    \"CamembertForMultiLabelSequenceClassification\"\n",
      "  ],\n",
      "  \"attention_probs_dropout_prob\": 0.1,\n",
      "  \"bos_token_id\": 5,\n",
      "  \"eos_token_id\": 6,\n",
      "  \"gradient_checkpointing\": false,\n",
      "  \"hidden_act\": \"gelu\",\n",
      "  \"hidden_dropout_prob\": 0.1,\n",
      "  \"hidden_size\": 768,\n",
      "  \"initializer_range\": 0.02,\n",
      "  \"intermediate_size\": 3072,\n",
      "  \"layer_norm_eps\": 1e-05,\n",
      "  \"max_position_embeddings\": 514,\n",
      "  \"model_type\": \"camembert\",\n",
      "  \"num_attention_heads\": 12,\n",
      "  \"num_hidden_layers\": 12,\n",
      "  \"output_past\": true,\n",
      "  \"pad_token_id\": 1,\n",
      "  \"type_vocab_size\": 1,\n",
      "  \"vocab_size\": 32005\n",
      "}\n",
      "\n",
      "03/02/2021 01:58:56 - INFO - transformers.modeling_utils -   loading weights file finetuned_model/model_out\\pytorch_model.bin\n",
      "03/02/2021 01:58:58 - INFO - transformers.modeling_utils -   All model checkpoint weights were used when initializing CamembertForMultiLabelSequenceClassification.\n",
      "\n",
      "03/02/2021 01:58:58 - INFO - transformers.modeling_utils -   All the weights of CamembertForMultiLabelSequenceClassification were initialized from the model checkpoint at finetuned_model/model_out.\n",
      "If your task is similar to the task the model of the ckeckpoint was trained on, you can already use CamembertForMultiLabelSequenceClassification for predictions without further training.\n"
     ]
    }
   ],
   "source": [
    "predictor = BertClassificationPredictor(\n",
    "                model_path='finetuned_model/model_out',\n",
    "                label_path='labels/',\n",
    "                multi_label=True,\n",
    "                model_type='camembert-base',\n",
    "                do_lower_case=False)"
   ]
  },
  {
   "cell_type": "code",
   "execution_count": 136,
   "metadata": {},
   "outputs": [],
   "source": [
    "#evaluation on fine-tuning set \n",
    "df_val = pd.read_csv('./data/bsv_chunk256_ba_mld_0-1000.csv')\n",
    "\n",
    "#predictor.get_learner()"
   ]
  },
  {
   "cell_type": "code",
   "execution_count": 137,
   "metadata": {},
   "outputs": [
    {
     "data": {
      "text/html": [
       "<div>\n",
       "<style scoped>\n",
       "    .dataframe tbody tr th:only-of-type {\n",
       "        vertical-align: middle;\n",
       "    }\n",
       "\n",
       "    .dataframe tbody tr th {\n",
       "        vertical-align: top;\n",
       "    }\n",
       "\n",
       "    .dataframe thead th {\n",
       "        text-align: right;\n",
       "    }\n",
       "</style>\n",
       "<table border=\"1\" class=\"dataframe\">\n",
       "  <thead>\n",
       "    <tr style=\"text-align: right;\">\n",
       "      <th></th>\n",
       "      <th>report_text</th>\n",
       "      <th>Bioagressor</th>\n",
       "      <th>Disease</th>\n",
       "      <th>hazard_list</th>\n",
       "      <th>source_name</th>\n",
       "    </tr>\n",
       "  </thead>\n",
       "  <tbody>\n",
       "    <tr>\n",
       "      <th>13109</th>\n",
       "      <td>climatiques soient favorables à la libération de spores. A noter que la sensibilité sur feuillage n'est pas corrélée avec la sensibilité sur tubercules. Ainsi, une variété peut être résistante au mildiou sur feuillage et sensible au mildiou sur tubercules et inversement. Planter suffisamment profond, avec un buttage bien appuyé, pour éviter la</td>\n",
       "      <td>0</td>\n",
       "      <td>1</td>\n",
       "      <td>#mildiou</td>\n",
       "      <td>draaf.centre-val-de-loire.agriculture.gouv.fr_IMG_pdf_BSV_Pomme_de_terre_09_cle4c4d2f</td>\n",
       "    </tr>\n",
       "    <tr>\n",
       "      <th>13110</th>\n",
       "      <td>formation de crevasses, permet de limiter la contamination des tubercules par les spores de mildiou. Analyse du risque et prévisions Prévisions météo : soleil et nuages accompagnés de températures plutôt fraiches cette semaine. Quelques pluies sont annoncées lundi prochain avec une hausse des températures. Analyse du risque : Les 4èmes et 5èmes générations ayant déjà terminé leur incubation sur l’ensemble des secteurs de l’Eure-et-Loir et du Loir-et-Cher, le risque est à prendre en compte sur tous les types variétaux dans ces départements. Dans le Loiret et l’Essone, le risque est à prendre en compte uniquement sur les variétés sensibles et intermédiaires. Cependant, sur la base des données prévisionnelles, le seuil de nuisibilité ne devrait pas être atteint du 27/05 au 28/05 sur tous les types de variétés sur l’ensemble de la Région (conditions fraiches et persistance d’un temps sec avec de faibles hygrométries). Il faut malgré tout rester vigilant, notamment en cas de retour de l’humidité en fin de semaine. Rappel, pour que le seuil de nuisibilité du mildiou soit atteint, il faut qu’il existe un potentiel de sporulation (« quantité de maladie qui pourrait apparaître ») et que les conditions climatiques soient favorables à son expression. Bulletin co-rédigé par la Chambre d'Agriculture du Loir-et-Cher et ARVALIS-Institut du végétal. Avec les</td>\n",
       "      <td>0</td>\n",
       "      <td>1</td>\n",
       "      <td>#mildiou</td>\n",
       "      <td>draaf.centre-val-de-loire.agriculture.gouv.fr_IMG_pdf_BSV_Pomme_de_terre_09_cle4c4d2f</td>\n",
       "    </tr>\n",
       "    <tr>\n",
       "      <th>13111</th>\n",
       "      <td>observations de AGRI BEAUCE, BEAUCE PRODUCTIONS, Chambre d ’Agriculture 41, Chambre d ’Agricult ure 28, COMITE CENTRE ET SUD, PARMENTINE, POM ALLIANCE SA,, Les 3 Laboureurs - Agropithiviers, SOUFFLET AGRICULTURE, TERRE DE France,.</td>\n",
       "      <td>0</td>\n",
       "      <td>0</td>\n",
       "      <td>NaN</td>\n",
       "      <td>draaf.centre-val-de-loire.agriculture.gouv.fr_IMG_pdf_BSV_Pomme_de_terre_09_cle4c4d2f</td>\n",
       "    </tr>\n",
       "    <tr>\n",
       "      <th>13112</th>\n",
       "      <td>Directeur de publication : Jean-Pierre LEVEILLARD, Président de la Chambre régionale d’agriculture du Centre 13 avenue</td>\n",
       "      <td>0</td>\n",
       "      <td>0</td>\n",
       "      <td>NaN</td>\n",
       "      <td>draaf.centre-val-de-loire.agriculture.gouv.fr_IMG_pdf_BSV_Pomme_de_terre_09_cle4c4d2f</td>\n",
       "    </tr>\n",
       "    <tr>\n",
       "      <th>13113</th>\n",
       "      <td>des Droits de l’Homme – 45921 ORLEANS Ce bulletin est produit à partir d’observations ponctuelles. Il donne une tendance de la situation sanitaire régionale, qui ne peut pas être transposée telle quelle à la parcelle. La Chambre régionale d’agriculture du Centre dégage donc toute responsabilité quant aux décisions prises par les agriculteurs pour la protection de leurs cultures. Action pilotée par le Ministère chargé de l'agriculture avec l'appui financier de l'ONEMA, par les crédits issus de la redevance pour pollution diffuses attribués au financement du plan Ecophyto 2018</td>\n",
       "      <td>0</td>\n",
       "      <td>0</td>\n",
       "      <td>NaN</td>\n",
       "      <td>draaf.centre-val-de-loire.agriculture.gouv.fr_IMG_pdf_BSV_Pomme_de_terre_09_cle4c4d2f</td>\n",
       "    </tr>\n",
       "  </tbody>\n",
       "</table>\n",
       "</div>"
      ],
      "text/plain": [
       "                                                                                                                                                                                                                                                                                                                                                                                                                                                                                                                                                                                                                                                                                                                                                                                                                                                                                                                                                                                                                                                                                                                                                                                                                                                                                                                                                                                                                report_text  \\\n",
       "13109  climatiques soient favorables à la libération de spores. A noter que la sensibilité sur feuillage n'est pas corrélée avec la sensibilité sur tubercules. Ainsi, une variété peut être résistante au mildiou sur feuillage et sensible au mildiou sur tubercules et inversement. Planter suffisamment profond, avec un buttage bien appuyé, pour éviter la                                                                                                                                                                                                                                                                                                                                                                                                                                                                                                                                                                                                                                                                                                                                                                                                                                                                                                                                                                                                                                                              \n",
       "13110  formation de crevasses, permet de limiter la contamination des tubercules par les spores de mildiou. Analyse du risque et prévisions Prévisions météo : soleil et nuages accompagnés de températures plutôt fraiches cette semaine. Quelques pluies sont annoncées lundi prochain avec une hausse des températures. Analyse du risque : Les 4èmes et 5èmes générations ayant déjà terminé leur incubation sur l’ensemble des secteurs de l’Eure-et-Loir et du Loir-et-Cher, le risque est à prendre en compte sur tous les types variétaux dans ces départements. Dans le Loiret et l’Essone, le risque est à prendre en compte uniquement sur les variétés sensibles et intermédiaires. Cependant, sur la base des données prévisionnelles, le seuil de nuisibilité ne devrait pas être atteint du 27/05 au 28/05 sur tous les types de variétés sur l’ensemble de la Région (conditions fraiches et persistance d’un temps sec avec de faibles hygrométries). Il faut malgré tout rester vigilant, notamment en cas de retour de l’humidité en fin de semaine. Rappel, pour que le seuil de nuisibilité du mildiou soit atteint, il faut qu’il existe un potentiel de sporulation (« quantité de maladie qui pourrait apparaître ») et que les conditions climatiques soient favorables à son expression. Bulletin co-rédigé par la Chambre d'Agriculture du Loir-et-Cher et ARVALIS-Institut du végétal. Avec les   \n",
       "13111  observations de AGRI BEAUCE, BEAUCE PRODUCTIONS, Chambre d ’Agriculture 41, Chambre d ’Agricult ure 28, COMITE CENTRE ET SUD, PARMENTINE, POM ALLIANCE SA,, Les 3 Laboureurs - Agropithiviers, SOUFFLET AGRICULTURE, TERRE DE France,.                                                                                                                                                                                                                                                                                                                                                                                                                                                                                                                                                                                                                                                                                                                                                                                                                                                                                                                                                                                                                                                                                                                                                                                 \n",
       "13112  Directeur de publication : Jean-Pierre LEVEILLARD, Président de la Chambre régionale d’agriculture du Centre 13 avenue                                                                                                                                                                                                                                                                                                                                                                                                                                                                                                                                                                                                                                                                                                                                                                                                                                                                                                                                                                                                                                                                                                                                                                                                                                                                                                 \n",
       "13113  des Droits de l’Homme – 45921 ORLEANS Ce bulletin est produit à partir d’observations ponctuelles. Il donne une tendance de la situation sanitaire régionale, qui ne peut pas être transposée telle quelle à la parcelle. La Chambre régionale d’agriculture du Centre dégage donc toute responsabilité quant aux décisions prises par les agriculteurs pour la protection de leurs cultures. Action pilotée par le Ministère chargé de l'agriculture avec l'appui financier de l'ONEMA, par les crédits issus de la redevance pour pollution diffuses attribués au financement du plan Ecophyto 2018                                                                                                                                                                                                                                                                                                                                                                                                                                                                                                                                                                                                                                                                                                                                                                                                                  \n",
       "\n",
       "       Bioagressor  Disease hazard_list  \\\n",
       "13109  0            1        #mildiou     \n",
       "13110  0            1        #mildiou     \n",
       "13111  0            0        NaN          \n",
       "13112  0            0        NaN          \n",
       "13113  0            0        NaN          \n",
       "\n",
       "                                                                                 source_name  \n",
       "13109  draaf.centre-val-de-loire.agriculture.gouv.fr_IMG_pdf_BSV_Pomme_de_terre_09_cle4c4d2f  \n",
       "13110  draaf.centre-val-de-loire.agriculture.gouv.fr_IMG_pdf_BSV_Pomme_de_terre_09_cle4c4d2f  \n",
       "13111  draaf.centre-val-de-loire.agriculture.gouv.fr_IMG_pdf_BSV_Pomme_de_terre_09_cle4c4d2f  \n",
       "13112  draaf.centre-val-de-loire.agriculture.gouv.fr_IMG_pdf_BSV_Pomme_de_terre_09_cle4c4d2f  \n",
       "13113  draaf.centre-val-de-loire.agriculture.gouv.fr_IMG_pdf_BSV_Pomme_de_terre_09_cle4c4d2f  "
      ]
     },
     "execution_count": 137,
     "metadata": {},
     "output_type": "execute_result"
    }
   ],
   "source": [
    "df_val.Disease = df_val.Disease.astype(int)\n",
    "df_val.tail()"
   ]
  },
  {
   "cell_type": "code",
   "execution_count": 138,
   "metadata": {},
   "outputs": [
    {
     "name": "stdout",
     "output_type": "stream",
     "text": [
      "03/02/2021 01:58:59 - INFO - root -   Writing example 0 of 13114\n",
      "03/02/2021 01:59:03 - INFO - root -   Writing example 10000 of 13114\n"
     ]
    },
    {
     "name": "stderr",
     "output_type": "stream",
     "text": [
      "C:\\Users\\Raja\\anaconda3\\envs\\fast-cmb-sji\\lib\\site-packages\\pandas\\core\\frame.py:1549: FutureWarning: Using short name for 'orient' is deprecated. Only the options: ('dict', list, 'series', 'split', 'records', 'index') will be used in a future version. Use one of the above to silence this warning.\n",
      "  warnings.warn(\n"
     ]
    }
   ],
   "source": [
    "batch_predictions = predictor.predict_batch(df_val.report_text.to_list())"
   ]
  },
  {
   "cell_type": "code",
   "execution_count": 139,
   "metadata": {},
   "outputs": [
    {
     "data": {
      "text/plain": [
       "[[('disease', 0.95703125), ('bioagressor', 0.55126953125)],\n",
       " [('bioagressor', 0.9326171875), ('disease', 0.295654296875)],\n",
       " [('bioagressor', 0.921875), ('disease', 0.9072265625)],\n",
       " [('bioagressor', 0.055206298828125), ('disease', 0.044525146484375)],\n",
       " [('bioagressor', 0.05633544921875), ('disease', 0.04638671875)],\n",
       " [('bioagressor', 0.050994873046875), ('disease', 0.04949951171875)],\n",
       " [('disease', 0.837890625), ('bioagressor', 0.0975341796875)],\n",
       " [('disease', 0.89599609375), ('bioagressor', 0.1461181640625)],\n",
       " [('disease', 0.9248046875), ('bioagressor', 0.257568359375)],\n",
       " [('bioagressor', 0.8740234375), ('disease', 0.07305908203125)]]"
      ]
     },
     "execution_count": 139,
     "metadata": {},
     "output_type": "execute_result"
    }
   ],
   "source": [
    "batch_predictions[:10]"
   ]
  },
  {
   "cell_type": "code",
   "execution_count": 140,
   "metadata": {},
   "outputs": [],
   "source": [
    "#dict(batch_predictions[1]).values()\n",
    "list_y_pred = [ dict(pred) for pred in batch_predictions]\n",
    "#list_y_pred[-5:]"
   ]
  },
  {
   "cell_type": "code",
   "execution_count": 141,
   "metadata": {},
   "outputs": [
    {
     "data": {
      "text/html": [
       "<div>\n",
       "<style scoped>\n",
       "    .dataframe tbody tr th:only-of-type {\n",
       "        vertical-align: middle;\n",
       "    }\n",
       "\n",
       "    .dataframe tbody tr th {\n",
       "        vertical-align: top;\n",
       "    }\n",
       "\n",
       "    .dataframe thead th {\n",
       "        text-align: right;\n",
       "    }\n",
       "</style>\n",
       "<table border=\"1\" class=\"dataframe\">\n",
       "  <thead>\n",
       "    <tr style=\"text-align: right;\">\n",
       "      <th></th>\n",
       "      <th>Bioagressor</th>\n",
       "      <th>Disease</th>\n",
       "    </tr>\n",
       "  </thead>\n",
       "  <tbody>\n",
       "    <tr>\n",
       "      <th>13109</th>\n",
       "      <td>0.093689</td>\n",
       "      <td>0.829590</td>\n",
       "    </tr>\n",
       "    <tr>\n",
       "      <th>13110</th>\n",
       "      <td>0.110107</td>\n",
       "      <td>0.860352</td>\n",
       "    </tr>\n",
       "    <tr>\n",
       "      <th>13111</th>\n",
       "      <td>0.054504</td>\n",
       "      <td>0.045593</td>\n",
       "    </tr>\n",
       "    <tr>\n",
       "      <th>13112</th>\n",
       "      <td>0.054291</td>\n",
       "      <td>0.046112</td>\n",
       "    </tr>\n",
       "    <tr>\n",
       "      <th>13113</th>\n",
       "      <td>0.053986</td>\n",
       "      <td>0.046112</td>\n",
       "    </tr>\n",
       "  </tbody>\n",
       "</table>\n",
       "</div>"
      ],
      "text/plain": [
       "       Bioagressor   Disease\n",
       "13109  0.093689     0.829590\n",
       "13110  0.110107     0.860352\n",
       "13111  0.054504     0.045593\n",
       "13112  0.054291     0.046112\n",
       "13113  0.053986     0.046112"
      ]
     },
     "execution_count": 141,
     "metadata": {},
     "output_type": "execute_result"
    }
   ],
   "source": [
    "df_y_pred = pd.DataFrame(list_y_pred, columns =['bioagressor', 'disease']) \n",
    "df_y_pred = df_y_pred.rename(columns={\"bioagressor\": \"Bioagressor\", \"disease\": \"Disease\"})\n",
    "df_y_pred.tail()"
   ]
  },
  {
   "cell_type": "code",
   "execution_count": 142,
   "metadata": {},
   "outputs": [
    {
     "data": {
      "text/html": [
       "<div>\n",
       "<style scoped>\n",
       "    .dataframe tbody tr th:only-of-type {\n",
       "        vertical-align: middle;\n",
       "    }\n",
       "\n",
       "    .dataframe tbody tr th {\n",
       "        vertical-align: top;\n",
       "    }\n",
       "\n",
       "    .dataframe thead th {\n",
       "        text-align: right;\n",
       "    }\n",
       "</style>\n",
       "<table border=\"1\" class=\"dataframe\">\n",
       "  <thead>\n",
       "    <tr style=\"text-align: right;\">\n",
       "      <th></th>\n",
       "      <th>Bioagressor</th>\n",
       "      <th>Disease</th>\n",
       "    </tr>\n",
       "  </thead>\n",
       "  <tbody>\n",
       "    <tr>\n",
       "      <th>count</th>\n",
       "      <td>13114.000000</td>\n",
       "      <td>13114.000000</td>\n",
       "    </tr>\n",
       "    <tr>\n",
       "      <th>mean</th>\n",
       "      <td>0.405534</td>\n",
       "      <td>0.267286</td>\n",
       "    </tr>\n",
       "    <tr>\n",
       "      <th>std</th>\n",
       "      <td>0.384451</td>\n",
       "      <td>0.342006</td>\n",
       "    </tr>\n",
       "    <tr>\n",
       "      <th>min</th>\n",
       "      <td>0.032837</td>\n",
       "      <td>0.021988</td>\n",
       "    </tr>\n",
       "    <tr>\n",
       "      <th>25%</th>\n",
       "      <td>0.054596</td>\n",
       "      <td>0.045776</td>\n",
       "    </tr>\n",
       "    <tr>\n",
       "      <th>50%</th>\n",
       "      <td>0.149841</td>\n",
       "      <td>0.063843</td>\n",
       "    </tr>\n",
       "    <tr>\n",
       "      <th>75%</th>\n",
       "      <td>0.866211</td>\n",
       "      <td>0.487610</td>\n",
       "    </tr>\n",
       "    <tr>\n",
       "      <th>max</th>\n",
       "      <td>0.958008</td>\n",
       "      <td>0.958008</td>\n",
       "    </tr>\n",
       "  </tbody>\n",
       "</table>\n",
       "</div>"
      ],
      "text/plain": [
       "        Bioagressor       Disease\n",
       "count  13114.000000  13114.000000\n",
       "mean   0.405534      0.267286    \n",
       "std    0.384451      0.342006    \n",
       "min    0.032837      0.021988    \n",
       "25%    0.054596      0.045776    \n",
       "50%    0.149841      0.063843    \n",
       "75%    0.866211      0.487610    \n",
       "max    0.958008      0.958008    "
      ]
     },
     "execution_count": 142,
     "metadata": {},
     "output_type": "execute_result"
    }
   ],
   "source": [
    "df_y_pred.describe()"
   ]
  },
  {
   "cell_type": "code",
   "execution_count": 143,
   "metadata": {},
   "outputs": [
    {
     "data": {
      "text/html": [
       "<div>\n",
       "<style scoped>\n",
       "    .dataframe tbody tr th:only-of-type {\n",
       "        vertical-align: middle;\n",
       "    }\n",
       "\n",
       "    .dataframe tbody tr th {\n",
       "        vertical-align: top;\n",
       "    }\n",
       "\n",
       "    .dataframe thead th {\n",
       "        text-align: right;\n",
       "    }\n",
       "</style>\n",
       "<table border=\"1\" class=\"dataframe\">\n",
       "  <thead>\n",
       "    <tr style=\"text-align: right;\">\n",
       "      <th></th>\n",
       "      <th>Bioagressor</th>\n",
       "      <th>Disease</th>\n",
       "    </tr>\n",
       "  </thead>\n",
       "  <tbody>\n",
       "    <tr>\n",
       "      <th>13109</th>\n",
       "      <td>0</td>\n",
       "      <td>1</td>\n",
       "    </tr>\n",
       "    <tr>\n",
       "      <th>13110</th>\n",
       "      <td>0</td>\n",
       "      <td>1</td>\n",
       "    </tr>\n",
       "    <tr>\n",
       "      <th>13111</th>\n",
       "      <td>0</td>\n",
       "      <td>0</td>\n",
       "    </tr>\n",
       "    <tr>\n",
       "      <th>13112</th>\n",
       "      <td>0</td>\n",
       "      <td>0</td>\n",
       "    </tr>\n",
       "    <tr>\n",
       "      <th>13113</th>\n",
       "      <td>0</td>\n",
       "      <td>0</td>\n",
       "    </tr>\n",
       "  </tbody>\n",
       "</table>\n",
       "</div>"
      ],
      "text/plain": [
       "       Bioagressor  Disease\n",
       "13109  0            1      \n",
       "13110  0            1      \n",
       "13111  0            0      \n",
       "13112  0            0      \n",
       "13113  0            0      "
      ]
     },
     "execution_count": 143,
     "metadata": {},
     "output_type": "execute_result"
    }
   ],
   "source": [
    "df_y_real = pd.DataFrame(df_val, columns=['Bioagressor', 'Disease'])\n",
    "df_y_real.tail()"
   ]
  },
  {
   "cell_type": "code",
   "execution_count": 144,
   "metadata": {},
   "outputs": [
    {
     "data": {
      "text/html": [
       "<div>\n",
       "<style scoped>\n",
       "    .dataframe tbody tr th:only-of-type {\n",
       "        vertical-align: middle;\n",
       "    }\n",
       "\n",
       "    .dataframe tbody tr th {\n",
       "        vertical-align: top;\n",
       "    }\n",
       "\n",
       "    .dataframe thead th {\n",
       "        text-align: right;\n",
       "    }\n",
       "</style>\n",
       "<table border=\"1\" class=\"dataframe\">\n",
       "  <thead>\n",
       "    <tr style=\"text-align: right;\">\n",
       "      <th></th>\n",
       "      <th>Bioagressor</th>\n",
       "      <th>Disease</th>\n",
       "    </tr>\n",
       "  </thead>\n",
       "  <tbody>\n",
       "    <tr>\n",
       "      <th>count</th>\n",
       "      <td>13114.000000</td>\n",
       "      <td>13114.000000</td>\n",
       "    </tr>\n",
       "    <tr>\n",
       "      <th>mean</th>\n",
       "      <td>0.376849</td>\n",
       "      <td>0.227696</td>\n",
       "    </tr>\n",
       "    <tr>\n",
       "      <th>std</th>\n",
       "      <td>0.484615</td>\n",
       "      <td>0.419361</td>\n",
       "    </tr>\n",
       "    <tr>\n",
       "      <th>min</th>\n",
       "      <td>0.000000</td>\n",
       "      <td>0.000000</td>\n",
       "    </tr>\n",
       "    <tr>\n",
       "      <th>25%</th>\n",
       "      <td>0.000000</td>\n",
       "      <td>0.000000</td>\n",
       "    </tr>\n",
       "    <tr>\n",
       "      <th>50%</th>\n",
       "      <td>0.000000</td>\n",
       "      <td>0.000000</td>\n",
       "    </tr>\n",
       "    <tr>\n",
       "      <th>75%</th>\n",
       "      <td>1.000000</td>\n",
       "      <td>0.000000</td>\n",
       "    </tr>\n",
       "    <tr>\n",
       "      <th>max</th>\n",
       "      <td>1.000000</td>\n",
       "      <td>1.000000</td>\n",
       "    </tr>\n",
       "  </tbody>\n",
       "</table>\n",
       "</div>"
      ],
      "text/plain": [
       "        Bioagressor       Disease\n",
       "count  13114.000000  13114.000000\n",
       "mean   0.376849      0.227696    \n",
       "std    0.484615      0.419361    \n",
       "min    0.000000      0.000000    \n",
       "25%    0.000000      0.000000    \n",
       "50%    0.000000      0.000000    \n",
       "75%    1.000000      0.000000    \n",
       "max    1.000000      1.000000    "
      ]
     },
     "execution_count": 144,
     "metadata": {},
     "output_type": "execute_result"
    }
   ],
   "source": [
    "df_y_real.describe()"
   ]
  },
  {
   "cell_type": "code",
   "execution_count": 145,
   "metadata": {},
   "outputs": [],
   "source": [
    "import numpy as np\n",
    "from sklearn.metrics import f1_score, recall_score, precision_score, accuracy_score"
   ]
  },
  {
   "cell_type": "code",
   "execution_count": 146,
   "metadata": {},
   "outputs": [
    {
     "data": {
      "text/plain": [
       "array([0.80314077, 0.7771973 ])"
      ]
     },
     "execution_count": 146,
     "metadata": {},
     "output_type": "execute_result"
    }
   ],
   "source": [
    "precision_score(y_true=df_y_real.values, y_pred=df_y_pred.values > 0.5,average=None) #If None, the scores for each class are returned"
   ]
  },
  {
   "cell_type": "code",
   "execution_count": 147,
   "metadata": {},
   "outputs": [
    {
     "data": {
      "text/plain": [
       "0.7933694285773337"
      ]
     },
     "execution_count": 147,
     "metadata": {},
     "output_type": "execute_result"
    }
   ],
   "source": [
    "precision_score(y_true=df_y_real.values, y_pred=df_y_pred.values > 0.5, average='weighted')"
   ]
  },
  {
   "cell_type": "code",
   "execution_count": 148,
   "metadata": {},
   "outputs": [
    {
     "data": {
      "text/plain": [
       "array([0.86928369, 0.84695244])"
      ]
     },
     "execution_count": 148,
     "metadata": {},
     "output_type": "execute_result"
    }
   ],
   "source": [
    "recall_score(y_true=df_y_real.values, y_pred=df_y_pred.values > 0.5,average=None)"
   ]
  },
  {
   "cell_type": "code",
   "execution_count": 149,
   "metadata": {},
   "outputs": [
    {
     "data": {
      "text/plain": [
       "0.8608728557013118"
      ]
     },
     "execution_count": 149,
     "metadata": {},
     "output_type": "execute_result"
    }
   ],
   "source": [
    "recall_score(y_true=df_y_real.values, y_pred=df_y_pred.values > 0.5,average='weighted')"
   ]
  },
  {
   "cell_type": "code",
   "execution_count": 150,
   "metadata": {},
   "outputs": [
    {
     "data": {
      "text/plain": [
       "array([0.83490429, 0.81057692])"
      ]
     },
     "execution_count": 150,
     "metadata": {},
     "output_type": "execute_result"
    }
   ],
   "source": [
    "f1_score(y_true=df_y_real.values, y_pred=df_y_pred.values > 0.5,average=None)"
   ]
  },
  {
   "cell_type": "code",
   "execution_count": 151,
   "metadata": {},
   "outputs": [
    {
     "data": {
      "text/plain": [
       "0.8257416334825408"
      ]
     },
     "execution_count": 151,
     "metadata": {},
     "output_type": "execute_result"
    }
   ],
   "source": [
    "f1_score(y_true=df_y_real.values, y_pred=df_y_pred.values > 0.5,average='weighted')"
   ]
  },
  {
   "cell_type": "code",
   "execution_count": 152,
   "metadata": {},
   "outputs": [
    {
     "data": {
      "text/plain": [
       "0.7952569772761934"
      ]
     },
     "execution_count": 152,
     "metadata": {},
     "output_type": "execute_result"
    }
   ],
   "source": [
    "accuracy_score(y_true=df_y_real.values, y_pred=df_y_pred.values > 0.5)"
   ]
  },
  {
   "cell_type": "code",
   "execution_count": 153,
   "metadata": {},
   "outputs": [
    {
     "data": {
      "text/plain": [
       "0.8704438005185298"
      ]
     },
     "execution_count": 153,
     "metadata": {},
     "output_type": "execute_result"
    }
   ],
   "source": [
    "accuracy_score(y_true=df_y_real.Bioagressor.values, y_pred=df_y_pred.Bioagressor.values > 0.5)\n"
   ]
  },
  {
   "cell_type": "code",
   "execution_count": 154,
   "metadata": {},
   "outputs": [
    {
     "data": {
      "text/plain": [
       "0.9098673173707488"
      ]
     },
     "execution_count": 154,
     "metadata": {},
     "output_type": "execute_result"
    }
   ],
   "source": [
    "accuracy_score(y_true=df_y_real.Disease.values, y_pred=df_y_pred.Disease.values > 0.5 )\n"
   ]
  },
  {
   "cell_type": "code",
   "execution_count": 155,
   "metadata": {},
   "outputs": [
    {
     "data": {
      "text/plain": [
       "array([0.82784661, 0.80852299])"
      ]
     },
     "execution_count": 155,
     "metadata": {},
     "output_type": "execute_result"
    }
   ],
   "source": [
    "from sklearn.metrics import average_precision_score\n",
    "average_precision_score(df_y_real.values, df_y_pred.values, average=None)"
   ]
  },
  {
   "cell_type": "code",
   "execution_count": 156,
   "metadata": {},
   "outputs": [
    {
     "data": {
      "text/plain": [
       "0.820568569928822"
      ]
     },
     "execution_count": 156,
     "metadata": {},
     "output_type": "execute_result"
    }
   ],
   "source": [
    "from sklearn.metrics import average_precision_score\n",
    "average_precision_score(df_y_real.values, df_y_pred.values, average='weighted')"
   ]
  },
  {
   "cell_type": "code",
   "execution_count": 157,
   "metadata": {},
   "outputs": [],
   "source": [
    "df_results = pd.concat([df_val, df_y_pred > 0.5], axis=1, ignore_index=True)"
   ]
  },
  {
   "cell_type": "code",
   "execution_count": 158,
   "metadata": {},
   "outputs": [],
   "source": [
    "df_results.to_csv('predictions_camembert-base.csv')"
   ]
  },
  {
   "cell_type": "code",
   "execution_count": null,
   "metadata": {},
   "outputs": [],
   "source": []
  },
  {
   "cell_type": "code",
   "execution_count": null,
   "metadata": {},
   "outputs": [],
   "source": []
  }
 ],
 "metadata": {
  "kernelspec": {
   "display_name": "Python 3",
   "language": "python",
   "name": "python3"
  },
  "language_info": {
   "codemirror_mode": {
    "name": "ipython",
    "version": 3
   },
   "file_extension": ".py",
   "mimetype": "text/x-python",
   "name": "python",
   "nbconvert_exporter": "python",
   "pygments_lexer": "ipython3",
   "version": "3.8.8"
  }
 },
 "nbformat": 4,
 "nbformat_minor": 4
}
